{
 "cells": [
  {
   "cell_type": "markdown",
   "metadata": {},
   "source": [
    "## Проект: вариант 1\n",
    "\n",
    "Представьте, что вы работаете в компании, которая разрабатывает мобильные игры. К вам пришел менеджер с рядом задач по исследованию нескольких аспектов мобильного приложения:\n",
    "\n",
    "1. В первую очередь, его интересует показатель retention. Напишите функцию для его подсчета.\n",
    "\n",
    "2. Помимо этого, в компании провели A/B тестирование наборов акционных предложений. На основе имеющихся данных определите, какой набор можно считать лучшим и на основе каких метрик стоит принять правильное решение.\n",
    "\n",
    "3. Предложите метрики для оценки результатов последнего прошедшего тематического события в игре."
   ]
  },
  {
   "cell_type": "code",
   "execution_count": 1,
   "metadata": {},
   "outputs": [],
   "source": [
    "# Импортируем библиотеки\n",
    "import pandas as pd\n",
    "import numpy as np\n",
    "import seaborn as sns\n",
    "import matplotlib.pyplot as plt\n",
    "import scipy\n",
    "import scipy.stats as ss\n",
    "from scipy.stats import chi2_contingency\n",
    "import pingouin as pg\n",
    "import requests \n",
    "from urllib.parse import urlencode \n",
    "from tqdm.auto import tqdm\n",
    "\n",
    "sns.set(rc={'figure.figsize':(12,6)}, style=\"whitegrid\")"
   ]
  },
  {
   "cell_type": "markdown",
   "metadata": {},
   "source": [
    "### Задание 1\n",
    "Retention – один из самых важных показателей в компании. Ваша задача – написать функцию, которая будет считать retention игроков (по дням от даты регистрации игрока)."
   ]
  },
  {
   "cell_type": "code",
   "execution_count": 2,
   "metadata": {},
   "outputs": [
    {
     "name": "stderr",
     "output_type": "stream",
     "text": [
      "/opt/tljh/user/lib/python3.7/site-packages/outdated/utils.py:18: OutdatedCacheFailedWarning: Failed to use cache while checking for outdated package.\n",
      "Set the environment variable OUTDATED_RAISE_EXCEPTION=1 for a full traceback.\n",
      "Set the environment variable OUTDATED_IGNORE=1 to disable these warnings.\n",
      "  **kwargs\n",
      "/opt/tljh/user/lib/python3.7/site-packages/outdated/utils.py:18: OutdatedPackageWarning: The package pingouin is out of date. Your version is 0.4.0, the latest is 0.5.4.\n",
      "Set the environment variable OUTDATED_IGNORE=1 to disable these warnings.\n",
      "  **kwargs\n",
      "/opt/tljh/user/lib/python3.7/site-packages/outdated/utils.py:18: OutdatedPackageWarning: The package outdated is out of date. Your version is 0.2.1, the latest is 0.2.2.\n",
      "Set the environment variable OUTDATED_IGNORE=1 to disable these warnings.\n",
      "  **kwargs\n"
     ]
    }
   ],
   "source": [
    "# Считываем данные\n",
    "reg_data = pd.read_csv('~/shared/problem1-reg_data.csv', sep = ';')\n",
    "auth_data = pd.read_csv('~/shared/problem1-auth_data.csv', sep = ';')"
   ]
  },
  {
   "cell_type": "code",
   "execution_count": 3,
   "metadata": {},
   "outputs": [
    {
     "data": {
      "text/html": [
       "<div>\n",
       "<style scoped>\n",
       "    .dataframe tbody tr th:only-of-type {\n",
       "        vertical-align: middle;\n",
       "    }\n",
       "\n",
       "    .dataframe tbody tr th {\n",
       "        vertical-align: top;\n",
       "    }\n",
       "\n",
       "    .dataframe thead th {\n",
       "        text-align: right;\n",
       "    }\n",
       "</style>\n",
       "<table border=\"1\" class=\"dataframe\">\n",
       "  <thead>\n",
       "    <tr style=\"text-align: right;\">\n",
       "      <th></th>\n",
       "      <th>reg_ts</th>\n",
       "      <th>uid</th>\n",
       "    </tr>\n",
       "  </thead>\n",
       "  <tbody>\n",
       "    <tr>\n",
       "      <th>0</th>\n",
       "      <td>911382223</td>\n",
       "      <td>1</td>\n",
       "    </tr>\n",
       "    <tr>\n",
       "      <th>1</th>\n",
       "      <td>932683089</td>\n",
       "      <td>2</td>\n",
       "    </tr>\n",
       "    <tr>\n",
       "      <th>2</th>\n",
       "      <td>947802447</td>\n",
       "      <td>3</td>\n",
       "    </tr>\n",
       "    <tr>\n",
       "      <th>3</th>\n",
       "      <td>959523541</td>\n",
       "      <td>4</td>\n",
       "    </tr>\n",
       "    <tr>\n",
       "      <th>4</th>\n",
       "      <td>969103313</td>\n",
       "      <td>5</td>\n",
       "    </tr>\n",
       "  </tbody>\n",
       "</table>\n",
       "</div>"
      ],
      "text/plain": [
       "      reg_ts  uid\n",
       "0  911382223    1\n",
       "1  932683089    2\n",
       "2  947802447    3\n",
       "3  959523541    4\n",
       "4  969103313    5"
      ]
     },
     "execution_count": 3,
     "metadata": {},
     "output_type": "execute_result"
    }
   ],
   "source": [
    "reg_data.head()"
   ]
  },
  {
   "cell_type": "code",
   "execution_count": 4,
   "metadata": {},
   "outputs": [
    {
     "name": "stdout",
     "output_type": "stream",
     "text": [
      "<class 'pandas.core.frame.DataFrame'>\n",
      "RangeIndex: 1000000 entries, 0 to 999999\n",
      "Data columns (total 2 columns):\n",
      " #   Column  Non-Null Count    Dtype\n",
      "---  ------  --------------    -----\n",
      " 0   reg_ts  1000000 non-null  int64\n",
      " 1   uid     1000000 non-null  int64\n",
      "dtypes: int64(2)\n",
      "memory usage: 15.3 MB\n"
     ]
    }
   ],
   "source": [
    "reg_data.info() "
   ]
  },
  {
   "cell_type": "code",
   "execution_count": 5,
   "metadata": {},
   "outputs": [
    {
     "data": {
      "text/plain": [
       "reg_ts    0\n",
       "uid       0\n",
       "dtype: int64"
      ]
     },
     "execution_count": 5,
     "metadata": {},
     "output_type": "execute_result"
    }
   ],
   "source": [
    "reg_data.isna().sum() # пропусков нет"
   ]
  },
  {
   "cell_type": "code",
   "execution_count": 6,
   "metadata": {},
   "outputs": [
    {
     "data": {
      "text/plain": [
       "0"
      ]
     },
     "execution_count": 6,
     "metadata": {},
     "output_type": "execute_result"
    }
   ],
   "source": [
    "reg_data.duplicated().sum() # дубликатов нет"
   ]
  },
  {
   "cell_type": "code",
   "execution_count": 7,
   "metadata": {},
   "outputs": [
    {
     "data": {
      "text/html": [
       "<div>\n",
       "<style scoped>\n",
       "    .dataframe tbody tr th:only-of-type {\n",
       "        vertical-align: middle;\n",
       "    }\n",
       "\n",
       "    .dataframe tbody tr th {\n",
       "        vertical-align: top;\n",
       "    }\n",
       "\n",
       "    .dataframe thead th {\n",
       "        text-align: right;\n",
       "    }\n",
       "</style>\n",
       "<table border=\"1\" class=\"dataframe\">\n",
       "  <thead>\n",
       "    <tr style=\"text-align: right;\">\n",
       "      <th></th>\n",
       "      <th>auth_ts</th>\n",
       "      <th>uid</th>\n",
       "    </tr>\n",
       "  </thead>\n",
       "  <tbody>\n",
       "    <tr>\n",
       "      <th>0</th>\n",
       "      <td>911382223</td>\n",
       "      <td>1</td>\n",
       "    </tr>\n",
       "    <tr>\n",
       "      <th>1</th>\n",
       "      <td>932683089</td>\n",
       "      <td>2</td>\n",
       "    </tr>\n",
       "    <tr>\n",
       "      <th>2</th>\n",
       "      <td>932921206</td>\n",
       "      <td>2</td>\n",
       "    </tr>\n",
       "    <tr>\n",
       "      <th>3</th>\n",
       "      <td>933393015</td>\n",
       "      <td>2</td>\n",
       "    </tr>\n",
       "    <tr>\n",
       "      <th>4</th>\n",
       "      <td>933875379</td>\n",
       "      <td>2</td>\n",
       "    </tr>\n",
       "  </tbody>\n",
       "</table>\n",
       "</div>"
      ],
      "text/plain": [
       "     auth_ts  uid\n",
       "0  911382223    1\n",
       "1  932683089    2\n",
       "2  932921206    2\n",
       "3  933393015    2\n",
       "4  933875379    2"
      ]
     },
     "execution_count": 7,
     "metadata": {},
     "output_type": "execute_result"
    }
   ],
   "source": [
    "auth_data.head()"
   ]
  },
  {
   "cell_type": "code",
   "execution_count": 8,
   "metadata": {},
   "outputs": [
    {
     "name": "stdout",
     "output_type": "stream",
     "text": [
      "<class 'pandas.core.frame.DataFrame'>\n",
      "RangeIndex: 9601013 entries, 0 to 9601012\n",
      "Data columns (total 2 columns):\n",
      " #   Column   Dtype\n",
      "---  ------   -----\n",
      " 0   auth_ts  int64\n",
      " 1   uid      int64\n",
      "dtypes: int64(2)\n",
      "memory usage: 146.5 MB\n"
     ]
    }
   ],
   "source": [
    "auth_data.info()"
   ]
  },
  {
   "cell_type": "code",
   "execution_count": 9,
   "metadata": {},
   "outputs": [
    {
     "data": {
      "text/plain": [
       "auth_ts    0\n",
       "uid        0\n",
       "dtype: int64"
      ]
     },
     "execution_count": 9,
     "metadata": {},
     "output_type": "execute_result"
    }
   ],
   "source": [
    "auth_data.isna().sum() # пропусков нет"
   ]
  },
  {
   "cell_type": "code",
   "execution_count": 10,
   "metadata": {},
   "outputs": [
    {
     "data": {
      "text/plain": [
       "0"
      ]
     },
     "execution_count": 10,
     "metadata": {},
     "output_type": "execute_result"
    }
   ],
   "source": [
    "auth_data.duplicated().sum() # дубликатов нет"
   ]
  },
  {
   "cell_type": "code",
   "execution_count": 11,
   "metadata": {},
   "outputs": [
    {
     "name": "stdout",
     "output_type": "stream",
     "text": [
      "Число уникальных пользователей при регистрации: 1000000\n",
      "Число уникальных пользователей, заходивших в игру: 1000000\n"
     ]
    }
   ],
   "source": [
    "# Найдем число уникальных пользователей в обоих таблицах\n",
    "print(f'Число уникальных пользователей при регистрации: {reg_data[\"uid\"].nunique()}\\n\\\n",
    "Число уникальных пользователей, заходивших в игру: {auth_data[\"uid\"].nunique()}')"
   ]
  },
  {
   "cell_type": "markdown",
   "metadata": {},
   "source": [
    "Число уникальных значений совпадает, следовательно незарегистрированных пользователей в игре не было."
   ]
  },
  {
   "cell_type": "markdown",
   "metadata": {},
   "source": [
    "Так как даты в колонках reg_ts и auth_ts предствалены в формате unix time stamp, стоит преобразовать их в более читабельный формат."
   ]
  },
  {
   "cell_type": "code",
   "execution_count": 12,
   "metadata": {},
   "outputs": [],
   "source": [
    "reg_data['reg_ts'] = pd.to_datetime(reg_data['reg_ts'], unit='s').dt.date"
   ]
  },
  {
   "cell_type": "code",
   "execution_count": 13,
   "metadata": {},
   "outputs": [],
   "source": [
    "auth_data['auth_ts'] = pd.to_datetime(auth_data['auth_ts'], unit='s').dt.date"
   ]
  },
  {
   "cell_type": "code",
   "execution_count": 14,
   "metadata": {},
   "outputs": [
    {
     "data": {
      "text/html": [
       "<div>\n",
       "<style scoped>\n",
       "    .dataframe tbody tr th:only-of-type {\n",
       "        vertical-align: middle;\n",
       "    }\n",
       "\n",
       "    .dataframe tbody tr th {\n",
       "        vertical-align: top;\n",
       "    }\n",
       "\n",
       "    .dataframe thead th {\n",
       "        text-align: right;\n",
       "    }\n",
       "</style>\n",
       "<table border=\"1\" class=\"dataframe\">\n",
       "  <thead>\n",
       "    <tr style=\"text-align: right;\">\n",
       "      <th></th>\n",
       "      <th>reg_ts</th>\n",
       "      <th>uid</th>\n",
       "    </tr>\n",
       "  </thead>\n",
       "  <tbody>\n",
       "    <tr>\n",
       "      <th>0</th>\n",
       "      <td>1998-11-18</td>\n",
       "      <td>1</td>\n",
       "    </tr>\n",
       "    <tr>\n",
       "      <th>1</th>\n",
       "      <td>1999-07-22</td>\n",
       "      <td>2</td>\n",
       "    </tr>\n",
       "    <tr>\n",
       "      <th>2</th>\n",
       "      <td>2000-01-13</td>\n",
       "      <td>3</td>\n",
       "    </tr>\n",
       "    <tr>\n",
       "      <th>3</th>\n",
       "      <td>2000-05-28</td>\n",
       "      <td>4</td>\n",
       "    </tr>\n",
       "    <tr>\n",
       "      <th>4</th>\n",
       "      <td>2000-09-16</td>\n",
       "      <td>5</td>\n",
       "    </tr>\n",
       "  </tbody>\n",
       "</table>\n",
       "</div>"
      ],
      "text/plain": [
       "       reg_ts  uid\n",
       "0  1998-11-18    1\n",
       "1  1999-07-22    2\n",
       "2  2000-01-13    3\n",
       "3  2000-05-28    4\n",
       "4  2000-09-16    5"
      ]
     },
     "execution_count": 14,
     "metadata": {},
     "output_type": "execute_result"
    }
   ],
   "source": [
    "reg_data.head()"
   ]
  },
  {
   "cell_type": "code",
   "execution_count": 15,
   "metadata": {},
   "outputs": [
    {
     "data": {
      "text/html": [
       "<div>\n",
       "<style scoped>\n",
       "    .dataframe tbody tr th:only-of-type {\n",
       "        vertical-align: middle;\n",
       "    }\n",
       "\n",
       "    .dataframe tbody tr th {\n",
       "        vertical-align: top;\n",
       "    }\n",
       "\n",
       "    .dataframe thead th {\n",
       "        text-align: right;\n",
       "    }\n",
       "</style>\n",
       "<table border=\"1\" class=\"dataframe\">\n",
       "  <thead>\n",
       "    <tr style=\"text-align: right;\">\n",
       "      <th></th>\n",
       "      <th>auth_ts</th>\n",
       "      <th>uid</th>\n",
       "    </tr>\n",
       "  </thead>\n",
       "  <tbody>\n",
       "    <tr>\n",
       "      <th>0</th>\n",
       "      <td>1998-11-18</td>\n",
       "      <td>1</td>\n",
       "    </tr>\n",
       "    <tr>\n",
       "      <th>1</th>\n",
       "      <td>1999-07-22</td>\n",
       "      <td>2</td>\n",
       "    </tr>\n",
       "    <tr>\n",
       "      <th>2</th>\n",
       "      <td>1999-07-25</td>\n",
       "      <td>2</td>\n",
       "    </tr>\n",
       "    <tr>\n",
       "      <th>3</th>\n",
       "      <td>1999-07-31</td>\n",
       "      <td>2</td>\n",
       "    </tr>\n",
       "    <tr>\n",
       "      <th>4</th>\n",
       "      <td>1999-08-05</td>\n",
       "      <td>2</td>\n",
       "    </tr>\n",
       "  </tbody>\n",
       "</table>\n",
       "</div>"
      ],
      "text/plain": [
       "      auth_ts  uid\n",
       "0  1998-11-18    1\n",
       "1  1999-07-22    2\n",
       "2  1999-07-25    2\n",
       "3  1999-07-31    2\n",
       "4  1999-08-05    2"
      ]
     },
     "execution_count": 15,
     "metadata": {},
     "output_type": "execute_result"
    }
   ],
   "source": [
    "auth_data.head()"
   ]
  },
  {
   "cell_type": "code",
   "execution_count": 16,
   "metadata": {},
   "outputs": [
    {
     "data": {
      "text/plain": [
       "datetime.date(1998, 11, 18)"
      ]
     },
     "execution_count": 16,
     "metadata": {},
     "output_type": "execute_result"
    }
   ],
   "source": [
    "# Минимальная дата регистрации\n",
    "reg_data['reg_ts'].min()"
   ]
  },
  {
   "cell_type": "code",
   "execution_count": 17,
   "metadata": {},
   "outputs": [
    {
     "data": {
      "text/plain": [
       "datetime.date(2020, 9, 23)"
      ]
     },
     "execution_count": 17,
     "metadata": {},
     "output_type": "execute_result"
    }
   ],
   "source": [
    "# Максимальная дата авторизации\n",
    "auth_data['auth_ts'].max()"
   ]
  },
  {
   "cell_type": "code",
   "execution_count": 78,
   "metadata": {},
   "outputs": [],
   "source": [
    "def retention(reg_data, auth_data, start_date, end_date):\n",
    "    \n",
    "    # Приводим параметры start_date и end_date во временной формат\n",
    "    start_date = pd.to_datetime(start_date)\n",
    "    end_date = pd.to_datetime(end_date)\n",
    "    \n",
    "    # Объединяем таблицы, с условием, что дата регистрации больше начальной даты и дата авторизации меньше конечной даты\n",
    "    data = reg_data.merge(auth_data, on='uid').query('reg_ts >= @start_date and auth_ts <= @end_date')\n",
    "    \n",
    "    # Приводим колонки времени к формату даты\n",
    "    data['reg_ts'] = pd.to_datetime(data['reg_ts']).dt.date\n",
    "    data['auth_ts'] = pd.to_datetime(data['auth_ts']).dt.date\n",
    "    \n",
    "    # Считаем разницу между датой регистрации и датой авторизации в днях\n",
    "    data['days_since_registration'] = (data['auth_ts'] - data['reg_ts']).dt.days\n",
    "    \n",
    "    # Формируем когорты по дате регистрации\n",
    "    cohorts = data.groupby(['reg_ts', 'days_since_registration'], as_index=False)\\\n",
    "    .uid.nunique().rename(columns={'reg_ts': 'cohort'})\n",
    "    \n",
    "    # Переформатируем таблицу, оставив в индексах когорту, названия колонок заменим на количество дней с момента регистрации,\n",
    "    # и заполним таблицу количеством уникальных пользователей\n",
    "    retention_rate = cohorts.pivot(index='cohort', columns='days_since_registration', values='uid')\n",
    "    \n",
    "    # Считаем Retention Rate = доли возврата от первоначального размера когорты\n",
    "    retention_rate = retention_rate.div(retention_rate.iloc[:,0], axis = 0)\n",
    "    \n",
    "    # Визуализируем данные о retention_rate\n",
    "    ur_style = (retention_rate\n",
    "            .style\n",
    "            .set_caption('User retention by cohort')  # добавляем подпись\n",
    "            .background_gradient(cmap='viridis')  # раскрашиваем ячейки по столбцам\n",
    "            .highlight_null('white')  # делаем белый фон для значений NaN\n",
    "            .format(\"{:.2%}\", na_rep=\"\"))  # числа форматируем как проценты, NaN заменяем на пустоту\n",
    "    return ur_style\n",
    "    "
   ]
  },
  {
   "cell_type": "markdown",
   "metadata": {},
   "source": [
    "Тестируем функцию retention"
   ]
  },
  {
   "cell_type": "code",
   "execution_count": 79,
   "metadata": {},
   "outputs": [
    {
     "data": {
      "text/html": [
       "<style  type=\"text/css\" >\n",
       "#T_26d3531c_54a6_11ef_bdbb_96000040dfb6row0_col0,#T_26d3531c_54a6_11ef_bdbb_96000040dfb6row0_col26,#T_26d3531c_54a6_11ef_bdbb_96000040dfb6row0_col28,#T_26d3531c_54a6_11ef_bdbb_96000040dfb6row0_col29,#T_26d3531c_54a6_11ef_bdbb_96000040dfb6row0_col30,#T_26d3531c_54a6_11ef_bdbb_96000040dfb6row1_col0,#T_26d3531c_54a6_11ef_bdbb_96000040dfb6row1_col27,#T_26d3531c_54a6_11ef_bdbb_96000040dfb6row2_col0,#T_26d3531c_54a6_11ef_bdbb_96000040dfb6row2_col23,#T_26d3531c_54a6_11ef_bdbb_96000040dfb6row3_col0,#T_26d3531c_54a6_11ef_bdbb_96000040dfb6row3_col14,#T_26d3531c_54a6_11ef_bdbb_96000040dfb6row3_col19,#T_26d3531c_54a6_11ef_bdbb_96000040dfb6row3_col22,#T_26d3531c_54a6_11ef_bdbb_96000040dfb6row3_col24,#T_26d3531c_54a6_11ef_bdbb_96000040dfb6row4_col0,#T_26d3531c_54a6_11ef_bdbb_96000040dfb6row4_col15,#T_26d3531c_54a6_11ef_bdbb_96000040dfb6row4_col16,#T_26d3531c_54a6_11ef_bdbb_96000040dfb6row4_col21,#T_26d3531c_54a6_11ef_bdbb_96000040dfb6row4_col25,#T_26d3531c_54a6_11ef_bdbb_96000040dfb6row5_col0,#T_26d3531c_54a6_11ef_bdbb_96000040dfb6row6_col0,#T_26d3531c_54a6_11ef_bdbb_96000040dfb6row6_col2,#T_26d3531c_54a6_11ef_bdbb_96000040dfb6row6_col20,#T_26d3531c_54a6_11ef_bdbb_96000040dfb6row7_col0,#T_26d3531c_54a6_11ef_bdbb_96000040dfb6row7_col12,#T_26d3531c_54a6_11ef_bdbb_96000040dfb6row8_col0,#T_26d3531c_54a6_11ef_bdbb_96000040dfb6row9_col0,#T_26d3531c_54a6_11ef_bdbb_96000040dfb6row10_col0,#T_26d3531c_54a6_11ef_bdbb_96000040dfb6row11_col0,#T_26d3531c_54a6_11ef_bdbb_96000040dfb6row11_col3,#T_26d3531c_54a6_11ef_bdbb_96000040dfb6row11_col4,#T_26d3531c_54a6_11ef_bdbb_96000040dfb6row11_col5,#T_26d3531c_54a6_11ef_bdbb_96000040dfb6row11_col9,#T_26d3531c_54a6_11ef_bdbb_96000040dfb6row11_col11,#T_26d3531c_54a6_11ef_bdbb_96000040dfb6row11_col13,#T_26d3531c_54a6_11ef_bdbb_96000040dfb6row11_col17,#T_26d3531c_54a6_11ef_bdbb_96000040dfb6row11_col18,#T_26d3531c_54a6_11ef_bdbb_96000040dfb6row12_col0,#T_26d3531c_54a6_11ef_bdbb_96000040dfb6row13_col0,#T_26d3531c_54a6_11ef_bdbb_96000040dfb6row13_col1,#T_26d3531c_54a6_11ef_bdbb_96000040dfb6row13_col10,#T_26d3531c_54a6_11ef_bdbb_96000040dfb6row14_col0,#T_26d3531c_54a6_11ef_bdbb_96000040dfb6row15_col0,#T_26d3531c_54a6_11ef_bdbb_96000040dfb6row15_col7,#T_26d3531c_54a6_11ef_bdbb_96000040dfb6row15_col8,#T_26d3531c_54a6_11ef_bdbb_96000040dfb6row16_col0,#T_26d3531c_54a6_11ef_bdbb_96000040dfb6row17_col0,#T_26d3531c_54a6_11ef_bdbb_96000040dfb6row18_col0,#T_26d3531c_54a6_11ef_bdbb_96000040dfb6row19_col0,#T_26d3531c_54a6_11ef_bdbb_96000040dfb6row20_col0,#T_26d3531c_54a6_11ef_bdbb_96000040dfb6row21_col0,#T_26d3531c_54a6_11ef_bdbb_96000040dfb6row22_col0,#T_26d3531c_54a6_11ef_bdbb_96000040dfb6row23_col0,#T_26d3531c_54a6_11ef_bdbb_96000040dfb6row24_col0,#T_26d3531c_54a6_11ef_bdbb_96000040dfb6row24_col6,#T_26d3531c_54a6_11ef_bdbb_96000040dfb6row25_col0,#T_26d3531c_54a6_11ef_bdbb_96000040dfb6row26_col0,#T_26d3531c_54a6_11ef_bdbb_96000040dfb6row27_col0,#T_26d3531c_54a6_11ef_bdbb_96000040dfb6row28_col0,#T_26d3531c_54a6_11ef_bdbb_96000040dfb6row29_col0,#T_26d3531c_54a6_11ef_bdbb_96000040dfb6row30_col0{\n",
       "            background-color:  #440154;\n",
       "            color:  #f1f1f1;\n",
       "        }#T_26d3531c_54a6_11ef_bdbb_96000040dfb6row0_col1{\n",
       "            background-color:  #228d8d;\n",
       "            color:  #000000;\n",
       "        }#T_26d3531c_54a6_11ef_bdbb_96000040dfb6row0_col2,#T_26d3531c_54a6_11ef_bdbb_96000040dfb6row2_col10,#T_26d3531c_54a6_11ef_bdbb_96000040dfb6row18_col2{\n",
       "            background-color:  #3dbc74;\n",
       "            color:  #000000;\n",
       "        }#T_26d3531c_54a6_11ef_bdbb_96000040dfb6row0_col3,#T_26d3531c_54a6_11ef_bdbb_96000040dfb6row14_col11{\n",
       "            background-color:  #2a778e;\n",
       "            color:  #000000;\n",
       "        }#T_26d3531c_54a6_11ef_bdbb_96000040dfb6row0_col4,#T_26d3531c_54a6_11ef_bdbb_96000040dfb6row7_col19,#T_26d3531c_54a6_11ef_bdbb_96000040dfb6row18_col12,#T_26d3531c_54a6_11ef_bdbb_96000040dfb6row21_col2{\n",
       "            background-color:  #46c06f;\n",
       "            color:  #000000;\n",
       "        }#T_26d3531c_54a6_11ef_bdbb_96000040dfb6row0_col5{\n",
       "            background-color:  #27808e;\n",
       "            color:  #000000;\n",
       "        }#T_26d3531c_54a6_11ef_bdbb_96000040dfb6row0_col6,#T_26d3531c_54a6_11ef_bdbb_96000040dfb6row1_col5,#T_26d3531c_54a6_11ef_bdbb_96000040dfb6row5_col4,#T_26d3531c_54a6_11ef_bdbb_96000040dfb6row5_col24,#T_26d3531c_54a6_11ef_bdbb_96000040dfb6row8_col12{\n",
       "            background-color:  #4cc26c;\n",
       "            color:  #000000;\n",
       "        }#T_26d3531c_54a6_11ef_bdbb_96000040dfb6row0_col7,#T_26d3531c_54a6_11ef_bdbb_96000040dfb6row7_col14{\n",
       "            background-color:  #38b977;\n",
       "            color:  #000000;\n",
       "        }#T_26d3531c_54a6_11ef_bdbb_96000040dfb6row0_col8,#T_26d3531c_54a6_11ef_bdbb_96000040dfb6row0_col27,#T_26d3531c_54a6_11ef_bdbb_96000040dfb6row25_col3{\n",
       "            background-color:  #2f6c8e;\n",
       "            color:  #f1f1f1;\n",
       "        }#T_26d3531c_54a6_11ef_bdbb_96000040dfb6row0_col9,#T_26d3531c_54a6_11ef_bdbb_96000040dfb6row4_col1{\n",
       "            background-color:  #f8e621;\n",
       "            color:  #000000;\n",
       "        }#T_26d3531c_54a6_11ef_bdbb_96000040dfb6row0_col10,#T_26d3531c_54a6_11ef_bdbb_96000040dfb6row5_col21{\n",
       "            background-color:  #31688e;\n",
       "            color:  #f1f1f1;\n",
       "        }#T_26d3531c_54a6_11ef_bdbb_96000040dfb6row0_col11,#T_26d3531c_54a6_11ef_bdbb_96000040dfb6row0_col23,#T_26d3531c_54a6_11ef_bdbb_96000040dfb6row2_col8,#T_26d3531c_54a6_11ef_bdbb_96000040dfb6row3_col3,#T_26d3531c_54a6_11ef_bdbb_96000040dfb6row10_col17,#T_26d3531c_54a6_11ef_bdbb_96000040dfb6row20_col5,#T_26d3531c_54a6_11ef_bdbb_96000040dfb6row20_col9{\n",
       "            background-color:  #1f9e89;\n",
       "            color:  #000000;\n",
       "        }#T_26d3531c_54a6_11ef_bdbb_96000040dfb6row0_col12,#T_26d3531c_54a6_11ef_bdbb_96000040dfb6row0_col24,#T_26d3531c_54a6_11ef_bdbb_96000040dfb6row0_col25,#T_26d3531c_54a6_11ef_bdbb_96000040dfb6row1_col1,#T_26d3531c_54a6_11ef_bdbb_96000040dfb6row1_col17,#T_26d3531c_54a6_11ef_bdbb_96000040dfb6row1_col28,#T_26d3531c_54a6_11ef_bdbb_96000040dfb6row1_col29,#T_26d3531c_54a6_11ef_bdbb_96000040dfb6row2_col18,#T_26d3531c_54a6_11ef_bdbb_96000040dfb6row2_col22,#T_26d3531c_54a6_11ef_bdbb_96000040dfb6row2_col26,#T_26d3531c_54a6_11ef_bdbb_96000040dfb6row2_col27,#T_26d3531c_54a6_11ef_bdbb_96000040dfb6row3_col23,#T_26d3531c_54a6_11ef_bdbb_96000040dfb6row5_col2,#T_26d3531c_54a6_11ef_bdbb_96000040dfb6row5_col3,#T_26d3531c_54a6_11ef_bdbb_96000040dfb6row5_col15,#T_26d3531c_54a6_11ef_bdbb_96000040dfb6row6_col21,#T_26d3531c_54a6_11ef_bdbb_96000040dfb6row8_col5,#T_26d3531c_54a6_11ef_bdbb_96000040dfb6row8_col13,#T_26d3531c_54a6_11ef_bdbb_96000040dfb6row8_col19,#T_26d3531c_54a6_11ef_bdbb_96000040dfb6row8_col20,#T_26d3531c_54a6_11ef_bdbb_96000040dfb6row10_col6,#T_26d3531c_54a6_11ef_bdbb_96000040dfb6row10_col9,#T_26d3531c_54a6_11ef_bdbb_96000040dfb6row10_col10,#T_26d3531c_54a6_11ef_bdbb_96000040dfb6row10_col14,#T_26d3531c_54a6_11ef_bdbb_96000040dfb6row10_col16,#T_26d3531c_54a6_11ef_bdbb_96000040dfb6row12_col8,#T_26d3531c_54a6_11ef_bdbb_96000040dfb6row13_col4,#T_26d3531c_54a6_11ef_bdbb_96000040dfb6row18_col11,#T_26d3531c_54a6_11ef_bdbb_96000040dfb6row19_col7{\n",
       "            background-color:  #fde725;\n",
       "            color:  #000000;\n",
       "        }#T_26d3531c_54a6_11ef_bdbb_96000040dfb6row0_col13,#T_26d3531c_54a6_11ef_bdbb_96000040dfb6row3_col4,#T_26d3531c_54a6_11ef_bdbb_96000040dfb6row14_col16,#T_26d3531c_54a6_11ef_bdbb_96000040dfb6row19_col11{\n",
       "            background-color:  #1e9c89;\n",
       "            color:  #000000;\n",
       "        }#T_26d3531c_54a6_11ef_bdbb_96000040dfb6row0_col14,#T_26d3531c_54a6_11ef_bdbb_96000040dfb6row10_col15,#T_26d3531c_54a6_11ef_bdbb_96000040dfb6row12_col12,#T_26d3531c_54a6_11ef_bdbb_96000040dfb6row17_col1{\n",
       "            background-color:  #218f8d;\n",
       "            color:  #000000;\n",
       "        }#T_26d3531c_54a6_11ef_bdbb_96000040dfb6row0_col15,#T_26d3531c_54a6_11ef_bdbb_96000040dfb6row7_col4,#T_26d3531c_54a6_11ef_bdbb_96000040dfb6row16_col10,#T_26d3531c_54a6_11ef_bdbb_96000040dfb6row21_col4{\n",
       "            background-color:  #2fb47c;\n",
       "            color:  #000000;\n",
       "        }#T_26d3531c_54a6_11ef_bdbb_96000040dfb6row0_col16,#T_26d3531c_54a6_11ef_bdbb_96000040dfb6row3_col7{\n",
       "            background-color:  #481467;\n",
       "            color:  #f1f1f1;\n",
       "        }#T_26d3531c_54a6_11ef_bdbb_96000040dfb6row0_col17,#T_26d3531c_54a6_11ef_bdbb_96000040dfb6row5_col1,#T_26d3531c_54a6_11ef_bdbb_96000040dfb6row8_col8{\n",
       "            background-color:  #32658e;\n",
       "            color:  #f1f1f1;\n",
       "        }#T_26d3531c_54a6_11ef_bdbb_96000040dfb6row0_col18,#T_26d3531c_54a6_11ef_bdbb_96000040dfb6row1_col12{\n",
       "            background-color:  #355f8d;\n",
       "            color:  #f1f1f1;\n",
       "        }#T_26d3531c_54a6_11ef_bdbb_96000040dfb6row0_col19,#T_26d3531c_54a6_11ef_bdbb_96000040dfb6row3_col15,#T_26d3531c_54a6_11ef_bdbb_96000040dfb6row4_col26,#T_26d3531c_54a6_11ef_bdbb_96000040dfb6row20_col6{\n",
       "            background-color:  #1fa088;\n",
       "            color:  #000000;\n",
       "        }#T_26d3531c_54a6_11ef_bdbb_96000040dfb6row0_col20,#T_26d3531c_54a6_11ef_bdbb_96000040dfb6row2_col13{\n",
       "            background-color:  #fbe723;\n",
       "            color:  #000000;\n",
       "        }#T_26d3531c_54a6_11ef_bdbb_96000040dfb6row0_col21,#T_26d3531c_54a6_11ef_bdbb_96000040dfb6row11_col7,#T_26d3531c_54a6_11ef_bdbb_96000040dfb6row11_col19{\n",
       "            background-color:  #46075a;\n",
       "            color:  #f1f1f1;\n",
       "        }#T_26d3531c_54a6_11ef_bdbb_96000040dfb6row0_col22,#T_26d3531c_54a6_11ef_bdbb_96000040dfb6row6_col24{\n",
       "            background-color:  #63cb5f;\n",
       "            color:  #000000;\n",
       "        }#T_26d3531c_54a6_11ef_bdbb_96000040dfb6row1_col2,#T_26d3531c_54a6_11ef_bdbb_96000040dfb6row3_col27,#T_26d3531c_54a6_11ef_bdbb_96000040dfb6row11_col10{\n",
       "            background-color:  #228c8d;\n",
       "            color:  #000000;\n",
       "        }#T_26d3531c_54a6_11ef_bdbb_96000040dfb6row1_col3,#T_26d3531c_54a6_11ef_bdbb_96000040dfb6row12_col18,#T_26d3531c_54a6_11ef_bdbb_96000040dfb6row22_col4{\n",
       "            background-color:  #287d8e;\n",
       "            color:  #000000;\n",
       "        }#T_26d3531c_54a6_11ef_bdbb_96000040dfb6row1_col4,#T_26d3531c_54a6_11ef_bdbb_96000040dfb6row3_col20,#T_26d3531c_54a6_11ef_bdbb_96000040dfb6row9_col7,#T_26d3531c_54a6_11ef_bdbb_96000040dfb6row15_col13{\n",
       "            background-color:  #1f968b;\n",
       "            color:  #000000;\n",
       "        }#T_26d3531c_54a6_11ef_bdbb_96000040dfb6row1_col6,#T_26d3531c_54a6_11ef_bdbb_96000040dfb6row13_col7,#T_26d3531c_54a6_11ef_bdbb_96000040dfb6row13_col13,#T_26d3531c_54a6_11ef_bdbb_96000040dfb6row17_col12{\n",
       "            background-color:  #297a8e;\n",
       "            color:  #000000;\n",
       "        }#T_26d3531c_54a6_11ef_bdbb_96000040dfb6row1_col7,#T_26d3531c_54a6_11ef_bdbb_96000040dfb6row8_col15,#T_26d3531c_54a6_11ef_bdbb_96000040dfb6row23_col4{\n",
       "            background-color:  #21918c;\n",
       "            color:  #000000;\n",
       "        }#T_26d3531c_54a6_11ef_bdbb_96000040dfb6row1_col8,#T_26d3531c_54a6_11ef_bdbb_96000040dfb6row2_col14,#T_26d3531c_54a6_11ef_bdbb_96000040dfb6row5_col5,#T_26d3531c_54a6_11ef_bdbb_96000040dfb6row7_col3,#T_26d3531c_54a6_11ef_bdbb_96000040dfb6row13_col17{\n",
       "            background-color:  #2f6b8e;\n",
       "            color:  #f1f1f1;\n",
       "        }#T_26d3531c_54a6_11ef_bdbb_96000040dfb6row1_col9,#T_26d3531c_54a6_11ef_bdbb_96000040dfb6row6_col6,#T_26d3531c_54a6_11ef_bdbb_96000040dfb6row13_col2{\n",
       "            background-color:  #1fa187;\n",
       "            color:  #000000;\n",
       "        }#T_26d3531c_54a6_11ef_bdbb_96000040dfb6row1_col10{\n",
       "            background-color:  #69cd5b;\n",
       "            color:  #000000;\n",
       "        }#T_26d3531c_54a6_11ef_bdbb_96000040dfb6row1_col11,#T_26d3531c_54a6_11ef_bdbb_96000040dfb6row8_col18,#T_26d3531c_54a6_11ef_bdbb_96000040dfb6row21_col6{\n",
       "            background-color:  #20a386;\n",
       "            color:  #000000;\n",
       "        }#T_26d3531c_54a6_11ef_bdbb_96000040dfb6row1_col13{\n",
       "            background-color:  #d5e21a;\n",
       "            color:  #000000;\n",
       "        }#T_26d3531c_54a6_11ef_bdbb_96000040dfb6row1_col14,#T_26d3531c_54a6_11ef_bdbb_96000040dfb6row7_col11,#T_26d3531c_54a6_11ef_bdbb_96000040dfb6row9_col14,#T_26d3531c_54a6_11ef_bdbb_96000040dfb6row17_col8{\n",
       "            background-color:  #1f9f88;\n",
       "            color:  #000000;\n",
       "        }#T_26d3531c_54a6_11ef_bdbb_96000040dfb6row1_col15,#T_26d3531c_54a6_11ef_bdbb_96000040dfb6row4_col3,#T_26d3531c_54a6_11ef_bdbb_96000040dfb6row16_col13{\n",
       "            background-color:  #38588c;\n",
       "            color:  #f1f1f1;\n",
       "        }#T_26d3531c_54a6_11ef_bdbb_96000040dfb6row1_col16,#T_26d3531c_54a6_11ef_bdbb_96000040dfb6row2_col12,#T_26d3531c_54a6_11ef_bdbb_96000040dfb6row9_col16,#T_26d3531c_54a6_11ef_bdbb_96000040dfb6row19_col8{\n",
       "            background-color:  #9bd93c;\n",
       "            color:  #000000;\n",
       "        }#T_26d3531c_54a6_11ef_bdbb_96000040dfb6row1_col18,#T_26d3531c_54a6_11ef_bdbb_96000040dfb6row4_col20,#T_26d3531c_54a6_11ef_bdbb_96000040dfb6row5_col8,#T_26d3531c_54a6_11ef_bdbb_96000040dfb6row6_col7,#T_26d3531c_54a6_11ef_bdbb_96000040dfb6row6_col23{\n",
       "            background-color:  #1fa287;\n",
       "            color:  #000000;\n",
       "        }#T_26d3531c_54a6_11ef_bdbb_96000040dfb6row1_col19,#T_26d3531c_54a6_11ef_bdbb_96000040dfb6row7_col23,#T_26d3531c_54a6_11ef_bdbb_96000040dfb6row17_col10{\n",
       "            background-color:  #3a538b;\n",
       "            color:  #f1f1f1;\n",
       "        }#T_26d3531c_54a6_11ef_bdbb_96000040dfb6row1_col20{\n",
       "            background-color:  #2d708e;\n",
       "            color:  #f1f1f1;\n",
       "        }#T_26d3531c_54a6_11ef_bdbb_96000040dfb6row1_col21,#T_26d3531c_54a6_11ef_bdbb_96000040dfb6row17_col11{\n",
       "            background-color:  #b2dd2d;\n",
       "            color:  #000000;\n",
       "        }#T_26d3531c_54a6_11ef_bdbb_96000040dfb6row1_col22,#T_26d3531c_54a6_11ef_bdbb_96000040dfb6row14_col14{\n",
       "            background-color:  #24aa83;\n",
       "            color:  #000000;\n",
       "        }#T_26d3531c_54a6_11ef_bdbb_96000040dfb6row1_col23,#T_26d3531c_54a6_11ef_bdbb_96000040dfb6row3_col10{\n",
       "            background-color:  #2db27d;\n",
       "            color:  #000000;\n",
       "        }#T_26d3531c_54a6_11ef_bdbb_96000040dfb6row1_col24,#T_26d3531c_54a6_11ef_bdbb_96000040dfb6row10_col11,#T_26d3531c_54a6_11ef_bdbb_96000040dfb6row18_col3{\n",
       "            background-color:  #93d741;\n",
       "            color:  #000000;\n",
       "        }#T_26d3531c_54a6_11ef_bdbb_96000040dfb6row1_col25,#T_26d3531c_54a6_11ef_bdbb_96000040dfb6row3_col26{\n",
       "            background-color:  #3c508b;\n",
       "            color:  #f1f1f1;\n",
       "        }#T_26d3531c_54a6_11ef_bdbb_96000040dfb6row1_col26,#T_26d3531c_54a6_11ef_bdbb_96000040dfb6row4_col18,#T_26d3531c_54a6_11ef_bdbb_96000040dfb6row5_col13,#T_26d3531c_54a6_11ef_bdbb_96000040dfb6row6_col5{\n",
       "            background-color:  #23888e;\n",
       "            color:  #000000;\n",
       "        }#T_26d3531c_54a6_11ef_bdbb_96000040dfb6row1_col30,#T_26d3531c_54a6_11ef_bdbb_96000040dfb6row2_col30,#T_26d3531c_54a6_11ef_bdbb_96000040dfb6row3_col30,#T_26d3531c_54a6_11ef_bdbb_96000040dfb6row4_col30,#T_26d3531c_54a6_11ef_bdbb_96000040dfb6row5_col30,#T_26d3531c_54a6_11ef_bdbb_96000040dfb6row6_col30,#T_26d3531c_54a6_11ef_bdbb_96000040dfb6row7_col30,#T_26d3531c_54a6_11ef_bdbb_96000040dfb6row8_col30,#T_26d3531c_54a6_11ef_bdbb_96000040dfb6row9_col30,#T_26d3531c_54a6_11ef_bdbb_96000040dfb6row10_col30,#T_26d3531c_54a6_11ef_bdbb_96000040dfb6row11_col30,#T_26d3531c_54a6_11ef_bdbb_96000040dfb6row12_col30,#T_26d3531c_54a6_11ef_bdbb_96000040dfb6row13_col30,#T_26d3531c_54a6_11ef_bdbb_96000040dfb6row14_col30,#T_26d3531c_54a6_11ef_bdbb_96000040dfb6row15_col30,#T_26d3531c_54a6_11ef_bdbb_96000040dfb6row16_col30,#T_26d3531c_54a6_11ef_bdbb_96000040dfb6row17_col30,#T_26d3531c_54a6_11ef_bdbb_96000040dfb6row18_col30,#T_26d3531c_54a6_11ef_bdbb_96000040dfb6row19_col30,#T_26d3531c_54a6_11ef_bdbb_96000040dfb6row20_col30,#T_26d3531c_54a6_11ef_bdbb_96000040dfb6row21_col30,#T_26d3531c_54a6_11ef_bdbb_96000040dfb6row22_col30,#T_26d3531c_54a6_11ef_bdbb_96000040dfb6row23_col30,#T_26d3531c_54a6_11ef_bdbb_96000040dfb6row24_col30,#T_26d3531c_54a6_11ef_bdbb_96000040dfb6row25_col30,#T_26d3531c_54a6_11ef_bdbb_96000040dfb6row26_col30,#T_26d3531c_54a6_11ef_bdbb_96000040dfb6row27_col30,#T_26d3531c_54a6_11ef_bdbb_96000040dfb6row28_col30,#T_26d3531c_54a6_11ef_bdbb_96000040dfb6row29_col30,#T_26d3531c_54a6_11ef_bdbb_96000040dfb6row30_col30{\n",
       "            background-color:  #440154;\n",
       "            color:  #f1f1f1;\n",
       "            background-color:  white;\n",
       "        }#T_26d3531c_54a6_11ef_bdbb_96000040dfb6row2_col1,#T_26d3531c_54a6_11ef_bdbb_96000040dfb6row16_col5,#T_26d3531c_54a6_11ef_bdbb_96000040dfb6row21_col9{\n",
       "            background-color:  #31668e;\n",
       "            color:  #f1f1f1;\n",
       "        }#T_26d3531c_54a6_11ef_bdbb_96000040dfb6row2_col2,#T_26d3531c_54a6_11ef_bdbb_96000040dfb6row5_col14,#T_26d3531c_54a6_11ef_bdbb_96000040dfb6row9_col5,#T_26d3531c_54a6_11ef_bdbb_96000040dfb6row9_col13{\n",
       "            background-color:  #25ab82;\n",
       "            color:  #000000;\n",
       "        }#T_26d3531c_54a6_11ef_bdbb_96000040dfb6row2_col3,#T_26d3531c_54a6_11ef_bdbb_96000040dfb6row17_col6,#T_26d3531c_54a6_11ef_bdbb_96000040dfb6row26_col1{\n",
       "            background-color:  #38598c;\n",
       "            color:  #f1f1f1;\n",
       "        }#T_26d3531c_54a6_11ef_bdbb_96000040dfb6row2_col4{\n",
       "            background-color:  #42be71;\n",
       "            color:  #000000;\n",
       "        }#T_26d3531c_54a6_11ef_bdbb_96000040dfb6row2_col5,#T_26d3531c_54a6_11ef_bdbb_96000040dfb6row2_col11,#T_26d3531c_54a6_11ef_bdbb_96000040dfb6row4_col7,#T_26d3531c_54a6_11ef_bdbb_96000040dfb6row5_col10,#T_26d3531c_54a6_11ef_bdbb_96000040dfb6row21_col3{\n",
       "            background-color:  #1e9d89;\n",
       "            color:  #000000;\n",
       "        }#T_26d3531c_54a6_11ef_bdbb_96000040dfb6row2_col6,#T_26d3531c_54a6_11ef_bdbb_96000040dfb6row17_col2,#T_26d3531c_54a6_11ef_bdbb_96000040dfb6row25_col5{\n",
       "            background-color:  #3fbc73;\n",
       "            color:  #000000;\n",
       "        }#T_26d3531c_54a6_11ef_bdbb_96000040dfb6row2_col7{\n",
       "            background-color:  #472c7a;\n",
       "            color:  #f1f1f1;\n",
       "        }#T_26d3531c_54a6_11ef_bdbb_96000040dfb6row2_col9{\n",
       "            background-color:  #297b8e;\n",
       "            color:  #000000;\n",
       "        }#T_26d3531c_54a6_11ef_bdbb_96000040dfb6row2_col15{\n",
       "            background-color:  #471164;\n",
       "            color:  #f1f1f1;\n",
       "        }#T_26d3531c_54a6_11ef_bdbb_96000040dfb6row2_col16,#T_26d3531c_54a6_11ef_bdbb_96000040dfb6row4_col2,#T_26d3531c_54a6_11ef_bdbb_96000040dfb6row9_col15,#T_26d3531c_54a6_11ef_bdbb_96000040dfb6row15_col5{\n",
       "            background-color:  #404588;\n",
       "            color:  #f1f1f1;\n",
       "        }#T_26d3531c_54a6_11ef_bdbb_96000040dfb6row2_col17,#T_26d3531c_54a6_11ef_bdbb_96000040dfb6row4_col12{\n",
       "            background-color:  #2ab07f;\n",
       "            color:  #000000;\n",
       "        }#T_26d3531c_54a6_11ef_bdbb_96000040dfb6row2_col19,#T_26d3531c_54a6_11ef_bdbb_96000040dfb6row3_col8,#T_26d3531c_54a6_11ef_bdbb_96000040dfb6row12_col7{\n",
       "            background-color:  #33628d;\n",
       "            color:  #f1f1f1;\n",
       "        }#T_26d3531c_54a6_11ef_bdbb_96000040dfb6row2_col20,#T_26d3531c_54a6_11ef_bdbb_96000040dfb6row8_col6,#T_26d3531c_54a6_11ef_bdbb_96000040dfb6row13_col3{\n",
       "            background-color:  #34608d;\n",
       "            color:  #f1f1f1;\n",
       "        }#T_26d3531c_54a6_11ef_bdbb_96000040dfb6row2_col21{\n",
       "            background-color:  #1f9a8a;\n",
       "            color:  #000000;\n",
       "        }#T_26d3531c_54a6_11ef_bdbb_96000040dfb6row2_col24{\n",
       "            background-color:  #70cf57;\n",
       "            color:  #000000;\n",
       "        }#T_26d3531c_54a6_11ef_bdbb_96000040dfb6row2_col25{\n",
       "            background-color:  #433e85;\n",
       "            color:  #f1f1f1;\n",
       "        }#T_26d3531c_54a6_11ef_bdbb_96000040dfb6row2_col28,#T_26d3531c_54a6_11ef_bdbb_96000040dfb6row7_col15{\n",
       "            background-color:  #365c8d;\n",
       "            color:  #f1f1f1;\n",
       "        }#T_26d3531c_54a6_11ef_bdbb_96000040dfb6row2_col29,#T_26d3531c_54a6_11ef_bdbb_96000040dfb6row3_col28,#T_26d3531c_54a6_11ef_bdbb_96000040dfb6row3_col29,#T_26d3531c_54a6_11ef_bdbb_96000040dfb6row4_col27,#T_26d3531c_54a6_11ef_bdbb_96000040dfb6row4_col28,#T_26d3531c_54a6_11ef_bdbb_96000040dfb6row4_col29,#T_26d3531c_54a6_11ef_bdbb_96000040dfb6row5_col26,#T_26d3531c_54a6_11ef_bdbb_96000040dfb6row5_col27,#T_26d3531c_54a6_11ef_bdbb_96000040dfb6row5_col28,#T_26d3531c_54a6_11ef_bdbb_96000040dfb6row5_col29,#T_26d3531c_54a6_11ef_bdbb_96000040dfb6row6_col25,#T_26d3531c_54a6_11ef_bdbb_96000040dfb6row6_col26,#T_26d3531c_54a6_11ef_bdbb_96000040dfb6row6_col27,#T_26d3531c_54a6_11ef_bdbb_96000040dfb6row6_col28,#T_26d3531c_54a6_11ef_bdbb_96000040dfb6row6_col29,#T_26d3531c_54a6_11ef_bdbb_96000040dfb6row7_col24,#T_26d3531c_54a6_11ef_bdbb_96000040dfb6row7_col25,#T_26d3531c_54a6_11ef_bdbb_96000040dfb6row7_col26,#T_26d3531c_54a6_11ef_bdbb_96000040dfb6row7_col27,#T_26d3531c_54a6_11ef_bdbb_96000040dfb6row7_col28,#T_26d3531c_54a6_11ef_bdbb_96000040dfb6row7_col29,#T_26d3531c_54a6_11ef_bdbb_96000040dfb6row8_col23,#T_26d3531c_54a6_11ef_bdbb_96000040dfb6row8_col24,#T_26d3531c_54a6_11ef_bdbb_96000040dfb6row8_col25,#T_26d3531c_54a6_11ef_bdbb_96000040dfb6row8_col26,#T_26d3531c_54a6_11ef_bdbb_96000040dfb6row8_col27,#T_26d3531c_54a6_11ef_bdbb_96000040dfb6row8_col28,#T_26d3531c_54a6_11ef_bdbb_96000040dfb6row8_col29,#T_26d3531c_54a6_11ef_bdbb_96000040dfb6row9_col22,#T_26d3531c_54a6_11ef_bdbb_96000040dfb6row9_col23,#T_26d3531c_54a6_11ef_bdbb_96000040dfb6row9_col24,#T_26d3531c_54a6_11ef_bdbb_96000040dfb6row9_col25,#T_26d3531c_54a6_11ef_bdbb_96000040dfb6row9_col26,#T_26d3531c_54a6_11ef_bdbb_96000040dfb6row9_col27,#T_26d3531c_54a6_11ef_bdbb_96000040dfb6row9_col28,#T_26d3531c_54a6_11ef_bdbb_96000040dfb6row9_col29,#T_26d3531c_54a6_11ef_bdbb_96000040dfb6row10_col21,#T_26d3531c_54a6_11ef_bdbb_96000040dfb6row10_col22,#T_26d3531c_54a6_11ef_bdbb_96000040dfb6row10_col23,#T_26d3531c_54a6_11ef_bdbb_96000040dfb6row10_col24,#T_26d3531c_54a6_11ef_bdbb_96000040dfb6row10_col25,#T_26d3531c_54a6_11ef_bdbb_96000040dfb6row10_col26,#T_26d3531c_54a6_11ef_bdbb_96000040dfb6row10_col27,#T_26d3531c_54a6_11ef_bdbb_96000040dfb6row10_col28,#T_26d3531c_54a6_11ef_bdbb_96000040dfb6row10_col29,#T_26d3531c_54a6_11ef_bdbb_96000040dfb6row11_col20,#T_26d3531c_54a6_11ef_bdbb_96000040dfb6row11_col21,#T_26d3531c_54a6_11ef_bdbb_96000040dfb6row11_col22,#T_26d3531c_54a6_11ef_bdbb_96000040dfb6row11_col23,#T_26d3531c_54a6_11ef_bdbb_96000040dfb6row11_col24,#T_26d3531c_54a6_11ef_bdbb_96000040dfb6row11_col25,#T_26d3531c_54a6_11ef_bdbb_96000040dfb6row11_col26,#T_26d3531c_54a6_11ef_bdbb_96000040dfb6row11_col27,#T_26d3531c_54a6_11ef_bdbb_96000040dfb6row11_col28,#T_26d3531c_54a6_11ef_bdbb_96000040dfb6row11_col29,#T_26d3531c_54a6_11ef_bdbb_96000040dfb6row12_col19,#T_26d3531c_54a6_11ef_bdbb_96000040dfb6row12_col20,#T_26d3531c_54a6_11ef_bdbb_96000040dfb6row12_col21,#T_26d3531c_54a6_11ef_bdbb_96000040dfb6row12_col22,#T_26d3531c_54a6_11ef_bdbb_96000040dfb6row12_col23,#T_26d3531c_54a6_11ef_bdbb_96000040dfb6row12_col24,#T_26d3531c_54a6_11ef_bdbb_96000040dfb6row12_col25,#T_26d3531c_54a6_11ef_bdbb_96000040dfb6row12_col26,#T_26d3531c_54a6_11ef_bdbb_96000040dfb6row12_col27,#T_26d3531c_54a6_11ef_bdbb_96000040dfb6row12_col28,#T_26d3531c_54a6_11ef_bdbb_96000040dfb6row12_col29,#T_26d3531c_54a6_11ef_bdbb_96000040dfb6row13_col18,#T_26d3531c_54a6_11ef_bdbb_96000040dfb6row13_col19,#T_26d3531c_54a6_11ef_bdbb_96000040dfb6row13_col20,#T_26d3531c_54a6_11ef_bdbb_96000040dfb6row13_col21,#T_26d3531c_54a6_11ef_bdbb_96000040dfb6row13_col22,#T_26d3531c_54a6_11ef_bdbb_96000040dfb6row13_col23,#T_26d3531c_54a6_11ef_bdbb_96000040dfb6row13_col24,#T_26d3531c_54a6_11ef_bdbb_96000040dfb6row13_col25,#T_26d3531c_54a6_11ef_bdbb_96000040dfb6row13_col26,#T_26d3531c_54a6_11ef_bdbb_96000040dfb6row13_col27,#T_26d3531c_54a6_11ef_bdbb_96000040dfb6row13_col28,#T_26d3531c_54a6_11ef_bdbb_96000040dfb6row13_col29,#T_26d3531c_54a6_11ef_bdbb_96000040dfb6row14_col17,#T_26d3531c_54a6_11ef_bdbb_96000040dfb6row14_col18,#T_26d3531c_54a6_11ef_bdbb_96000040dfb6row14_col19,#T_26d3531c_54a6_11ef_bdbb_96000040dfb6row14_col20,#T_26d3531c_54a6_11ef_bdbb_96000040dfb6row14_col21,#T_26d3531c_54a6_11ef_bdbb_96000040dfb6row14_col22,#T_26d3531c_54a6_11ef_bdbb_96000040dfb6row14_col23,#T_26d3531c_54a6_11ef_bdbb_96000040dfb6row14_col24,#T_26d3531c_54a6_11ef_bdbb_96000040dfb6row14_col25,#T_26d3531c_54a6_11ef_bdbb_96000040dfb6row14_col26,#T_26d3531c_54a6_11ef_bdbb_96000040dfb6row14_col27,#T_26d3531c_54a6_11ef_bdbb_96000040dfb6row14_col28,#T_26d3531c_54a6_11ef_bdbb_96000040dfb6row14_col29,#T_26d3531c_54a6_11ef_bdbb_96000040dfb6row15_col16,#T_26d3531c_54a6_11ef_bdbb_96000040dfb6row15_col17,#T_26d3531c_54a6_11ef_bdbb_96000040dfb6row15_col18,#T_26d3531c_54a6_11ef_bdbb_96000040dfb6row15_col19,#T_26d3531c_54a6_11ef_bdbb_96000040dfb6row15_col20,#T_26d3531c_54a6_11ef_bdbb_96000040dfb6row15_col21,#T_26d3531c_54a6_11ef_bdbb_96000040dfb6row15_col22,#T_26d3531c_54a6_11ef_bdbb_96000040dfb6row15_col23,#T_26d3531c_54a6_11ef_bdbb_96000040dfb6row15_col24,#T_26d3531c_54a6_11ef_bdbb_96000040dfb6row15_col25,#T_26d3531c_54a6_11ef_bdbb_96000040dfb6row15_col26,#T_26d3531c_54a6_11ef_bdbb_96000040dfb6row15_col27,#T_26d3531c_54a6_11ef_bdbb_96000040dfb6row15_col28,#T_26d3531c_54a6_11ef_bdbb_96000040dfb6row15_col29,#T_26d3531c_54a6_11ef_bdbb_96000040dfb6row16_col15,#T_26d3531c_54a6_11ef_bdbb_96000040dfb6row16_col16,#T_26d3531c_54a6_11ef_bdbb_96000040dfb6row16_col17,#T_26d3531c_54a6_11ef_bdbb_96000040dfb6row16_col18,#T_26d3531c_54a6_11ef_bdbb_96000040dfb6row16_col19,#T_26d3531c_54a6_11ef_bdbb_96000040dfb6row16_col20,#T_26d3531c_54a6_11ef_bdbb_96000040dfb6row16_col21,#T_26d3531c_54a6_11ef_bdbb_96000040dfb6row16_col22,#T_26d3531c_54a6_11ef_bdbb_96000040dfb6row16_col23,#T_26d3531c_54a6_11ef_bdbb_96000040dfb6row16_col24,#T_26d3531c_54a6_11ef_bdbb_96000040dfb6row16_col25,#T_26d3531c_54a6_11ef_bdbb_96000040dfb6row16_col26,#T_26d3531c_54a6_11ef_bdbb_96000040dfb6row16_col27,#T_26d3531c_54a6_11ef_bdbb_96000040dfb6row16_col28,#T_26d3531c_54a6_11ef_bdbb_96000040dfb6row16_col29,#T_26d3531c_54a6_11ef_bdbb_96000040dfb6row17_col14,#T_26d3531c_54a6_11ef_bdbb_96000040dfb6row17_col15,#T_26d3531c_54a6_11ef_bdbb_96000040dfb6row17_col16,#T_26d3531c_54a6_11ef_bdbb_96000040dfb6row17_col17,#T_26d3531c_54a6_11ef_bdbb_96000040dfb6row17_col18,#T_26d3531c_54a6_11ef_bdbb_96000040dfb6row17_col19,#T_26d3531c_54a6_11ef_bdbb_96000040dfb6row17_col20,#T_26d3531c_54a6_11ef_bdbb_96000040dfb6row17_col21,#T_26d3531c_54a6_11ef_bdbb_96000040dfb6row17_col22,#T_26d3531c_54a6_11ef_bdbb_96000040dfb6row17_col23,#T_26d3531c_54a6_11ef_bdbb_96000040dfb6row17_col24,#T_26d3531c_54a6_11ef_bdbb_96000040dfb6row17_col25,#T_26d3531c_54a6_11ef_bdbb_96000040dfb6row17_col26,#T_26d3531c_54a6_11ef_bdbb_96000040dfb6row17_col27,#T_26d3531c_54a6_11ef_bdbb_96000040dfb6row17_col28,#T_26d3531c_54a6_11ef_bdbb_96000040dfb6row17_col29,#T_26d3531c_54a6_11ef_bdbb_96000040dfb6row18_col13,#T_26d3531c_54a6_11ef_bdbb_96000040dfb6row18_col14,#T_26d3531c_54a6_11ef_bdbb_96000040dfb6row18_col15,#T_26d3531c_54a6_11ef_bdbb_96000040dfb6row18_col16,#T_26d3531c_54a6_11ef_bdbb_96000040dfb6row18_col17,#T_26d3531c_54a6_11ef_bdbb_96000040dfb6row18_col18,#T_26d3531c_54a6_11ef_bdbb_96000040dfb6row18_col19,#T_26d3531c_54a6_11ef_bdbb_96000040dfb6row18_col20,#T_26d3531c_54a6_11ef_bdbb_96000040dfb6row18_col21,#T_26d3531c_54a6_11ef_bdbb_96000040dfb6row18_col22,#T_26d3531c_54a6_11ef_bdbb_96000040dfb6row18_col23,#T_26d3531c_54a6_11ef_bdbb_96000040dfb6row18_col24,#T_26d3531c_54a6_11ef_bdbb_96000040dfb6row18_col25,#T_26d3531c_54a6_11ef_bdbb_96000040dfb6row18_col26,#T_26d3531c_54a6_11ef_bdbb_96000040dfb6row18_col27,#T_26d3531c_54a6_11ef_bdbb_96000040dfb6row18_col28,#T_26d3531c_54a6_11ef_bdbb_96000040dfb6row18_col29,#T_26d3531c_54a6_11ef_bdbb_96000040dfb6row19_col12,#T_26d3531c_54a6_11ef_bdbb_96000040dfb6row19_col13,#T_26d3531c_54a6_11ef_bdbb_96000040dfb6row19_col14,#T_26d3531c_54a6_11ef_bdbb_96000040dfb6row19_col15,#T_26d3531c_54a6_11ef_bdbb_96000040dfb6row19_col16,#T_26d3531c_54a6_11ef_bdbb_96000040dfb6row19_col17,#T_26d3531c_54a6_11ef_bdbb_96000040dfb6row19_col18,#T_26d3531c_54a6_11ef_bdbb_96000040dfb6row19_col19,#T_26d3531c_54a6_11ef_bdbb_96000040dfb6row19_col20,#T_26d3531c_54a6_11ef_bdbb_96000040dfb6row19_col21,#T_26d3531c_54a6_11ef_bdbb_96000040dfb6row19_col22,#T_26d3531c_54a6_11ef_bdbb_96000040dfb6row19_col23,#T_26d3531c_54a6_11ef_bdbb_96000040dfb6row19_col24,#T_26d3531c_54a6_11ef_bdbb_96000040dfb6row19_col25,#T_26d3531c_54a6_11ef_bdbb_96000040dfb6row19_col26,#T_26d3531c_54a6_11ef_bdbb_96000040dfb6row19_col27,#T_26d3531c_54a6_11ef_bdbb_96000040dfb6row19_col28,#T_26d3531c_54a6_11ef_bdbb_96000040dfb6row19_col29,#T_26d3531c_54a6_11ef_bdbb_96000040dfb6row20_col11,#T_26d3531c_54a6_11ef_bdbb_96000040dfb6row20_col12,#T_26d3531c_54a6_11ef_bdbb_96000040dfb6row20_col13,#T_26d3531c_54a6_11ef_bdbb_96000040dfb6row20_col14,#T_26d3531c_54a6_11ef_bdbb_96000040dfb6row20_col15,#T_26d3531c_54a6_11ef_bdbb_96000040dfb6row20_col16,#T_26d3531c_54a6_11ef_bdbb_96000040dfb6row20_col17,#T_26d3531c_54a6_11ef_bdbb_96000040dfb6row20_col18,#T_26d3531c_54a6_11ef_bdbb_96000040dfb6row20_col19,#T_26d3531c_54a6_11ef_bdbb_96000040dfb6row20_col20,#T_26d3531c_54a6_11ef_bdbb_96000040dfb6row20_col21,#T_26d3531c_54a6_11ef_bdbb_96000040dfb6row20_col22,#T_26d3531c_54a6_11ef_bdbb_96000040dfb6row20_col23,#T_26d3531c_54a6_11ef_bdbb_96000040dfb6row20_col24,#T_26d3531c_54a6_11ef_bdbb_96000040dfb6row20_col25,#T_26d3531c_54a6_11ef_bdbb_96000040dfb6row20_col26,#T_26d3531c_54a6_11ef_bdbb_96000040dfb6row20_col27,#T_26d3531c_54a6_11ef_bdbb_96000040dfb6row20_col28,#T_26d3531c_54a6_11ef_bdbb_96000040dfb6row20_col29,#T_26d3531c_54a6_11ef_bdbb_96000040dfb6row21_col10,#T_26d3531c_54a6_11ef_bdbb_96000040dfb6row21_col11,#T_26d3531c_54a6_11ef_bdbb_96000040dfb6row21_col12,#T_26d3531c_54a6_11ef_bdbb_96000040dfb6row21_col13,#T_26d3531c_54a6_11ef_bdbb_96000040dfb6row21_col14,#T_26d3531c_54a6_11ef_bdbb_96000040dfb6row21_col15,#T_26d3531c_54a6_11ef_bdbb_96000040dfb6row21_col16,#T_26d3531c_54a6_11ef_bdbb_96000040dfb6row21_col17,#T_26d3531c_54a6_11ef_bdbb_96000040dfb6row21_col18,#T_26d3531c_54a6_11ef_bdbb_96000040dfb6row21_col19,#T_26d3531c_54a6_11ef_bdbb_96000040dfb6row21_col20,#T_26d3531c_54a6_11ef_bdbb_96000040dfb6row21_col21,#T_26d3531c_54a6_11ef_bdbb_96000040dfb6row21_col22,#T_26d3531c_54a6_11ef_bdbb_96000040dfb6row21_col23,#T_26d3531c_54a6_11ef_bdbb_96000040dfb6row21_col24,#T_26d3531c_54a6_11ef_bdbb_96000040dfb6row21_col25,#T_26d3531c_54a6_11ef_bdbb_96000040dfb6row21_col26,#T_26d3531c_54a6_11ef_bdbb_96000040dfb6row21_col27,#T_26d3531c_54a6_11ef_bdbb_96000040dfb6row21_col28,#T_26d3531c_54a6_11ef_bdbb_96000040dfb6row21_col29,#T_26d3531c_54a6_11ef_bdbb_96000040dfb6row22_col9,#T_26d3531c_54a6_11ef_bdbb_96000040dfb6row22_col10,#T_26d3531c_54a6_11ef_bdbb_96000040dfb6row22_col11,#T_26d3531c_54a6_11ef_bdbb_96000040dfb6row22_col12,#T_26d3531c_54a6_11ef_bdbb_96000040dfb6row22_col13,#T_26d3531c_54a6_11ef_bdbb_96000040dfb6row22_col14,#T_26d3531c_54a6_11ef_bdbb_96000040dfb6row22_col15,#T_26d3531c_54a6_11ef_bdbb_96000040dfb6row22_col16,#T_26d3531c_54a6_11ef_bdbb_96000040dfb6row22_col17,#T_26d3531c_54a6_11ef_bdbb_96000040dfb6row22_col18,#T_26d3531c_54a6_11ef_bdbb_96000040dfb6row22_col19,#T_26d3531c_54a6_11ef_bdbb_96000040dfb6row22_col20,#T_26d3531c_54a6_11ef_bdbb_96000040dfb6row22_col21,#T_26d3531c_54a6_11ef_bdbb_96000040dfb6row22_col22,#T_26d3531c_54a6_11ef_bdbb_96000040dfb6row22_col23,#T_26d3531c_54a6_11ef_bdbb_96000040dfb6row22_col24,#T_26d3531c_54a6_11ef_bdbb_96000040dfb6row22_col25,#T_26d3531c_54a6_11ef_bdbb_96000040dfb6row22_col26,#T_26d3531c_54a6_11ef_bdbb_96000040dfb6row22_col27,#T_26d3531c_54a6_11ef_bdbb_96000040dfb6row22_col28,#T_26d3531c_54a6_11ef_bdbb_96000040dfb6row22_col29,#T_26d3531c_54a6_11ef_bdbb_96000040dfb6row23_col8,#T_26d3531c_54a6_11ef_bdbb_96000040dfb6row23_col9,#T_26d3531c_54a6_11ef_bdbb_96000040dfb6row23_col10,#T_26d3531c_54a6_11ef_bdbb_96000040dfb6row23_col11,#T_26d3531c_54a6_11ef_bdbb_96000040dfb6row23_col12,#T_26d3531c_54a6_11ef_bdbb_96000040dfb6row23_col13,#T_26d3531c_54a6_11ef_bdbb_96000040dfb6row23_col14,#T_26d3531c_54a6_11ef_bdbb_96000040dfb6row23_col15,#T_26d3531c_54a6_11ef_bdbb_96000040dfb6row23_col16,#T_26d3531c_54a6_11ef_bdbb_96000040dfb6row23_col17,#T_26d3531c_54a6_11ef_bdbb_96000040dfb6row23_col18,#T_26d3531c_54a6_11ef_bdbb_96000040dfb6row23_col19,#T_26d3531c_54a6_11ef_bdbb_96000040dfb6row23_col20,#T_26d3531c_54a6_11ef_bdbb_96000040dfb6row23_col21,#T_26d3531c_54a6_11ef_bdbb_96000040dfb6row23_col22,#T_26d3531c_54a6_11ef_bdbb_96000040dfb6row23_col23,#T_26d3531c_54a6_11ef_bdbb_96000040dfb6row23_col24,#T_26d3531c_54a6_11ef_bdbb_96000040dfb6row23_col25,#T_26d3531c_54a6_11ef_bdbb_96000040dfb6row23_col26,#T_26d3531c_54a6_11ef_bdbb_96000040dfb6row23_col27,#T_26d3531c_54a6_11ef_bdbb_96000040dfb6row23_col28,#T_26d3531c_54a6_11ef_bdbb_96000040dfb6row23_col29,#T_26d3531c_54a6_11ef_bdbb_96000040dfb6row24_col7,#T_26d3531c_54a6_11ef_bdbb_96000040dfb6row24_col8,#T_26d3531c_54a6_11ef_bdbb_96000040dfb6row24_col9,#T_26d3531c_54a6_11ef_bdbb_96000040dfb6row24_col10,#T_26d3531c_54a6_11ef_bdbb_96000040dfb6row24_col11,#T_26d3531c_54a6_11ef_bdbb_96000040dfb6row24_col12,#T_26d3531c_54a6_11ef_bdbb_96000040dfb6row24_col13,#T_26d3531c_54a6_11ef_bdbb_96000040dfb6row24_col14,#T_26d3531c_54a6_11ef_bdbb_96000040dfb6row24_col15,#T_26d3531c_54a6_11ef_bdbb_96000040dfb6row24_col16,#T_26d3531c_54a6_11ef_bdbb_96000040dfb6row24_col17,#T_26d3531c_54a6_11ef_bdbb_96000040dfb6row24_col18,#T_26d3531c_54a6_11ef_bdbb_96000040dfb6row24_col19,#T_26d3531c_54a6_11ef_bdbb_96000040dfb6row24_col20,#T_26d3531c_54a6_11ef_bdbb_96000040dfb6row24_col21,#T_26d3531c_54a6_11ef_bdbb_96000040dfb6row24_col22,#T_26d3531c_54a6_11ef_bdbb_96000040dfb6row24_col23,#T_26d3531c_54a6_11ef_bdbb_96000040dfb6row24_col24,#T_26d3531c_54a6_11ef_bdbb_96000040dfb6row24_col25,#T_26d3531c_54a6_11ef_bdbb_96000040dfb6row24_col26,#T_26d3531c_54a6_11ef_bdbb_96000040dfb6row24_col27,#T_26d3531c_54a6_11ef_bdbb_96000040dfb6row24_col28,#T_26d3531c_54a6_11ef_bdbb_96000040dfb6row24_col29,#T_26d3531c_54a6_11ef_bdbb_96000040dfb6row25_col6,#T_26d3531c_54a6_11ef_bdbb_96000040dfb6row25_col7,#T_26d3531c_54a6_11ef_bdbb_96000040dfb6row25_col8,#T_26d3531c_54a6_11ef_bdbb_96000040dfb6row25_col9,#T_26d3531c_54a6_11ef_bdbb_96000040dfb6row25_col10,#T_26d3531c_54a6_11ef_bdbb_96000040dfb6row25_col11,#T_26d3531c_54a6_11ef_bdbb_96000040dfb6row25_col12,#T_26d3531c_54a6_11ef_bdbb_96000040dfb6row25_col13,#T_26d3531c_54a6_11ef_bdbb_96000040dfb6row25_col14,#T_26d3531c_54a6_11ef_bdbb_96000040dfb6row25_col15,#T_26d3531c_54a6_11ef_bdbb_96000040dfb6row25_col16,#T_26d3531c_54a6_11ef_bdbb_96000040dfb6row25_col17,#T_26d3531c_54a6_11ef_bdbb_96000040dfb6row25_col18,#T_26d3531c_54a6_11ef_bdbb_96000040dfb6row25_col19,#T_26d3531c_54a6_11ef_bdbb_96000040dfb6row25_col20,#T_26d3531c_54a6_11ef_bdbb_96000040dfb6row25_col21,#T_26d3531c_54a6_11ef_bdbb_96000040dfb6row25_col22,#T_26d3531c_54a6_11ef_bdbb_96000040dfb6row25_col23,#T_26d3531c_54a6_11ef_bdbb_96000040dfb6row25_col24,#T_26d3531c_54a6_11ef_bdbb_96000040dfb6row25_col25,#T_26d3531c_54a6_11ef_bdbb_96000040dfb6row25_col26,#T_26d3531c_54a6_11ef_bdbb_96000040dfb6row25_col27,#T_26d3531c_54a6_11ef_bdbb_96000040dfb6row25_col28,#T_26d3531c_54a6_11ef_bdbb_96000040dfb6row25_col29,#T_26d3531c_54a6_11ef_bdbb_96000040dfb6row26_col5,#T_26d3531c_54a6_11ef_bdbb_96000040dfb6row26_col6,#T_26d3531c_54a6_11ef_bdbb_96000040dfb6row26_col7,#T_26d3531c_54a6_11ef_bdbb_96000040dfb6row26_col8,#T_26d3531c_54a6_11ef_bdbb_96000040dfb6row26_col9,#T_26d3531c_54a6_11ef_bdbb_96000040dfb6row26_col10,#T_26d3531c_54a6_11ef_bdbb_96000040dfb6row26_col11,#T_26d3531c_54a6_11ef_bdbb_96000040dfb6row26_col12,#T_26d3531c_54a6_11ef_bdbb_96000040dfb6row26_col13,#T_26d3531c_54a6_11ef_bdbb_96000040dfb6row26_col14,#T_26d3531c_54a6_11ef_bdbb_96000040dfb6row26_col15,#T_26d3531c_54a6_11ef_bdbb_96000040dfb6row26_col16,#T_26d3531c_54a6_11ef_bdbb_96000040dfb6row26_col17,#T_26d3531c_54a6_11ef_bdbb_96000040dfb6row26_col18,#T_26d3531c_54a6_11ef_bdbb_96000040dfb6row26_col19,#T_26d3531c_54a6_11ef_bdbb_96000040dfb6row26_col20,#T_26d3531c_54a6_11ef_bdbb_96000040dfb6row26_col21,#T_26d3531c_54a6_11ef_bdbb_96000040dfb6row26_col22,#T_26d3531c_54a6_11ef_bdbb_96000040dfb6row26_col23,#T_26d3531c_54a6_11ef_bdbb_96000040dfb6row26_col24,#T_26d3531c_54a6_11ef_bdbb_96000040dfb6row26_col25,#T_26d3531c_54a6_11ef_bdbb_96000040dfb6row26_col26,#T_26d3531c_54a6_11ef_bdbb_96000040dfb6row26_col27,#T_26d3531c_54a6_11ef_bdbb_96000040dfb6row26_col28,#T_26d3531c_54a6_11ef_bdbb_96000040dfb6row26_col29,#T_26d3531c_54a6_11ef_bdbb_96000040dfb6row27_col4,#T_26d3531c_54a6_11ef_bdbb_96000040dfb6row27_col5,#T_26d3531c_54a6_11ef_bdbb_96000040dfb6row27_col6,#T_26d3531c_54a6_11ef_bdbb_96000040dfb6row27_col7,#T_26d3531c_54a6_11ef_bdbb_96000040dfb6row27_col8,#T_26d3531c_54a6_11ef_bdbb_96000040dfb6row27_col9,#T_26d3531c_54a6_11ef_bdbb_96000040dfb6row27_col10,#T_26d3531c_54a6_11ef_bdbb_96000040dfb6row27_col11,#T_26d3531c_54a6_11ef_bdbb_96000040dfb6row27_col12,#T_26d3531c_54a6_11ef_bdbb_96000040dfb6row27_col13,#T_26d3531c_54a6_11ef_bdbb_96000040dfb6row27_col14,#T_26d3531c_54a6_11ef_bdbb_96000040dfb6row27_col15,#T_26d3531c_54a6_11ef_bdbb_96000040dfb6row27_col16,#T_26d3531c_54a6_11ef_bdbb_96000040dfb6row27_col17,#T_26d3531c_54a6_11ef_bdbb_96000040dfb6row27_col18,#T_26d3531c_54a6_11ef_bdbb_96000040dfb6row27_col19,#T_26d3531c_54a6_11ef_bdbb_96000040dfb6row27_col20,#T_26d3531c_54a6_11ef_bdbb_96000040dfb6row27_col21,#T_26d3531c_54a6_11ef_bdbb_96000040dfb6row27_col22,#T_26d3531c_54a6_11ef_bdbb_96000040dfb6row27_col23,#T_26d3531c_54a6_11ef_bdbb_96000040dfb6row27_col24,#T_26d3531c_54a6_11ef_bdbb_96000040dfb6row27_col25,#T_26d3531c_54a6_11ef_bdbb_96000040dfb6row27_col26,#T_26d3531c_54a6_11ef_bdbb_96000040dfb6row27_col27,#T_26d3531c_54a6_11ef_bdbb_96000040dfb6row27_col28,#T_26d3531c_54a6_11ef_bdbb_96000040dfb6row27_col29,#T_26d3531c_54a6_11ef_bdbb_96000040dfb6row28_col3,#T_26d3531c_54a6_11ef_bdbb_96000040dfb6row28_col4,#T_26d3531c_54a6_11ef_bdbb_96000040dfb6row28_col5,#T_26d3531c_54a6_11ef_bdbb_96000040dfb6row28_col6,#T_26d3531c_54a6_11ef_bdbb_96000040dfb6row28_col7,#T_26d3531c_54a6_11ef_bdbb_96000040dfb6row28_col8,#T_26d3531c_54a6_11ef_bdbb_96000040dfb6row28_col9,#T_26d3531c_54a6_11ef_bdbb_96000040dfb6row28_col10,#T_26d3531c_54a6_11ef_bdbb_96000040dfb6row28_col11,#T_26d3531c_54a6_11ef_bdbb_96000040dfb6row28_col12,#T_26d3531c_54a6_11ef_bdbb_96000040dfb6row28_col13,#T_26d3531c_54a6_11ef_bdbb_96000040dfb6row28_col14,#T_26d3531c_54a6_11ef_bdbb_96000040dfb6row28_col15,#T_26d3531c_54a6_11ef_bdbb_96000040dfb6row28_col16,#T_26d3531c_54a6_11ef_bdbb_96000040dfb6row28_col17,#T_26d3531c_54a6_11ef_bdbb_96000040dfb6row28_col18,#T_26d3531c_54a6_11ef_bdbb_96000040dfb6row28_col19,#T_26d3531c_54a6_11ef_bdbb_96000040dfb6row28_col20,#T_26d3531c_54a6_11ef_bdbb_96000040dfb6row28_col21,#T_26d3531c_54a6_11ef_bdbb_96000040dfb6row28_col22,#T_26d3531c_54a6_11ef_bdbb_96000040dfb6row28_col23,#T_26d3531c_54a6_11ef_bdbb_96000040dfb6row28_col24,#T_26d3531c_54a6_11ef_bdbb_96000040dfb6row28_col25,#T_26d3531c_54a6_11ef_bdbb_96000040dfb6row28_col26,#T_26d3531c_54a6_11ef_bdbb_96000040dfb6row28_col27,#T_26d3531c_54a6_11ef_bdbb_96000040dfb6row28_col28,#T_26d3531c_54a6_11ef_bdbb_96000040dfb6row28_col29,#T_26d3531c_54a6_11ef_bdbb_96000040dfb6row29_col2,#T_26d3531c_54a6_11ef_bdbb_96000040dfb6row29_col3,#T_26d3531c_54a6_11ef_bdbb_96000040dfb6row29_col4,#T_26d3531c_54a6_11ef_bdbb_96000040dfb6row29_col5,#T_26d3531c_54a6_11ef_bdbb_96000040dfb6row29_col6,#T_26d3531c_54a6_11ef_bdbb_96000040dfb6row29_col7,#T_26d3531c_54a6_11ef_bdbb_96000040dfb6row29_col8,#T_26d3531c_54a6_11ef_bdbb_96000040dfb6row29_col9,#T_26d3531c_54a6_11ef_bdbb_96000040dfb6row29_col10,#T_26d3531c_54a6_11ef_bdbb_96000040dfb6row29_col11,#T_26d3531c_54a6_11ef_bdbb_96000040dfb6row29_col12,#T_26d3531c_54a6_11ef_bdbb_96000040dfb6row29_col13,#T_26d3531c_54a6_11ef_bdbb_96000040dfb6row29_col14,#T_26d3531c_54a6_11ef_bdbb_96000040dfb6row29_col15,#T_26d3531c_54a6_11ef_bdbb_96000040dfb6row29_col16,#T_26d3531c_54a6_11ef_bdbb_96000040dfb6row29_col17,#T_26d3531c_54a6_11ef_bdbb_96000040dfb6row29_col18,#T_26d3531c_54a6_11ef_bdbb_96000040dfb6row29_col19,#T_26d3531c_54a6_11ef_bdbb_96000040dfb6row29_col20,#T_26d3531c_54a6_11ef_bdbb_96000040dfb6row29_col21,#T_26d3531c_54a6_11ef_bdbb_96000040dfb6row29_col22,#T_26d3531c_54a6_11ef_bdbb_96000040dfb6row29_col23,#T_26d3531c_54a6_11ef_bdbb_96000040dfb6row29_col24,#T_26d3531c_54a6_11ef_bdbb_96000040dfb6row29_col25,#T_26d3531c_54a6_11ef_bdbb_96000040dfb6row29_col26,#T_26d3531c_54a6_11ef_bdbb_96000040dfb6row29_col27,#T_26d3531c_54a6_11ef_bdbb_96000040dfb6row29_col28,#T_26d3531c_54a6_11ef_bdbb_96000040dfb6row29_col29,#T_26d3531c_54a6_11ef_bdbb_96000040dfb6row30_col1,#T_26d3531c_54a6_11ef_bdbb_96000040dfb6row30_col2,#T_26d3531c_54a6_11ef_bdbb_96000040dfb6row30_col3,#T_26d3531c_54a6_11ef_bdbb_96000040dfb6row30_col4,#T_26d3531c_54a6_11ef_bdbb_96000040dfb6row30_col5,#T_26d3531c_54a6_11ef_bdbb_96000040dfb6row30_col6,#T_26d3531c_54a6_11ef_bdbb_96000040dfb6row30_col7,#T_26d3531c_54a6_11ef_bdbb_96000040dfb6row30_col8,#T_26d3531c_54a6_11ef_bdbb_96000040dfb6row30_col9,#T_26d3531c_54a6_11ef_bdbb_96000040dfb6row30_col10,#T_26d3531c_54a6_11ef_bdbb_96000040dfb6row30_col11,#T_26d3531c_54a6_11ef_bdbb_96000040dfb6row30_col12,#T_26d3531c_54a6_11ef_bdbb_96000040dfb6row30_col13,#T_26d3531c_54a6_11ef_bdbb_96000040dfb6row30_col14,#T_26d3531c_54a6_11ef_bdbb_96000040dfb6row30_col15,#T_26d3531c_54a6_11ef_bdbb_96000040dfb6row30_col16,#T_26d3531c_54a6_11ef_bdbb_96000040dfb6row30_col17,#T_26d3531c_54a6_11ef_bdbb_96000040dfb6row30_col18,#T_26d3531c_54a6_11ef_bdbb_96000040dfb6row30_col19,#T_26d3531c_54a6_11ef_bdbb_96000040dfb6row30_col20,#T_26d3531c_54a6_11ef_bdbb_96000040dfb6row30_col21,#T_26d3531c_54a6_11ef_bdbb_96000040dfb6row30_col22,#T_26d3531c_54a6_11ef_bdbb_96000040dfb6row30_col23,#T_26d3531c_54a6_11ef_bdbb_96000040dfb6row30_col24,#T_26d3531c_54a6_11ef_bdbb_96000040dfb6row30_col25,#T_26d3531c_54a6_11ef_bdbb_96000040dfb6row30_col26,#T_26d3531c_54a6_11ef_bdbb_96000040dfb6row30_col27,#T_26d3531c_54a6_11ef_bdbb_96000040dfb6row30_col28,#T_26d3531c_54a6_11ef_bdbb_96000040dfb6row30_col29{\n",
       "            background-color:  #000000;\n",
       "            color:  #f1f1f1;\n",
       "            background-color:  white;\n",
       "        }#T_26d3531c_54a6_11ef_bdbb_96000040dfb6row3_col1,#T_26d3531c_54a6_11ef_bdbb_96000040dfb6row19_col9{\n",
       "            background-color:  #20a486;\n",
       "            color:  #000000;\n",
       "        }#T_26d3531c_54a6_11ef_bdbb_96000040dfb6row3_col2,#T_26d3531c_54a6_11ef_bdbb_96000040dfb6row25_col4{\n",
       "            background-color:  #3c4f8a;\n",
       "            color:  #f1f1f1;\n",
       "        }#T_26d3531c_54a6_11ef_bdbb_96000040dfb6row3_col5,#T_26d3531c_54a6_11ef_bdbb_96000040dfb6row25_col1{\n",
       "            background-color:  #472d7b;\n",
       "            color:  #f1f1f1;\n",
       "        }#T_26d3531c_54a6_11ef_bdbb_96000040dfb6row3_col6,#T_26d3531c_54a6_11ef_bdbb_96000040dfb6row9_col6,#T_26d3531c_54a6_11ef_bdbb_96000040dfb6row13_col16{\n",
       "            background-color:  #2e6f8e;\n",
       "            color:  #f1f1f1;\n",
       "        }#T_26d3531c_54a6_11ef_bdbb_96000040dfb6row3_col9,#T_26d3531c_54a6_11ef_bdbb_96000040dfb6row12_col9,#T_26d3531c_54a6_11ef_bdbb_96000040dfb6row14_col15,#T_26d3531c_54a6_11ef_bdbb_96000040dfb6row16_col14,#T_26d3531c_54a6_11ef_bdbb_96000040dfb6row22_col7,#T_26d3531c_54a6_11ef_bdbb_96000040dfb6row28_col2{\n",
       "            background-color:  #31678e;\n",
       "            color:  #f1f1f1;\n",
       "        }#T_26d3531c_54a6_11ef_bdbb_96000040dfb6row3_col11,#T_26d3531c_54a6_11ef_bdbb_96000040dfb6row17_col9,#T_26d3531c_54a6_11ef_bdbb_96000040dfb6row19_col2{\n",
       "            background-color:  #5ac864;\n",
       "            color:  #000000;\n",
       "        }#T_26d3531c_54a6_11ef_bdbb_96000040dfb6row3_col12,#T_26d3531c_54a6_11ef_bdbb_96000040dfb6row11_col8{\n",
       "            background-color:  #450559;\n",
       "            color:  #f1f1f1;\n",
       "        }#T_26d3531c_54a6_11ef_bdbb_96000040dfb6row3_col13,#T_26d3531c_54a6_11ef_bdbb_96000040dfb6row4_col24,#T_26d3531c_54a6_11ef_bdbb_96000040dfb6row9_col1{\n",
       "            background-color:  #37b878;\n",
       "            color:  #000000;\n",
       "        }#T_26d3531c_54a6_11ef_bdbb_96000040dfb6row3_col16,#T_26d3531c_54a6_11ef_bdbb_96000040dfb6row9_col12{\n",
       "            background-color:  #cae11f;\n",
       "            color:  #000000;\n",
       "        }#T_26d3531c_54a6_11ef_bdbb_96000040dfb6row3_col17,#T_26d3531c_54a6_11ef_bdbb_96000040dfb6row20_col1{\n",
       "            background-color:  #2b758e;\n",
       "            color:  #f1f1f1;\n",
       "        }#T_26d3531c_54a6_11ef_bdbb_96000040dfb6row3_col18,#T_26d3531c_54a6_11ef_bdbb_96000040dfb6row19_col10{\n",
       "            background-color:  #1f948c;\n",
       "            color:  #000000;\n",
       "        }#T_26d3531c_54a6_11ef_bdbb_96000040dfb6row3_col21,#T_26d3531c_54a6_11ef_bdbb_96000040dfb6row15_col6,#T_26d3531c_54a6_11ef_bdbb_96000040dfb6row16_col4{\n",
       "            background-color:  #26828e;\n",
       "            color:  #000000;\n",
       "        }#T_26d3531c_54a6_11ef_bdbb_96000040dfb6row3_col25,#T_26d3531c_54a6_11ef_bdbb_96000040dfb6row4_col19,#T_26d3531c_54a6_11ef_bdbb_96000040dfb6row25_col2{\n",
       "            background-color:  #433d84;\n",
       "            color:  #f1f1f1;\n",
       "        }#T_26d3531c_54a6_11ef_bdbb_96000040dfb6row4_col4,#T_26d3531c_54a6_11ef_bdbb_96000040dfb6row6_col11,#T_26d3531c_54a6_11ef_bdbb_96000040dfb6row10_col12,#T_26d3531c_54a6_11ef_bdbb_96000040dfb6row18_col4{\n",
       "            background-color:  #6ece58;\n",
       "            color:  #000000;\n",
       "        }#T_26d3531c_54a6_11ef_bdbb_96000040dfb6row4_col5,#T_26d3531c_54a6_11ef_bdbb_96000040dfb6row9_col21{\n",
       "            background-color:  #460b5e;\n",
       "            color:  #f1f1f1;\n",
       "        }#T_26d3531c_54a6_11ef_bdbb_96000040dfb6row4_col6,#T_26d3531c_54a6_11ef_bdbb_96000040dfb6row4_col11,#T_26d3531c_54a6_11ef_bdbb_96000040dfb6row5_col9,#T_26d3531c_54a6_11ef_bdbb_96000040dfb6row19_col6{\n",
       "            background-color:  #65cb5e;\n",
       "            color:  #000000;\n",
       "        }#T_26d3531c_54a6_11ef_bdbb_96000040dfb6row4_col8{\n",
       "            background-color:  #3f4788;\n",
       "            color:  #f1f1f1;\n",
       "        }#T_26d3531c_54a6_11ef_bdbb_96000040dfb6row4_col9{\n",
       "            background-color:  #2e6d8e;\n",
       "            color:  #f1f1f1;\n",
       "        }#T_26d3531c_54a6_11ef_bdbb_96000040dfb6row4_col10,#T_26d3531c_54a6_11ef_bdbb_96000040dfb6row16_col3{\n",
       "            background-color:  #32648e;\n",
       "            color:  #f1f1f1;\n",
       "        }#T_26d3531c_54a6_11ef_bdbb_96000040dfb6row4_col13,#T_26d3531c_54a6_11ef_bdbb_96000040dfb6row12_col4,#T_26d3531c_54a6_11ef_bdbb_96000040dfb6row18_col5{\n",
       "            background-color:  #22a884;\n",
       "            color:  #000000;\n",
       "        }#T_26d3531c_54a6_11ef_bdbb_96000040dfb6row4_col14{\n",
       "            background-color:  #48186a;\n",
       "            color:  #f1f1f1;\n",
       "        }#T_26d3531c_54a6_11ef_bdbb_96000040dfb6row4_col17,#T_26d3531c_54a6_11ef_bdbb_96000040dfb6row7_col16,#T_26d3531c_54a6_11ef_bdbb_96000040dfb6row8_col2{\n",
       "            background-color:  #277e8e;\n",
       "            color:  #000000;\n",
       "        }#T_26d3531c_54a6_11ef_bdbb_96000040dfb6row4_col22{\n",
       "            background-color:  #424186;\n",
       "            color:  #f1f1f1;\n",
       "        }#T_26d3531c_54a6_11ef_bdbb_96000040dfb6row4_col23{\n",
       "            background-color:  #3e4989;\n",
       "            color:  #f1f1f1;\n",
       "        }#T_26d3531c_54a6_11ef_bdbb_96000040dfb6row5_col6,#T_26d3531c_54a6_11ef_bdbb_96000040dfb6row6_col1,#T_26d3531c_54a6_11ef_bdbb_96000040dfb6row9_col17{\n",
       "            background-color:  #3aba76;\n",
       "            color:  #000000;\n",
       "        }#T_26d3531c_54a6_11ef_bdbb_96000040dfb6row5_col7{\n",
       "            background-color:  #20938c;\n",
       "            color:  #000000;\n",
       "        }#T_26d3531c_54a6_11ef_bdbb_96000040dfb6row5_col11,#T_26d3531c_54a6_11ef_bdbb_96000040dfb6row7_col6,#T_26d3531c_54a6_11ef_bdbb_96000040dfb6row9_col8,#T_26d3531c_54a6_11ef_bdbb_96000040dfb6row12_col11,#T_26d3531c_54a6_11ef_bdbb_96000040dfb6row19_col1,#T_26d3531c_54a6_11ef_bdbb_96000040dfb6row20_col10{\n",
       "            background-color:  #21a685;\n",
       "            color:  #000000;\n",
       "        }#T_26d3531c_54a6_11ef_bdbb_96000040dfb6row5_col12{\n",
       "            background-color:  #25858e;\n",
       "            color:  #000000;\n",
       "        }#T_26d3531c_54a6_11ef_bdbb_96000040dfb6row5_col16{\n",
       "            background-color:  #2a768e;\n",
       "            color:  #f1f1f1;\n",
       "        }#T_26d3531c_54a6_11ef_bdbb_96000040dfb6row5_col17,#T_26d3531c_54a6_11ef_bdbb_96000040dfb6row8_col16{\n",
       "            background-color:  #24868e;\n",
       "            color:  #000000;\n",
       "        }#T_26d3531c_54a6_11ef_bdbb_96000040dfb6row5_col18,#T_26d3531c_54a6_11ef_bdbb_96000040dfb6row10_col1{\n",
       "            background-color:  #24878e;\n",
       "            color:  #000000;\n",
       "        }#T_26d3531c_54a6_11ef_bdbb_96000040dfb6row5_col19,#T_26d3531c_54a6_11ef_bdbb_96000040dfb6row8_col3,#T_26d3531c_54a6_11ef_bdbb_96000040dfb6row23_col2{\n",
       "            background-color:  #1f998a;\n",
       "            color:  #000000;\n",
       "        }#T_26d3531c_54a6_11ef_bdbb_96000040dfb6row5_col20,#T_26d3531c_54a6_11ef_bdbb_96000040dfb6row14_col2,#T_26d3531c_54a6_11ef_bdbb_96000040dfb6row27_col1{\n",
       "            background-color:  #1fa188;\n",
       "            color:  #000000;\n",
       "        }#T_26d3531c_54a6_11ef_bdbb_96000040dfb6row5_col22,#T_26d3531c_54a6_11ef_bdbb_96000040dfb6row7_col7,#T_26d3531c_54a6_11ef_bdbb_96000040dfb6row10_col5,#T_26d3531c_54a6_11ef_bdbb_96000040dfb6row10_col13,#T_26d3531c_54a6_11ef_bdbb_96000040dfb6row20_col3{\n",
       "            background-color:  #2cb17e;\n",
       "            color:  #000000;\n",
       "        }#T_26d3531c_54a6_11ef_bdbb_96000040dfb6row5_col23,#T_26d3531c_54a6_11ef_bdbb_96000040dfb6row13_col15{\n",
       "            background-color:  #39558c;\n",
       "            color:  #f1f1f1;\n",
       "        }#T_26d3531c_54a6_11ef_bdbb_96000040dfb6row5_col25{\n",
       "            background-color:  #482878;\n",
       "            color:  #f1f1f1;\n",
       "        }#T_26d3531c_54a6_11ef_bdbb_96000040dfb6row6_col3,#T_26d3531c_54a6_11ef_bdbb_96000040dfb6row8_col7,#T_26d3531c_54a6_11ef_bdbb_96000040dfb6row16_col1{\n",
       "            background-color:  #7ad151;\n",
       "            color:  #000000;\n",
       "        }#T_26d3531c_54a6_11ef_bdbb_96000040dfb6row6_col4,#T_26d3531c_54a6_11ef_bdbb_96000040dfb6row13_col12,#T_26d3531c_54a6_11ef_bdbb_96000040dfb6row24_col3{\n",
       "            background-color:  #22a785;\n",
       "            color:  #000000;\n",
       "        }#T_26d3531c_54a6_11ef_bdbb_96000040dfb6row6_col8,#T_26d3531c_54a6_11ef_bdbb_96000040dfb6row9_col19,#T_26d3531c_54a6_11ef_bdbb_96000040dfb6row12_col13,#T_26d3531c_54a6_11ef_bdbb_96000040dfb6row19_col4,#T_26d3531c_54a6_11ef_bdbb_96000040dfb6row22_col3,#T_26d3531c_54a6_11ef_bdbb_96000040dfb6row22_col8{\n",
       "            background-color:  #29af7f;\n",
       "            color:  #000000;\n",
       "        }#T_26d3531c_54a6_11ef_bdbb_96000040dfb6row6_col9,#T_26d3531c_54a6_11ef_bdbb_96000040dfb6row14_col1,#T_26d3531c_54a6_11ef_bdbb_96000040dfb6row15_col1{\n",
       "            background-color:  #25848e;\n",
       "            color:  #000000;\n",
       "        }#T_26d3531c_54a6_11ef_bdbb_96000040dfb6row6_col10,#T_26d3531c_54a6_11ef_bdbb_96000040dfb6row13_col9,#T_26d3531c_54a6_11ef_bdbb_96000040dfb6row14_col5{\n",
       "            background-color:  #277f8e;\n",
       "            color:  #000000;\n",
       "        }#T_26d3531c_54a6_11ef_bdbb_96000040dfb6row6_col12,#T_26d3531c_54a6_11ef_bdbb_96000040dfb6row7_col10,#T_26d3531c_54a6_11ef_bdbb_96000040dfb6row10_col19,#T_26d3531c_54a6_11ef_bdbb_96000040dfb6row19_col5{\n",
       "            background-color:  #27ad81;\n",
       "            color:  #000000;\n",
       "        }#T_26d3531c_54a6_11ef_bdbb_96000040dfb6row6_col13,#T_26d3531c_54a6_11ef_bdbb_96000040dfb6row24_col1{\n",
       "            background-color:  #1f978b;\n",
       "            color:  #000000;\n",
       "        }#T_26d3531c_54a6_11ef_bdbb_96000040dfb6row6_col14{\n",
       "            background-color:  #84d44b;\n",
       "            color:  #000000;\n",
       "        }#T_26d3531c_54a6_11ef_bdbb_96000040dfb6row6_col15,#T_26d3531c_54a6_11ef_bdbb_96000040dfb6row15_col15{\n",
       "            background-color:  #3f4889;\n",
       "            color:  #f1f1f1;\n",
       "        }#T_26d3531c_54a6_11ef_bdbb_96000040dfb6row6_col16{\n",
       "            background-color:  #28ae80;\n",
       "            color:  #000000;\n",
       "        }#T_26d3531c_54a6_11ef_bdbb_96000040dfb6row6_col17{\n",
       "            background-color:  #2c728e;\n",
       "            color:  #f1f1f1;\n",
       "        }#T_26d3531c_54a6_11ef_bdbb_96000040dfb6row6_col18{\n",
       "            background-color:  #81d34d;\n",
       "            color:  #000000;\n",
       "        }#T_26d3531c_54a6_11ef_bdbb_96000040dfb6row6_col19,#T_26d3531c_54a6_11ef_bdbb_96000040dfb6row26_col3{\n",
       "            background-color:  #21a585;\n",
       "            color:  #000000;\n",
       "        }#T_26d3531c_54a6_11ef_bdbb_96000040dfb6row6_col22{\n",
       "            background-color:  #470e61;\n",
       "            color:  #f1f1f1;\n",
       "        }#T_26d3531c_54a6_11ef_bdbb_96000040dfb6row7_col1,#T_26d3531c_54a6_11ef_bdbb_96000040dfb6row13_col11{\n",
       "            background-color:  #addc30;\n",
       "            color:  #000000;\n",
       "        }#T_26d3531c_54a6_11ef_bdbb_96000040dfb6row7_col2{\n",
       "            background-color:  #a0da39;\n",
       "            color:  #000000;\n",
       "        }#T_26d3531c_54a6_11ef_bdbb_96000040dfb6row7_col5,#T_26d3531c_54a6_11ef_bdbb_96000040dfb6row9_col20{\n",
       "            background-color:  #404688;\n",
       "            color:  #f1f1f1;\n",
       "        }#T_26d3531c_54a6_11ef_bdbb_96000040dfb6row7_col8{\n",
       "            background-color:  #481f70;\n",
       "            color:  #f1f1f1;\n",
       "        }#T_26d3531c_54a6_11ef_bdbb_96000040dfb6row7_col9{\n",
       "            background-color:  #2d718e;\n",
       "            color:  #f1f1f1;\n",
       "        }#T_26d3531c_54a6_11ef_bdbb_96000040dfb6row7_col13,#T_26d3531c_54a6_11ef_bdbb_96000040dfb6row7_col22{\n",
       "            background-color:  #efe51c;\n",
       "            color:  #000000;\n",
       "        }#T_26d3531c_54a6_11ef_bdbb_96000040dfb6row7_col17,#T_26d3531c_54a6_11ef_bdbb_96000040dfb6row17_col3{\n",
       "            background-color:  #2c718e;\n",
       "            color:  #f1f1f1;\n",
       "        }#T_26d3531c_54a6_11ef_bdbb_96000040dfb6row7_col18{\n",
       "            background-color:  #453781;\n",
       "            color:  #f1f1f1;\n",
       "        }#T_26d3531c_54a6_11ef_bdbb_96000040dfb6row7_col20{\n",
       "            background-color:  #52c569;\n",
       "            color:  #000000;\n",
       "        }#T_26d3531c_54a6_11ef_bdbb_96000040dfb6row7_col21,#T_26d3531c_54a6_11ef_bdbb_96000040dfb6row12_col6{\n",
       "            background-color:  #472e7c;\n",
       "            color:  #f1f1f1;\n",
       "        }#T_26d3531c_54a6_11ef_bdbb_96000040dfb6row8_col1{\n",
       "            background-color:  #26ad81;\n",
       "            color:  #000000;\n",
       "        }#T_26d3531c_54a6_11ef_bdbb_96000040dfb6row8_col4,#T_26d3531c_54a6_11ef_bdbb_96000040dfb6row10_col2,#T_26d3531c_54a6_11ef_bdbb_96000040dfb6row17_col13{\n",
       "            background-color:  #25ac82;\n",
       "            color:  #000000;\n",
       "        }#T_26d3531c_54a6_11ef_bdbb_96000040dfb6row8_col9,#T_26d3531c_54a6_11ef_bdbb_96000040dfb6row8_col21,#T_26d3531c_54a6_11ef_bdbb_96000040dfb6row9_col9,#T_26d3531c_54a6_11ef_bdbb_96000040dfb6row15_col11,#T_26d3531c_54a6_11ef_bdbb_96000040dfb6row29_col1{\n",
       "            background-color:  #287c8e;\n",
       "            color:  #000000;\n",
       "        }#T_26d3531c_54a6_11ef_bdbb_96000040dfb6row8_col10{\n",
       "            background-color:  #46307e;\n",
       "            color:  #f1f1f1;\n",
       "        }#T_26d3531c_54a6_11ef_bdbb_96000040dfb6row8_col11{\n",
       "            background-color:  #eae51a;\n",
       "            color:  #000000;\n",
       "        }#T_26d3531c_54a6_11ef_bdbb_96000040dfb6row8_col14{\n",
       "            background-color:  #3e4a89;\n",
       "            color:  #f1f1f1;\n",
       "        }#T_26d3531c_54a6_11ef_bdbb_96000040dfb6row8_col17{\n",
       "            background-color:  #95d840;\n",
       "            color:  #000000;\n",
       "        }#T_26d3531c_54a6_11ef_bdbb_96000040dfb6row8_col22,#T_26d3531c_54a6_11ef_bdbb_96000040dfb6row14_col10,#T_26d3531c_54a6_11ef_bdbb_96000040dfb6row16_col11{\n",
       "            background-color:  #86d549;\n",
       "            color:  #000000;\n",
       "        }#T_26d3531c_54a6_11ef_bdbb_96000040dfb6row9_col2{\n",
       "            background-color:  #460a5d;\n",
       "            color:  #f1f1f1;\n",
       "        }#T_26d3531c_54a6_11ef_bdbb_96000040dfb6row9_col3{\n",
       "            background-color:  #bddf26;\n",
       "            color:  #000000;\n",
       "        }#T_26d3531c_54a6_11ef_bdbb_96000040dfb6row9_col4,#T_26d3531c_54a6_11ef_bdbb_96000040dfb6row18_col1{\n",
       "            background-color:  #98d83e;\n",
       "            color:  #000000;\n",
       "        }#T_26d3531c_54a6_11ef_bdbb_96000040dfb6row9_col10{\n",
       "            background-color:  #d0e11c;\n",
       "            color:  #000000;\n",
       "        }#T_26d3531c_54a6_11ef_bdbb_96000040dfb6row9_col11,#T_26d3531c_54a6_11ef_bdbb_96000040dfb6row14_col6{\n",
       "            background-color:  #50c46a;\n",
       "            color:  #000000;\n",
       "        }#T_26d3531c_54a6_11ef_bdbb_96000040dfb6row9_col18{\n",
       "            background-color:  #6ccd5a;\n",
       "            color:  #000000;\n",
       "        }#T_26d3531c_54a6_11ef_bdbb_96000040dfb6row10_col3{\n",
       "            background-color:  #20928c;\n",
       "            color:  #000000;\n",
       "        }#T_26d3531c_54a6_11ef_bdbb_96000040dfb6row10_col4{\n",
       "            background-color:  #a8db34;\n",
       "            color:  #000000;\n",
       "        }#T_26d3531c_54a6_11ef_bdbb_96000040dfb6row10_col7{\n",
       "            background-color:  #31b57b;\n",
       "            color:  #000000;\n",
       "        }#T_26d3531c_54a6_11ef_bdbb_96000040dfb6row10_col8,#T_26d3531c_54a6_11ef_bdbb_96000040dfb6row23_col6{\n",
       "            background-color:  #48c16e;\n",
       "            color:  #000000;\n",
       "        }#T_26d3531c_54a6_11ef_bdbb_96000040dfb6row10_col18{\n",
       "            background-color:  #aadc32;\n",
       "            color:  #000000;\n",
       "        }#T_26d3531c_54a6_11ef_bdbb_96000040dfb6row10_col20{\n",
       "            background-color:  #482173;\n",
       "            color:  #f1f1f1;\n",
       "        }#T_26d3531c_54a6_11ef_bdbb_96000040dfb6row11_col1{\n",
       "            background-color:  #4ac16d;\n",
       "            color:  #000000;\n",
       "        }#T_26d3531c_54a6_11ef_bdbb_96000040dfb6row11_col2{\n",
       "            background-color:  #375b8d;\n",
       "            color:  #f1f1f1;\n",
       "        }#T_26d3531c_54a6_11ef_bdbb_96000040dfb6row11_col6{\n",
       "            background-color:  #482979;\n",
       "            color:  #f1f1f1;\n",
       "        }#T_26d3531c_54a6_11ef_bdbb_96000040dfb6row11_col12,#T_26d3531c_54a6_11ef_bdbb_96000040dfb6row16_col7,#T_26d3531c_54a6_11ef_bdbb_96000040dfb6row20_col4{\n",
       "            background-color:  #3a548c;\n",
       "            color:  #f1f1f1;\n",
       "        }#T_26d3531c_54a6_11ef_bdbb_96000040dfb6row11_col14,#T_26d3531c_54a6_11ef_bdbb_96000040dfb6row14_col3,#T_26d3531c_54a6_11ef_bdbb_96000040dfb6row17_col7{\n",
       "            background-color:  #1f958b;\n",
       "            color:  #000000;\n",
       "        }#T_26d3531c_54a6_11ef_bdbb_96000040dfb6row11_col15,#T_26d3531c_54a6_11ef_bdbb_96000040dfb6row14_col9{\n",
       "            background-color:  #414287;\n",
       "            color:  #f1f1f1;\n",
       "        }#T_26d3531c_54a6_11ef_bdbb_96000040dfb6row11_col16{\n",
       "            background-color:  #443b84;\n",
       "            color:  #f1f1f1;\n",
       "        }#T_26d3531c_54a6_11ef_bdbb_96000040dfb6row12_col1{\n",
       "            background-color:  #34618d;\n",
       "            color:  #f1f1f1;\n",
       "        }#T_26d3531c_54a6_11ef_bdbb_96000040dfb6row12_col2{\n",
       "            background-color:  #33638d;\n",
       "            color:  #f1f1f1;\n",
       "        }#T_26d3531c_54a6_11ef_bdbb_96000040dfb6row12_col3,#T_26d3531c_54a6_11ef_bdbb_96000040dfb6row18_col6,#T_26d3531c_54a6_11ef_bdbb_96000040dfb6row27_col2{\n",
       "            background-color:  #5cc863;\n",
       "            color:  #000000;\n",
       "        }#T_26d3531c_54a6_11ef_bdbb_96000040dfb6row12_col5,#T_26d3531c_54a6_11ef_bdbb_96000040dfb6row21_col7,#T_26d3531c_54a6_11ef_bdbb_96000040dfb6row24_col2{\n",
       "            background-color:  #34b679;\n",
       "            color:  #000000;\n",
       "        }#T_26d3531c_54a6_11ef_bdbb_96000040dfb6row12_col10,#T_26d3531c_54a6_11ef_bdbb_96000040dfb6row12_col14,#T_26d3531c_54a6_11ef_bdbb_96000040dfb6row13_col5,#T_26d3531c_54a6_11ef_bdbb_96000040dfb6row15_col9,#T_26d3531c_54a6_11ef_bdbb_96000040dfb6row24_col4{\n",
       "            background-color:  #5ec962;\n",
       "            color:  #000000;\n",
       "        }#T_26d3531c_54a6_11ef_bdbb_96000040dfb6row12_col15{\n",
       "            background-color:  #30698e;\n",
       "            color:  #f1f1f1;\n",
       "        }#T_26d3531c_54a6_11ef_bdbb_96000040dfb6row12_col16,#T_26d3531c_54a6_11ef_bdbb_96000040dfb6row13_col14{\n",
       "            background-color:  #dfe318;\n",
       "            color:  #000000;\n",
       "        }#T_26d3531c_54a6_11ef_bdbb_96000040dfb6row12_col17{\n",
       "            background-color:  #3d4d8a;\n",
       "            color:  #f1f1f1;\n",
       "        }#T_26d3531c_54a6_11ef_bdbb_96000040dfb6row13_col6{\n",
       "            background-color:  #424086;\n",
       "            color:  #f1f1f1;\n",
       "        }#T_26d3531c_54a6_11ef_bdbb_96000040dfb6row13_col8,#T_26d3531c_54a6_11ef_bdbb_96000040dfb6row26_col4{\n",
       "            background-color:  #1e9b8a;\n",
       "            color:  #000000;\n",
       "        }#T_26d3531c_54a6_11ef_bdbb_96000040dfb6row14_col4{\n",
       "            background-color:  #56c667;\n",
       "            color:  #000000;\n",
       "        }#T_26d3531c_54a6_11ef_bdbb_96000040dfb6row14_col7{\n",
       "            background-color:  #2a788e;\n",
       "            color:  #000000;\n",
       "        }#T_26d3531c_54a6_11ef_bdbb_96000040dfb6row14_col8,#T_26d3531c_54a6_11ef_bdbb_96000040dfb6row18_col10{\n",
       "            background-color:  #4ec36b;\n",
       "            color:  #000000;\n",
       "        }#T_26d3531c_54a6_11ef_bdbb_96000040dfb6row14_col12,#T_26d3531c_54a6_11ef_bdbb_96000040dfb6row14_col13{\n",
       "            background-color:  #32b67a;\n",
       "            color:  #000000;\n",
       "        }#T_26d3531c_54a6_11ef_bdbb_96000040dfb6row15_col2{\n",
       "            background-color:  #450457;\n",
       "            color:  #f1f1f1;\n",
       "        }#T_26d3531c_54a6_11ef_bdbb_96000040dfb6row15_col3{\n",
       "            background-color:  #355e8d;\n",
       "            color:  #f1f1f1;\n",
       "        }#T_26d3531c_54a6_11ef_bdbb_96000040dfb6row15_col4{\n",
       "            background-color:  #44bf70;\n",
       "            color:  #000000;\n",
       "        }#T_26d3531c_54a6_11ef_bdbb_96000040dfb6row15_col10,#T_26d3531c_54a6_11ef_bdbb_96000040dfb6row22_col2,#T_26d3531c_54a6_11ef_bdbb_96000040dfb6row23_col1,#T_26d3531c_54a6_11ef_bdbb_96000040dfb6row23_col3{\n",
       "            background-color:  #2c738e;\n",
       "            color:  #f1f1f1;\n",
       "        }#T_26d3531c_54a6_11ef_bdbb_96000040dfb6row15_col12{\n",
       "            background-color:  #25838e;\n",
       "            color:  #000000;\n",
       "        }#T_26d3531c_54a6_11ef_bdbb_96000040dfb6row15_col14{\n",
       "            background-color:  #23898e;\n",
       "            color:  #000000;\n",
       "        }#T_26d3531c_54a6_11ef_bdbb_96000040dfb6row16_col2,#T_26d3531c_54a6_11ef_bdbb_96000040dfb6row17_col4{\n",
       "            background-color:  #21908d;\n",
       "            color:  #000000;\n",
       "        }#T_26d3531c_54a6_11ef_bdbb_96000040dfb6row16_col6,#T_26d3531c_54a6_11ef_bdbb_96000040dfb6row23_col5{\n",
       "            background-color:  #2e6e8e;\n",
       "            color:  #f1f1f1;\n",
       "        }#T_26d3531c_54a6_11ef_bdbb_96000040dfb6row16_col8{\n",
       "            background-color:  #3d4e8a;\n",
       "            color:  #f1f1f1;\n",
       "        }#T_26d3531c_54a6_11ef_bdbb_96000040dfb6row16_col9{\n",
       "            background-color:  #365d8d;\n",
       "            color:  #f1f1f1;\n",
       "        }#T_26d3531c_54a6_11ef_bdbb_96000040dfb6row16_col12,#T_26d3531c_54a6_11ef_bdbb_96000040dfb6row22_col5{\n",
       "            background-color:  #e2e418;\n",
       "            color:  #000000;\n",
       "        }#T_26d3531c_54a6_11ef_bdbb_96000040dfb6row17_col5,#T_26d3531c_54a6_11ef_bdbb_96000040dfb6row21_col8{\n",
       "            background-color:  #23a983;\n",
       "            color:  #000000;\n",
       "        }#T_26d3531c_54a6_11ef_bdbb_96000040dfb6row18_col7{\n",
       "            background-color:  #d8e219;\n",
       "            color:  #000000;\n",
       "        }#T_26d3531c_54a6_11ef_bdbb_96000040dfb6row18_col8{\n",
       "            background-color:  #77d153;\n",
       "            color:  #000000;\n",
       "        }#T_26d3531c_54a6_11ef_bdbb_96000040dfb6row18_col9{\n",
       "            background-color:  #35b779;\n",
       "            color:  #000000;\n",
       "        }#T_26d3531c_54a6_11ef_bdbb_96000040dfb6row19_col3{\n",
       "            background-color:  #dae319;\n",
       "            color:  #000000;\n",
       "        }#T_26d3531c_54a6_11ef_bdbb_96000040dfb6row20_col2{\n",
       "            background-color:  #2eb37c;\n",
       "            color:  #000000;\n",
       "        }#T_26d3531c_54a6_11ef_bdbb_96000040dfb6row20_col7{\n",
       "            background-color:  #67cc5c;\n",
       "            color:  #000000;\n",
       "        }#T_26d3531c_54a6_11ef_bdbb_96000040dfb6row20_col8{\n",
       "            background-color:  #306a8e;\n",
       "            color:  #f1f1f1;\n",
       "        }#T_26d3531c_54a6_11ef_bdbb_96000040dfb6row21_col1{\n",
       "            background-color:  #90d743;\n",
       "            color:  #000000;\n",
       "        }#T_26d3531c_54a6_11ef_bdbb_96000040dfb6row21_col5,#T_26d3531c_54a6_11ef_bdbb_96000040dfb6row23_col7{\n",
       "            background-color:  #218e8d;\n",
       "            color:  #000000;\n",
       "        }#T_26d3531c_54a6_11ef_bdbb_96000040dfb6row22_col1{\n",
       "            background-color:  #d2e21b;\n",
       "            color:  #000000;\n",
       "        }#T_26d3531c_54a6_11ef_bdbb_96000040dfb6row22_col6{\n",
       "            background-color:  #b5de2b;\n",
       "            color:  #000000;\n",
       "        }#T_26d3531c_54a6_11ef_bdbb_96000040dfb6row24_col5{\n",
       "            background-color:  #472f7d;\n",
       "            color:  #f1f1f1;\n",
       "        }#T_26d3531c_54a6_11ef_bdbb_96000040dfb6row26_col2{\n",
       "            background-color:  #46327e;\n",
       "            color:  #f1f1f1;\n",
       "        }#T_26d3531c_54a6_11ef_bdbb_96000040dfb6row27_col3{\n",
       "            background-color:  #7cd250;\n",
       "            color:  #000000;\n",
       "        }#T_26d3531c_54a6_11ef_bdbb_96000040dfb6row28_col1{\n",
       "            background-color:  #e7e419;\n",
       "            color:  #000000;\n",
       "        }</style><table id=\"T_26d3531c_54a6_11ef_bdbb_96000040dfb6\" ><caption>User retention by cohort</caption><thead>    <tr>        <th class=\"index_name level0\" >days_since_registration</th>        <th class=\"col_heading level0 col0\" >0</th>        <th class=\"col_heading level0 col1\" >1</th>        <th class=\"col_heading level0 col2\" >2</th>        <th class=\"col_heading level0 col3\" >3</th>        <th class=\"col_heading level0 col4\" >4</th>        <th class=\"col_heading level0 col5\" >5</th>        <th class=\"col_heading level0 col6\" >6</th>        <th class=\"col_heading level0 col7\" >7</th>        <th class=\"col_heading level0 col8\" >8</th>        <th class=\"col_heading level0 col9\" >9</th>        <th class=\"col_heading level0 col10\" >10</th>        <th class=\"col_heading level0 col11\" >11</th>        <th class=\"col_heading level0 col12\" >12</th>        <th class=\"col_heading level0 col13\" >13</th>        <th class=\"col_heading level0 col14\" >14</th>        <th class=\"col_heading level0 col15\" >15</th>        <th class=\"col_heading level0 col16\" >16</th>        <th class=\"col_heading level0 col17\" >17</th>        <th class=\"col_heading level0 col18\" >18</th>        <th class=\"col_heading level0 col19\" >19</th>        <th class=\"col_heading level0 col20\" >20</th>        <th class=\"col_heading level0 col21\" >21</th>        <th class=\"col_heading level0 col22\" >22</th>        <th class=\"col_heading level0 col23\" >23</th>        <th class=\"col_heading level0 col24\" >24</th>        <th class=\"col_heading level0 col25\" >25</th>        <th class=\"col_heading level0 col26\" >26</th>        <th class=\"col_heading level0 col27\" >27</th>        <th class=\"col_heading level0 col28\" >28</th>        <th class=\"col_heading level0 col29\" >29</th>        <th class=\"col_heading level0 col30\" >30</th>    </tr>    <tr>        <th class=\"index_name level0\" >cohort</th>        <th class=\"blank\" ></th>        <th class=\"blank\" ></th>        <th class=\"blank\" ></th>        <th class=\"blank\" ></th>        <th class=\"blank\" ></th>        <th class=\"blank\" ></th>        <th class=\"blank\" ></th>        <th class=\"blank\" ></th>        <th class=\"blank\" ></th>        <th class=\"blank\" ></th>        <th class=\"blank\" ></th>        <th class=\"blank\" ></th>        <th class=\"blank\" ></th>        <th class=\"blank\" ></th>        <th class=\"blank\" ></th>        <th class=\"blank\" ></th>        <th class=\"blank\" ></th>        <th class=\"blank\" ></th>        <th class=\"blank\" ></th>        <th class=\"blank\" ></th>        <th class=\"blank\" ></th>        <th class=\"blank\" ></th>        <th class=\"blank\" ></th>        <th class=\"blank\" ></th>        <th class=\"blank\" ></th>        <th class=\"blank\" ></th>        <th class=\"blank\" ></th>        <th class=\"blank\" ></th>        <th class=\"blank\" ></th>        <th class=\"blank\" ></th>        <th class=\"blank\" ></th>    </tr></thead><tbody>\n",
       "                <tr>\n",
       "                        <th id=\"T_26d3531c_54a6_11ef_bdbb_96000040dfb6level0_row0\" class=\"row_heading level0 row0\" >2020-08-01</th>\n",
       "                        <td id=\"T_26d3531c_54a6_11ef_bdbb_96000040dfb6row0_col0\" class=\"data row0 col0\" >100.00%</td>\n",
       "                        <td id=\"T_26d3531c_54a6_11ef_bdbb_96000040dfb6row0_col1\" class=\"data row0 col1\" >1.92%</td>\n",
       "                        <td id=\"T_26d3531c_54a6_11ef_bdbb_96000040dfb6row0_col2\" class=\"data row0 col2\" >4.45%</td>\n",
       "                        <td id=\"T_26d3531c_54a6_11ef_bdbb_96000040dfb6row0_col3\" class=\"data row0 col3\" >4.31%</td>\n",
       "                        <td id=\"T_26d3531c_54a6_11ef_bdbb_96000040dfb6row0_col4\" class=\"data row0 col4\" >5.57%</td>\n",
       "                        <td id=\"T_26d3531c_54a6_11ef_bdbb_96000040dfb6row0_col5\" class=\"data row0 col5\" >5.91%</td>\n",
       "                        <td id=\"T_26d3531c_54a6_11ef_bdbb_96000040dfb6row0_col6\" class=\"data row0 col6\" >7.63%</td>\n",
       "                        <td id=\"T_26d3531c_54a6_11ef_bdbb_96000040dfb6row0_col7\" class=\"data row0 col7\" >6.37%</td>\n",
       "                        <td id=\"T_26d3531c_54a6_11ef_bdbb_96000040dfb6row0_col8\" class=\"data row0 col8\" >4.51%</td>\n",
       "                        <td id=\"T_26d3531c_54a6_11ef_bdbb_96000040dfb6row0_col9\" class=\"data row0 col9\" >6.37%</td>\n",
       "                        <td id=\"T_26d3531c_54a6_11ef_bdbb_96000040dfb6row0_col10\" class=\"data row0 col10\" >4.78%</td>\n",
       "                        <td id=\"T_26d3531c_54a6_11ef_bdbb_96000040dfb6row0_col11\" class=\"data row0 col11\" >5.11%</td>\n",
       "                        <td id=\"T_26d3531c_54a6_11ef_bdbb_96000040dfb6row0_col12\" class=\"data row0 col12\" >5.91%</td>\n",
       "                        <td id=\"T_26d3531c_54a6_11ef_bdbb_96000040dfb6row0_col13\" class=\"data row0 col13\" >4.71%</td>\n",
       "                        <td id=\"T_26d3531c_54a6_11ef_bdbb_96000040dfb6row0_col14\" class=\"data row0 col14\" >4.51%</td>\n",
       "                        <td id=\"T_26d3531c_54a6_11ef_bdbb_96000040dfb6row0_col15\" class=\"data row0 col15\" >4.91%</td>\n",
       "                        <td id=\"T_26d3531c_54a6_11ef_bdbb_96000040dfb6row0_col16\" class=\"data row0 col16\" >3.65%</td>\n",
       "                        <td id=\"T_26d3531c_54a6_11ef_bdbb_96000040dfb6row0_col17\" class=\"data row0 col17\" >4.45%</td>\n",
       "                        <td id=\"T_26d3531c_54a6_11ef_bdbb_96000040dfb6row0_col18\" class=\"data row0 col18\" >3.78%</td>\n",
       "                        <td id=\"T_26d3531c_54a6_11ef_bdbb_96000040dfb6row0_col19\" class=\"data row0 col19\" >4.11%</td>\n",
       "                        <td id=\"T_26d3531c_54a6_11ef_bdbb_96000040dfb6row0_col20\" class=\"data row0 col20\" >4.64%</td>\n",
       "                        <td id=\"T_26d3531c_54a6_11ef_bdbb_96000040dfb6row0_col21\" class=\"data row0 col21\" >3.38%</td>\n",
       "                        <td id=\"T_26d3531c_54a6_11ef_bdbb_96000040dfb6row0_col22\" class=\"data row0 col22\" >4.05%</td>\n",
       "                        <td id=\"T_26d3531c_54a6_11ef_bdbb_96000040dfb6row0_col23\" class=\"data row0 col23\" >3.78%</td>\n",
       "                        <td id=\"T_26d3531c_54a6_11ef_bdbb_96000040dfb6row0_col24\" class=\"data row0 col24\" >4.18%</td>\n",
       "                        <td id=\"T_26d3531c_54a6_11ef_bdbb_96000040dfb6row0_col25\" class=\"data row0 col25\" >4.11%</td>\n",
       "                        <td id=\"T_26d3531c_54a6_11ef_bdbb_96000040dfb6row0_col26\" class=\"data row0 col26\" >2.52%</td>\n",
       "                        <td id=\"T_26d3531c_54a6_11ef_bdbb_96000040dfb6row0_col27\" class=\"data row0 col27\" >3.12%</td>\n",
       "                        <td id=\"T_26d3531c_54a6_11ef_bdbb_96000040dfb6row0_col28\" class=\"data row0 col28\" >3.19%</td>\n",
       "                        <td id=\"T_26d3531c_54a6_11ef_bdbb_96000040dfb6row0_col29\" class=\"data row0 col29\" >3.05%</td>\n",
       "                        <td id=\"T_26d3531c_54a6_11ef_bdbb_96000040dfb6row0_col30\" class=\"data row0 col30\" >2.72%</td>\n",
       "            </tr>\n",
       "            <tr>\n",
       "                        <th id=\"T_26d3531c_54a6_11ef_bdbb_96000040dfb6level0_row1\" class=\"row_heading level0 row1\" >2020-08-02</th>\n",
       "                        <td id=\"T_26d3531c_54a6_11ef_bdbb_96000040dfb6row1_col0\" class=\"data row1 col0\" >100.00%</td>\n",
       "                        <td id=\"T_26d3531c_54a6_11ef_bdbb_96000040dfb6row1_col1\" class=\"data row1 col1\" >2.58%</td>\n",
       "                        <td id=\"T_26d3531c_54a6_11ef_bdbb_96000040dfb6row1_col2\" class=\"data row1 col2\" >4.04%</td>\n",
       "                        <td id=\"T_26d3531c_54a6_11ef_bdbb_96000040dfb6row1_col3\" class=\"data row1 col3\" >4.37%</td>\n",
       "                        <td id=\"T_26d3531c_54a6_11ef_bdbb_96000040dfb6row1_col4\" class=\"data row1 col4\" >5.17%</td>\n",
       "                        <td id=\"T_26d3531c_54a6_11ef_bdbb_96000040dfb6row1_col5\" class=\"data row1 col5\" >6.49%</td>\n",
       "                        <td id=\"T_26d3531c_54a6_11ef_bdbb_96000040dfb6row1_col6\" class=\"data row1 col6\" >6.63%</td>\n",
       "                        <td id=\"T_26d3531c_54a6_11ef_bdbb_96000040dfb6row1_col7\" class=\"data row1 col7\" >6.03%</td>\n",
       "                        <td id=\"T_26d3531c_54a6_11ef_bdbb_96000040dfb6row1_col8\" class=\"data row1 col8\" >4.51%</td>\n",
       "                        <td id=\"T_26d3531c_54a6_11ef_bdbb_96000040dfb6row1_col9\" class=\"data row1 col9\" >5.30%</td>\n",
       "                        <td id=\"T_26d3531c_54a6_11ef_bdbb_96000040dfb6row1_col10\" class=\"data row1 col10\" >5.50%</td>\n",
       "                        <td id=\"T_26d3531c_54a6_11ef_bdbb_96000040dfb6row1_col11\" class=\"data row1 col11\" >5.17%</td>\n",
       "                        <td id=\"T_26d3531c_54a6_11ef_bdbb_96000040dfb6row1_col12\" class=\"data row1 col12\" >4.57%</td>\n",
       "                        <td id=\"T_26d3531c_54a6_11ef_bdbb_96000040dfb6row1_col13\" class=\"data row1 col13\" >5.50%</td>\n",
       "                        <td id=\"T_26d3531c_54a6_11ef_bdbb_96000040dfb6row1_col14\" class=\"data row1 col14\" >4.64%</td>\n",
       "                        <td id=\"T_26d3531c_54a6_11ef_bdbb_96000040dfb6row1_col15\" class=\"data row1 col15\" >4.24%</td>\n",
       "                        <td id=\"T_26d3531c_54a6_11ef_bdbb_96000040dfb6row1_col16\" class=\"data row1 col16\" >4.97%</td>\n",
       "                        <td id=\"T_26d3531c_54a6_11ef_bdbb_96000040dfb6row1_col17\" class=\"data row1 col17\" >5.57%</td>\n",
       "                        <td id=\"T_26d3531c_54a6_11ef_bdbb_96000040dfb6row1_col18\" class=\"data row1 col18\" >4.51%</td>\n",
       "                        <td id=\"T_26d3531c_54a6_11ef_bdbb_96000040dfb6row1_col19\" class=\"data row1 col19\" >3.78%</td>\n",
       "                        <td id=\"T_26d3531c_54a6_11ef_bdbb_96000040dfb6row1_col20\" class=\"data row1 col20\" >3.91%</td>\n",
       "                        <td id=\"T_26d3531c_54a6_11ef_bdbb_96000040dfb6row1_col21\" class=\"data row1 col21\" >4.57%</td>\n",
       "                        <td id=\"T_26d3531c_54a6_11ef_bdbb_96000040dfb6row1_col22\" class=\"data row1 col22\" >3.84%</td>\n",
       "                        <td id=\"T_26d3531c_54a6_11ef_bdbb_96000040dfb6row1_col23\" class=\"data row1 col23\" >3.91%</td>\n",
       "                        <td id=\"T_26d3531c_54a6_11ef_bdbb_96000040dfb6row1_col24\" class=\"data row1 col24\" >3.98%</td>\n",
       "                        <td id=\"T_26d3531c_54a6_11ef_bdbb_96000040dfb6row1_col25\" class=\"data row1 col25\" >3.25%</td>\n",
       "                        <td id=\"T_26d3531c_54a6_11ef_bdbb_96000040dfb6row1_col26\" class=\"data row1 col26\" >3.38%</td>\n",
       "                        <td id=\"T_26d3531c_54a6_11ef_bdbb_96000040dfb6row1_col27\" class=\"data row1 col27\" >2.98%</td>\n",
       "                        <td id=\"T_26d3531c_54a6_11ef_bdbb_96000040dfb6row1_col28\" class=\"data row1 col28\" >3.38%</td>\n",
       "                        <td id=\"T_26d3531c_54a6_11ef_bdbb_96000040dfb6row1_col29\" class=\"data row1 col29\" >3.31%</td>\n",
       "                        <td id=\"T_26d3531c_54a6_11ef_bdbb_96000040dfb6row1_col30\" class=\"data row1 col30\" ></td>\n",
       "            </tr>\n",
       "            <tr>\n",
       "                        <th id=\"T_26d3531c_54a6_11ef_bdbb_96000040dfb6level0_row2\" class=\"row_heading level0 row2\" >2020-08-03</th>\n",
       "                        <td id=\"T_26d3531c_54a6_11ef_bdbb_96000040dfb6row2_col0\" class=\"data row2 col0\" >100.00%</td>\n",
       "                        <td id=\"T_26d3531c_54a6_11ef_bdbb_96000040dfb6row2_col1\" class=\"data row2 col1\" >1.72%</td>\n",
       "                        <td id=\"T_26d3531c_54a6_11ef_bdbb_96000040dfb6row2_col2\" class=\"data row2 col2\" >4.30%</td>\n",
       "                        <td id=\"T_26d3531c_54a6_11ef_bdbb_96000040dfb6row2_col3\" class=\"data row2 col3\" >4.03%</td>\n",
       "                        <td id=\"T_26d3531c_54a6_11ef_bdbb_96000040dfb6row2_col4\" class=\"data row2 col4\" >5.56%</td>\n",
       "                        <td id=\"T_26d3531c_54a6_11ef_bdbb_96000040dfb6row2_col5\" class=\"data row2 col5\" >6.15%</td>\n",
       "                        <td id=\"T_26d3531c_54a6_11ef_bdbb_96000040dfb6row2_col6\" class=\"data row2 col6\" >7.54%</td>\n",
       "                        <td id=\"T_26d3531c_54a6_11ef_bdbb_96000040dfb6row2_col7\" class=\"data row2 col7\" >5.29%</td>\n",
       "                        <td id=\"T_26d3531c_54a6_11ef_bdbb_96000040dfb6row2_col8\" class=\"data row2 col8\" >4.96%</td>\n",
       "                        <td id=\"T_26d3531c_54a6_11ef_bdbb_96000040dfb6row2_col9\" class=\"data row2 col9\" >4.89%</td>\n",
       "                        <td id=\"T_26d3531c_54a6_11ef_bdbb_96000040dfb6row2_col10\" class=\"data row2 col10\" >5.36%</td>\n",
       "                        <td id=\"T_26d3531c_54a6_11ef_bdbb_96000040dfb6row2_col11\" class=\"data row2 col11\" >5.09%</td>\n",
       "                        <td id=\"T_26d3531c_54a6_11ef_bdbb_96000040dfb6row2_col12\" class=\"data row2 col12\" >5.62%</td>\n",
       "                        <td id=\"T_26d3531c_54a6_11ef_bdbb_96000040dfb6row2_col13\" class=\"data row2 col13\" >5.62%</td>\n",
       "                        <td id=\"T_26d3531c_54a6_11ef_bdbb_96000040dfb6row2_col14\" class=\"data row2 col14\" >4.23%</td>\n",
       "                        <td id=\"T_26d3531c_54a6_11ef_bdbb_96000040dfb6row2_col15\" class=\"data row2 col15\" >3.84%</td>\n",
       "                        <td id=\"T_26d3531c_54a6_11ef_bdbb_96000040dfb6row2_col16\" class=\"data row2 col16\" >3.90%</td>\n",
       "                        <td id=\"T_26d3531c_54a6_11ef_bdbb_96000040dfb6row2_col17\" class=\"data row2 col17\" >4.96%</td>\n",
       "                        <td id=\"T_26d3531c_54a6_11ef_bdbb_96000040dfb6row2_col18\" class=\"data row2 col18\" >5.62%</td>\n",
       "                        <td id=\"T_26d3531c_54a6_11ef_bdbb_96000040dfb6row2_col19\" class=\"data row2 col19\" >3.84%</td>\n",
       "                        <td id=\"T_26d3531c_54a6_11ef_bdbb_96000040dfb6row2_col20\" class=\"data row2 col20\" >3.84%</td>\n",
       "                        <td id=\"T_26d3531c_54a6_11ef_bdbb_96000040dfb6row2_col21\" class=\"data row2 col21\" >4.10%</td>\n",
       "                        <td id=\"T_26d3531c_54a6_11ef_bdbb_96000040dfb6row2_col22\" class=\"data row2 col22\" >4.37%</td>\n",
       "                        <td id=\"T_26d3531c_54a6_11ef_bdbb_96000040dfb6row2_col23\" class=\"data row2 col23\" >2.98%</td>\n",
       "                        <td id=\"T_26d3531c_54a6_11ef_bdbb_96000040dfb6row2_col24\" class=\"data row2 col24\" >3.90%</td>\n",
       "                        <td id=\"T_26d3531c_54a6_11ef_bdbb_96000040dfb6row2_col25\" class=\"data row2 col25\" >3.17%</td>\n",
       "                        <td id=\"T_26d3531c_54a6_11ef_bdbb_96000040dfb6row2_col26\" class=\"data row2 col26\" >4.37%</td>\n",
       "                        <td id=\"T_26d3531c_54a6_11ef_bdbb_96000040dfb6row2_col27\" class=\"data row2 col27\" >3.37%</td>\n",
       "                        <td id=\"T_26d3531c_54a6_11ef_bdbb_96000040dfb6row2_col28\" class=\"data row2 col28\" >3.24%</td>\n",
       "                        <td id=\"T_26d3531c_54a6_11ef_bdbb_96000040dfb6row2_col29\" class=\"data row2 col29\" ></td>\n",
       "                        <td id=\"T_26d3531c_54a6_11ef_bdbb_96000040dfb6row2_col30\" class=\"data row2 col30\" ></td>\n",
       "            </tr>\n",
       "            <tr>\n",
       "                        <th id=\"T_26d3531c_54a6_11ef_bdbb_96000040dfb6level0_row3\" class=\"row_heading level0 row3\" >2020-08-04</th>\n",
       "                        <td id=\"T_26d3531c_54a6_11ef_bdbb_96000040dfb6row3_col0\" class=\"data row3 col0\" >100.00%</td>\n",
       "                        <td id=\"T_26d3531c_54a6_11ef_bdbb_96000040dfb6row3_col1\" class=\"data row3 col1\" >2.05%</td>\n",
       "                        <td id=\"T_26d3531c_54a6_11ef_bdbb_96000040dfb6row3_col2\" class=\"data row3 col2\" >3.57%</td>\n",
       "                        <td id=\"T_26d3531c_54a6_11ef_bdbb_96000040dfb6row3_col3\" class=\"data row3 col3\" >4.69%</td>\n",
       "                        <td id=\"T_26d3531c_54a6_11ef_bdbb_96000040dfb6row3_col4\" class=\"data row3 col4\" >5.22%</td>\n",
       "                        <td id=\"T_26d3531c_54a6_11ef_bdbb_96000040dfb6row3_col5\" class=\"data row3 col5\" >5.28%</td>\n",
       "                        <td id=\"T_26d3531c_54a6_11ef_bdbb_96000040dfb6row3_col6\" class=\"data row3 col6\" >6.47%</td>\n",
       "                        <td id=\"T_26d3531c_54a6_11ef_bdbb_96000040dfb6row3_col7\" class=\"data row3 col7\" >5.15%</td>\n",
       "                        <td id=\"T_26d3531c_54a6_11ef_bdbb_96000040dfb6row3_col8\" class=\"data row3 col8\" >4.43%</td>\n",
       "                        <td id=\"T_26d3531c_54a6_11ef_bdbb_96000040dfb6row3_col9\" class=\"data row3 col9\" >4.69%</td>\n",
       "                        <td id=\"T_26d3531c_54a6_11ef_bdbb_96000040dfb6row3_col10\" class=\"data row3 col10\" >5.28%</td>\n",
       "                        <td id=\"T_26d3531c_54a6_11ef_bdbb_96000040dfb6row3_col11\" class=\"data row3 col11\" >5.61%</td>\n",
       "                        <td id=\"T_26d3531c_54a6_11ef_bdbb_96000040dfb6row3_col12\" class=\"data row3 col12\" >4.03%</td>\n",
       "                        <td id=\"T_26d3531c_54a6_11ef_bdbb_96000040dfb6row3_col13\" class=\"data row3 col13\" >4.95%</td>\n",
       "                        <td id=\"T_26d3531c_54a6_11ef_bdbb_96000040dfb6row3_col14\" class=\"data row3 col14\" >3.57%</td>\n",
       "                        <td id=\"T_26d3531c_54a6_11ef_bdbb_96000040dfb6row3_col15\" class=\"data row3 col15\" >4.76%</td>\n",
       "                        <td id=\"T_26d3531c_54a6_11ef_bdbb_96000040dfb6row3_col16\" class=\"data row3 col16\" >5.09%</td>\n",
       "                        <td id=\"T_26d3531c_54a6_11ef_bdbb_96000040dfb6row3_col17\" class=\"data row3 col17\" >4.56%</td>\n",
       "                        <td id=\"T_26d3531c_54a6_11ef_bdbb_96000040dfb6row3_col18\" class=\"data row3 col18\" >4.36%</td>\n",
       "                        <td id=\"T_26d3531c_54a6_11ef_bdbb_96000040dfb6row3_col19\" class=\"data row3 col19\" >3.50%</td>\n",
       "                        <td id=\"T_26d3531c_54a6_11ef_bdbb_96000040dfb6row3_col20\" class=\"data row3 col20\" >4.10%</td>\n",
       "                        <td id=\"T_26d3531c_54a6_11ef_bdbb_96000040dfb6row3_col21\" class=\"data row3 col21\" >3.96%</td>\n",
       "                        <td id=\"T_26d3531c_54a6_11ef_bdbb_96000040dfb6row3_col22\" class=\"data row3 col22\" >3.04%</td>\n",
       "                        <td id=\"T_26d3531c_54a6_11ef_bdbb_96000040dfb6row3_col23\" class=\"data row3 col23\" >4.43%</td>\n",
       "                        <td id=\"T_26d3531c_54a6_11ef_bdbb_96000040dfb6row3_col24\" class=\"data row3 col24\" >2.91%</td>\n",
       "                        <td id=\"T_26d3531c_54a6_11ef_bdbb_96000040dfb6row3_col25\" class=\"data row3 col25\" >3.17%</td>\n",
       "                        <td id=\"T_26d3531c_54a6_11ef_bdbb_96000040dfb6row3_col26\" class=\"data row3 col26\" >2.97%</td>\n",
       "                        <td id=\"T_26d3531c_54a6_11ef_bdbb_96000040dfb6row3_col27\" class=\"data row3 col27\" >3.17%</td>\n",
       "                        <td id=\"T_26d3531c_54a6_11ef_bdbb_96000040dfb6row3_col28\" class=\"data row3 col28\" ></td>\n",
       "                        <td id=\"T_26d3531c_54a6_11ef_bdbb_96000040dfb6row3_col29\" class=\"data row3 col29\" ></td>\n",
       "                        <td id=\"T_26d3531c_54a6_11ef_bdbb_96000040dfb6row3_col30\" class=\"data row3 col30\" ></td>\n",
       "            </tr>\n",
       "            <tr>\n",
       "                        <th id=\"T_26d3531c_54a6_11ef_bdbb_96000040dfb6level0_row4\" class=\"row_heading level0 row4\" >2020-08-05</th>\n",
       "                        <td id=\"T_26d3531c_54a6_11ef_bdbb_96000040dfb6row4_col0\" class=\"data row4 col0\" >100.00%</td>\n",
       "                        <td id=\"T_26d3531c_54a6_11ef_bdbb_96000040dfb6row4_col1\" class=\"data row4 col1\" >2.57%</td>\n",
       "                        <td id=\"T_26d3531c_54a6_11ef_bdbb_96000040dfb6row4_col2\" class=\"data row4 col2\" >3.49%</td>\n",
       "                        <td id=\"T_26d3531c_54a6_11ef_bdbb_96000040dfb6row4_col3\" class=\"data row4 col3\" >4.02%</td>\n",
       "                        <td id=\"T_26d3531c_54a6_11ef_bdbb_96000040dfb6row4_col4\" class=\"data row4 col4\" >5.74%</td>\n",
       "                        <td id=\"T_26d3531c_54a6_11ef_bdbb_96000040dfb6row4_col5\" class=\"data row4 col5\" >5.08%</td>\n",
       "                        <td id=\"T_26d3531c_54a6_11ef_bdbb_96000040dfb6row4_col6\" class=\"data row4 col6\" >7.78%</td>\n",
       "                        <td id=\"T_26d3531c_54a6_11ef_bdbb_96000040dfb6row4_col7\" class=\"data row4 col7\" >6.13%</td>\n",
       "                        <td id=\"T_26d3531c_54a6_11ef_bdbb_96000040dfb6row4_col8\" class=\"data row4 col8\" >4.22%</td>\n",
       "                        <td id=\"T_26d3531c_54a6_11ef_bdbb_96000040dfb6row4_col9\" class=\"data row4 col9\" >4.75%</td>\n",
       "                        <td id=\"T_26d3531c_54a6_11ef_bdbb_96000040dfb6row4_col10\" class=\"data row4 col10\" >4.75%</td>\n",
       "                        <td id=\"T_26d3531c_54a6_11ef_bdbb_96000040dfb6row4_col11\" class=\"data row4 col11\" >5.67%</td>\n",
       "                        <td id=\"T_26d3531c_54a6_11ef_bdbb_96000040dfb6row4_col12\" class=\"data row4 col12\" >5.21%</td>\n",
       "                        <td id=\"T_26d3531c_54a6_11ef_bdbb_96000040dfb6row4_col13\" class=\"data row4 col13\" >4.81%</td>\n",
       "                        <td id=\"T_26d3531c_54a6_11ef_bdbb_96000040dfb6row4_col14\" class=\"data row4 col14\" >3.69%</td>\n",
       "                        <td id=\"T_26d3531c_54a6_11ef_bdbb_96000040dfb6row4_col15\" class=\"data row4 col15\" >3.76%</td>\n",
       "                        <td id=\"T_26d3531c_54a6_11ef_bdbb_96000040dfb6row4_col16\" class=\"data row4 col16\" >3.56%</td>\n",
       "                        <td id=\"T_26d3531c_54a6_11ef_bdbb_96000040dfb6row4_col17\" class=\"data row4 col17\" >4.61%</td>\n",
       "                        <td id=\"T_26d3531c_54a6_11ef_bdbb_96000040dfb6row4_col18\" class=\"data row4 col18\" >4.22%</td>\n",
       "                        <td id=\"T_26d3531c_54a6_11ef_bdbb_96000040dfb6row4_col19\" class=\"data row4 col19\" >3.69%</td>\n",
       "                        <td id=\"T_26d3531c_54a6_11ef_bdbb_96000040dfb6row4_col20\" class=\"data row4 col20\" >4.15%</td>\n",
       "                        <td id=\"T_26d3531c_54a6_11ef_bdbb_96000040dfb6row4_col21\" class=\"data row4 col21\" >3.36%</td>\n",
       "                        <td id=\"T_26d3531c_54a6_11ef_bdbb_96000040dfb6row4_col22\" class=\"data row4 col22\" >3.30%</td>\n",
       "                        <td id=\"T_26d3531c_54a6_11ef_bdbb_96000040dfb6row4_col23\" class=\"data row4 col23\" >3.30%</td>\n",
       "                        <td id=\"T_26d3531c_54a6_11ef_bdbb_96000040dfb6row4_col24\" class=\"data row4 col24\" >3.76%</td>\n",
       "                        <td id=\"T_26d3531c_54a6_11ef_bdbb_96000040dfb6row4_col25\" class=\"data row4 col25\" >2.97%</td>\n",
       "                        <td id=\"T_26d3531c_54a6_11ef_bdbb_96000040dfb6row4_col26\" class=\"data row4 col26\" >3.56%</td>\n",
       "                        <td id=\"T_26d3531c_54a6_11ef_bdbb_96000040dfb6row4_col27\" class=\"data row4 col27\" ></td>\n",
       "                        <td id=\"T_26d3531c_54a6_11ef_bdbb_96000040dfb6row4_col28\" class=\"data row4 col28\" ></td>\n",
       "                        <td id=\"T_26d3531c_54a6_11ef_bdbb_96000040dfb6row4_col29\" class=\"data row4 col29\" ></td>\n",
       "                        <td id=\"T_26d3531c_54a6_11ef_bdbb_96000040dfb6row4_col30\" class=\"data row4 col30\" ></td>\n",
       "            </tr>\n",
       "            <tr>\n",
       "                        <th id=\"T_26d3531c_54a6_11ef_bdbb_96000040dfb6level0_row5\" class=\"row_heading level0 row5\" >2020-08-06</th>\n",
       "                        <td id=\"T_26d3531c_54a6_11ef_bdbb_96000040dfb6row5_col0\" class=\"data row5 col0\" >100.00%</td>\n",
       "                        <td id=\"T_26d3531c_54a6_11ef_bdbb_96000040dfb6row5_col1\" class=\"data row5 col1\" >1.71%</td>\n",
       "                        <td id=\"T_26d3531c_54a6_11ef_bdbb_96000040dfb6row5_col2\" class=\"data row5 col2\" >5.07%</td>\n",
       "                        <td id=\"T_26d3531c_54a6_11ef_bdbb_96000040dfb6row5_col3\" class=\"data row5 col3\" >5.73%</td>\n",
       "                        <td id=\"T_26d3531c_54a6_11ef_bdbb_96000040dfb6row5_col4\" class=\"data row5 col4\" >5.60%</td>\n",
       "                        <td id=\"T_26d3531c_54a6_11ef_bdbb_96000040dfb6row5_col5\" class=\"data row5 col5\" >5.73%</td>\n",
       "                        <td id=\"T_26d3531c_54a6_11ef_bdbb_96000040dfb6row5_col6\" class=\"data row5 col6\" >7.50%</td>\n",
       "                        <td id=\"T_26d3531c_54a6_11ef_bdbb_96000040dfb6row5_col7\" class=\"data row5 col7\" >6.06%</td>\n",
       "                        <td id=\"T_26d3531c_54a6_11ef_bdbb_96000040dfb6row5_col8\" class=\"data row5 col8\" >5.00%</td>\n",
       "                        <td id=\"T_26d3531c_54a6_11ef_bdbb_96000040dfb6row5_col9\" class=\"data row5 col9\" >5.79%</td>\n",
       "                        <td id=\"T_26d3531c_54a6_11ef_bdbb_96000040dfb6row5_col10\" class=\"data row5 col10\" >5.13%</td>\n",
       "                        <td id=\"T_26d3531c_54a6_11ef_bdbb_96000040dfb6row5_col11\" class=\"data row5 col11\" >5.20%</td>\n",
       "                        <td id=\"T_26d3531c_54a6_11ef_bdbb_96000040dfb6row5_col12\" class=\"data row5 col12\" >4.87%</td>\n",
       "                        <td id=\"T_26d3531c_54a6_11ef_bdbb_96000040dfb6row5_col13\" class=\"data row5 col13\" >4.54%</td>\n",
       "                        <td id=\"T_26d3531c_54a6_11ef_bdbb_96000040dfb6row5_col14\" class=\"data row5 col14\" >4.74%</td>\n",
       "                        <td id=\"T_26d3531c_54a6_11ef_bdbb_96000040dfb6row5_col15\" class=\"data row5 col15\" >5.53%</td>\n",
       "                        <td id=\"T_26d3531c_54a6_11ef_bdbb_96000040dfb6row5_col16\" class=\"data row5 col16\" >4.21%</td>\n",
       "                        <td id=\"T_26d3531c_54a6_11ef_bdbb_96000040dfb6row5_col17\" class=\"data row5 col17\" >4.67%</td>\n",
       "                        <td id=\"T_26d3531c_54a6_11ef_bdbb_96000040dfb6row5_col18\" class=\"data row5 col18\" >4.21%</td>\n",
       "                        <td id=\"T_26d3531c_54a6_11ef_bdbb_96000040dfb6row5_col19\" class=\"data row5 col19\" >4.08%</td>\n",
       "                        <td id=\"T_26d3531c_54a6_11ef_bdbb_96000040dfb6row5_col20\" class=\"data row5 col20\" >4.15%</td>\n",
       "                        <td id=\"T_26d3531c_54a6_11ef_bdbb_96000040dfb6row5_col21\" class=\"data row5 col21\" >3.82%</td>\n",
       "                        <td id=\"T_26d3531c_54a6_11ef_bdbb_96000040dfb6row5_col22\" class=\"data row5 col22\" >3.88%</td>\n",
       "                        <td id=\"T_26d3531c_54a6_11ef_bdbb_96000040dfb6row5_col23\" class=\"data row5 col23\" >3.36%</td>\n",
       "                        <td id=\"T_26d3531c_54a6_11ef_bdbb_96000040dfb6row5_col24\" class=\"data row5 col24\" >3.82%</td>\n",
       "                        <td id=\"T_26d3531c_54a6_11ef_bdbb_96000040dfb6row5_col25\" class=\"data row5 col25\" >3.09%</td>\n",
       "                        <td id=\"T_26d3531c_54a6_11ef_bdbb_96000040dfb6row5_col26\" class=\"data row5 col26\" ></td>\n",
       "                        <td id=\"T_26d3531c_54a6_11ef_bdbb_96000040dfb6row5_col27\" class=\"data row5 col27\" ></td>\n",
       "                        <td id=\"T_26d3531c_54a6_11ef_bdbb_96000040dfb6row5_col28\" class=\"data row5 col28\" ></td>\n",
       "                        <td id=\"T_26d3531c_54a6_11ef_bdbb_96000040dfb6row5_col29\" class=\"data row5 col29\" ></td>\n",
       "                        <td id=\"T_26d3531c_54a6_11ef_bdbb_96000040dfb6row5_col30\" class=\"data row5 col30\" ></td>\n",
       "            </tr>\n",
       "            <tr>\n",
       "                        <th id=\"T_26d3531c_54a6_11ef_bdbb_96000040dfb6level0_row6\" class=\"row_heading level0 row6\" >2020-08-07</th>\n",
       "                        <td id=\"T_26d3531c_54a6_11ef_bdbb_96000040dfb6row6_col0\" class=\"data row6 col0\" >100.00%</td>\n",
       "                        <td id=\"T_26d3531c_54a6_11ef_bdbb_96000040dfb6row6_col1\" class=\"data row6 col1\" >2.17%</td>\n",
       "                        <td id=\"T_26d3531c_54a6_11ef_bdbb_96000040dfb6row6_col2\" class=\"data row6 col2\" >3.09%</td>\n",
       "                        <td id=\"T_26d3531c_54a6_11ef_bdbb_96000040dfb6row6_col3\" class=\"data row6 col3\" >5.26%</td>\n",
       "                        <td id=\"T_26d3531c_54a6_11ef_bdbb_96000040dfb6row6_col4\" class=\"data row6 col4\" >5.32%</td>\n",
       "                        <td id=\"T_26d3531c_54a6_11ef_bdbb_96000040dfb6row6_col5\" class=\"data row6 col5\" >5.98%</td>\n",
       "                        <td id=\"T_26d3531c_54a6_11ef_bdbb_96000040dfb6row6_col6\" class=\"data row6 col6\" >7.16%</td>\n",
       "                        <td id=\"T_26d3531c_54a6_11ef_bdbb_96000040dfb6row6_col7\" class=\"data row6 col7\" >6.18%</td>\n",
       "                        <td id=\"T_26d3531c_54a6_11ef_bdbb_96000040dfb6row6_col8\" class=\"data row6 col8\" >5.12%</td>\n",
       "                        <td id=\"T_26d3531c_54a6_11ef_bdbb_96000040dfb6row6_col9\" class=\"data row6 col9\" >4.99%</td>\n",
       "                        <td id=\"T_26d3531c_54a6_11ef_bdbb_96000040dfb6row6_col10\" class=\"data row6 col10\" >4.93%</td>\n",
       "                        <td id=\"T_26d3531c_54a6_11ef_bdbb_96000040dfb6row6_col11\" class=\"data row6 col11\" >5.72%</td>\n",
       "                        <td id=\"T_26d3531c_54a6_11ef_bdbb_96000040dfb6row6_col12\" class=\"data row6 col12\" >5.19%</td>\n",
       "                        <td id=\"T_26d3531c_54a6_11ef_bdbb_96000040dfb6row6_col13\" class=\"data row6 col13\" >4.66%</td>\n",
       "                        <td id=\"T_26d3531c_54a6_11ef_bdbb_96000040dfb6row6_col14\" class=\"data row6 col14\" >5.12%</td>\n",
       "                        <td id=\"T_26d3531c_54a6_11ef_bdbb_96000040dfb6row6_col15\" class=\"data row6 col15\" >4.14%</td>\n",
       "                        <td id=\"T_26d3531c_54a6_11ef_bdbb_96000040dfb6row6_col16\" class=\"data row6 col16\" >4.60%</td>\n",
       "                        <td id=\"T_26d3531c_54a6_11ef_bdbb_96000040dfb6row6_col17\" class=\"data row6 col17\" >4.53%</td>\n",
       "                        <td id=\"T_26d3531c_54a6_11ef_bdbb_96000040dfb6row6_col18\" class=\"data row6 col18\" >5.12%</td>\n",
       "                        <td id=\"T_26d3531c_54a6_11ef_bdbb_96000040dfb6row6_col19\" class=\"data row6 col19\" >4.14%</td>\n",
       "                        <td id=\"T_26d3531c_54a6_11ef_bdbb_96000040dfb6row6_col20\" class=\"data row6 col20\" >3.48%</td>\n",
       "                        <td id=\"T_26d3531c_54a6_11ef_bdbb_96000040dfb6row6_col21\" class=\"data row6 col21\" >4.73%</td>\n",
       "                        <td id=\"T_26d3531c_54a6_11ef_bdbb_96000040dfb6row6_col22\" class=\"data row6 col22\" >3.09%</td>\n",
       "                        <td id=\"T_26d3531c_54a6_11ef_bdbb_96000040dfb6row6_col23\" class=\"data row6 col23\" >3.81%</td>\n",
       "                        <td id=\"T_26d3531c_54a6_11ef_bdbb_96000040dfb6row6_col24\" class=\"data row6 col24\" >3.88%</td>\n",
       "                        <td id=\"T_26d3531c_54a6_11ef_bdbb_96000040dfb6row6_col25\" class=\"data row6 col25\" ></td>\n",
       "                        <td id=\"T_26d3531c_54a6_11ef_bdbb_96000040dfb6row6_col26\" class=\"data row6 col26\" ></td>\n",
       "                        <td id=\"T_26d3531c_54a6_11ef_bdbb_96000040dfb6row6_col27\" class=\"data row6 col27\" ></td>\n",
       "                        <td id=\"T_26d3531c_54a6_11ef_bdbb_96000040dfb6row6_col28\" class=\"data row6 col28\" ></td>\n",
       "                        <td id=\"T_26d3531c_54a6_11ef_bdbb_96000040dfb6row6_col29\" class=\"data row6 col29\" ></td>\n",
       "                        <td id=\"T_26d3531c_54a6_11ef_bdbb_96000040dfb6row6_col30\" class=\"data row6 col30\" ></td>\n",
       "            </tr>\n",
       "            <tr>\n",
       "                        <th id=\"T_26d3531c_54a6_11ef_bdbb_96000040dfb6level0_row7\" class=\"row_heading level0 row7\" >2020-08-08</th>\n",
       "                        <td id=\"T_26d3531c_54a6_11ef_bdbb_96000040dfb6row7_col0\" class=\"data row7 col0\" >100.00%</td>\n",
       "                        <td id=\"T_26d3531c_54a6_11ef_bdbb_96000040dfb6row7_col1\" class=\"data row7 col1\" >2.43%</td>\n",
       "                        <td id=\"T_26d3531c_54a6_11ef_bdbb_96000040dfb6row7_col2\" class=\"data row7 col2\" >4.79%</td>\n",
       "                        <td id=\"T_26d3531c_54a6_11ef_bdbb_96000040dfb6row7_col3\" class=\"data row7 col3\" >4.20%</td>\n",
       "                        <td id=\"T_26d3531c_54a6_11ef_bdbb_96000040dfb6row7_col4\" class=\"data row7 col4\" >5.45%</td>\n",
       "                        <td id=\"T_26d3531c_54a6_11ef_bdbb_96000040dfb6row7_col5\" class=\"data row7 col5\" >5.45%</td>\n",
       "                        <td id=\"T_26d3531c_54a6_11ef_bdbb_96000040dfb6row7_col6\" class=\"data row7 col6\" >7.22%</td>\n",
       "                        <td id=\"T_26d3531c_54a6_11ef_bdbb_96000040dfb6row7_col7\" class=\"data row7 col7\" >6.30%</td>\n",
       "                        <td id=\"T_26d3531c_54a6_11ef_bdbb_96000040dfb6row7_col8\" class=\"data row7 col8\" >3.94%</td>\n",
       "                        <td id=\"T_26d3531c_54a6_11ef_bdbb_96000040dfb6row7_col9\" class=\"data row7 col9\" >4.79%</td>\n",
       "                        <td id=\"T_26d3531c_54a6_11ef_bdbb_96000040dfb6row7_col10\" class=\"data row7 col10\" >5.25%</td>\n",
       "                        <td id=\"T_26d3531c_54a6_11ef_bdbb_96000040dfb6row7_col11\" class=\"data row7 col11\" >5.12%</td>\n",
       "                        <td id=\"T_26d3531c_54a6_11ef_bdbb_96000040dfb6row7_col12\" class=\"data row7 col12\" >4.00%</td>\n",
       "                        <td id=\"T_26d3531c_54a6_11ef_bdbb_96000040dfb6row7_col13\" class=\"data row7 col13\" >5.58%</td>\n",
       "                        <td id=\"T_26d3531c_54a6_11ef_bdbb_96000040dfb6row7_col14\" class=\"data row7 col14\" >4.86%</td>\n",
       "                        <td id=\"T_26d3531c_54a6_11ef_bdbb_96000040dfb6row7_col15\" class=\"data row7 col15\" >4.27%</td>\n",
       "                        <td id=\"T_26d3531c_54a6_11ef_bdbb_96000040dfb6row7_col16\" class=\"data row7 col16\" >4.27%</td>\n",
       "                        <td id=\"T_26d3531c_54a6_11ef_bdbb_96000040dfb6row7_col17\" class=\"data row7 col17\" >4.53%</td>\n",
       "                        <td id=\"T_26d3531c_54a6_11ef_bdbb_96000040dfb6row7_col18\" class=\"data row7 col18\" >3.41%</td>\n",
       "                        <td id=\"T_26d3531c_54a6_11ef_bdbb_96000040dfb6row7_col19\" class=\"data row7 col19\" >4.27%</td>\n",
       "                        <td id=\"T_26d3531c_54a6_11ef_bdbb_96000040dfb6row7_col20\" class=\"data row7 col20\" >4.33%</td>\n",
       "                        <td id=\"T_26d3531c_54a6_11ef_bdbb_96000040dfb6row7_col21\" class=\"data row7 col21\" >3.54%</td>\n",
       "                        <td id=\"T_26d3531c_54a6_11ef_bdbb_96000040dfb6row7_col22\" class=\"data row7 col22\" >4.33%</td>\n",
       "                        <td id=\"T_26d3531c_54a6_11ef_bdbb_96000040dfb6row7_col23\" class=\"data row7 col23\" >3.35%</td>\n",
       "                        <td id=\"T_26d3531c_54a6_11ef_bdbb_96000040dfb6row7_col24\" class=\"data row7 col24\" ></td>\n",
       "                        <td id=\"T_26d3531c_54a6_11ef_bdbb_96000040dfb6row7_col25\" class=\"data row7 col25\" ></td>\n",
       "                        <td id=\"T_26d3531c_54a6_11ef_bdbb_96000040dfb6row7_col26\" class=\"data row7 col26\" ></td>\n",
       "                        <td id=\"T_26d3531c_54a6_11ef_bdbb_96000040dfb6row7_col27\" class=\"data row7 col27\" ></td>\n",
       "                        <td id=\"T_26d3531c_54a6_11ef_bdbb_96000040dfb6row7_col28\" class=\"data row7 col28\" ></td>\n",
       "                        <td id=\"T_26d3531c_54a6_11ef_bdbb_96000040dfb6row7_col29\" class=\"data row7 col29\" ></td>\n",
       "                        <td id=\"T_26d3531c_54a6_11ef_bdbb_96000040dfb6row7_col30\" class=\"data row7 col30\" ></td>\n",
       "            </tr>\n",
       "            <tr>\n",
       "                        <th id=\"T_26d3531c_54a6_11ef_bdbb_96000040dfb6level0_row8\" class=\"row_heading level0 row8\" >2020-08-09</th>\n",
       "                        <td id=\"T_26d3531c_54a6_11ef_bdbb_96000040dfb6row8_col0\" class=\"data row8 col0\" >100.00%</td>\n",
       "                        <td id=\"T_26d3531c_54a6_11ef_bdbb_96000040dfb6row8_col1\" class=\"data row8 col1\" >2.10%</td>\n",
       "                        <td id=\"T_26d3531c_54a6_11ef_bdbb_96000040dfb6row8_col2\" class=\"data row8 col2\" >3.93%</td>\n",
       "                        <td id=\"T_26d3531c_54a6_11ef_bdbb_96000040dfb6row8_col3\" class=\"data row8 col3\" >4.65%</td>\n",
       "                        <td id=\"T_26d3531c_54a6_11ef_bdbb_96000040dfb6row8_col4\" class=\"data row8 col4\" >5.37%</td>\n",
       "                        <td id=\"T_26d3531c_54a6_11ef_bdbb_96000040dfb6row8_col5\" class=\"data row8 col5\" >7.07%</td>\n",
       "                        <td id=\"T_26d3531c_54a6_11ef_bdbb_96000040dfb6row8_col6\" class=\"data row8 col6\" >6.29%</td>\n",
       "                        <td id=\"T_26d3531c_54a6_11ef_bdbb_96000040dfb6row8_col7\" class=\"data row8 col7\" >6.61%</td>\n",
       "                        <td id=\"T_26d3531c_54a6_11ef_bdbb_96000040dfb6row8_col8\" class=\"data row8 col8\" >4.45%</td>\n",
       "                        <td id=\"T_26d3531c_54a6_11ef_bdbb_96000040dfb6row8_col9\" class=\"data row8 col9\" >4.91%</td>\n",
       "                        <td id=\"T_26d3531c_54a6_11ef_bdbb_96000040dfb6row8_col10\" class=\"data row8 col10\" >4.45%</td>\n",
       "                        <td id=\"T_26d3531c_54a6_11ef_bdbb_96000040dfb6row8_col11\" class=\"data row8 col11\" >6.22%</td>\n",
       "                        <td id=\"T_26d3531c_54a6_11ef_bdbb_96000040dfb6row8_col12\" class=\"data row8 col12\" >5.37%</td>\n",
       "                        <td id=\"T_26d3531c_54a6_11ef_bdbb_96000040dfb6row8_col13\" class=\"data row8 col13\" >5.63%</td>\n",
       "                        <td id=\"T_26d3531c_54a6_11ef_bdbb_96000040dfb6row8_col14\" class=\"data row8 col14\" >3.99%</td>\n",
       "                        <td id=\"T_26d3531c_54a6_11ef_bdbb_96000040dfb6row8_col15\" class=\"data row8 col15\" >4.65%</td>\n",
       "                        <td id=\"T_26d3531c_54a6_11ef_bdbb_96000040dfb6row8_col16\" class=\"data row8 col16\" >4.32%</td>\n",
       "                        <td id=\"T_26d3531c_54a6_11ef_bdbb_96000040dfb6row8_col17\" class=\"data row8 col17\" >5.30%</td>\n",
       "                        <td id=\"T_26d3531c_54a6_11ef_bdbb_96000040dfb6row8_col18\" class=\"data row8 col18\" >4.52%</td>\n",
       "                        <td id=\"T_26d3531c_54a6_11ef_bdbb_96000040dfb6row8_col19\" class=\"data row8 col19\" >4.58%</td>\n",
       "                        <td id=\"T_26d3531c_54a6_11ef_bdbb_96000040dfb6row8_col20\" class=\"data row8 col20\" >4.65%</td>\n",
       "                        <td id=\"T_26d3531c_54a6_11ef_bdbb_96000040dfb6row8_col21\" class=\"data row8 col21\" >3.93%</td>\n",
       "                        <td id=\"T_26d3531c_54a6_11ef_bdbb_96000040dfb6row8_col22\" class=\"data row8 col22\" >4.13%</td>\n",
       "                        <td id=\"T_26d3531c_54a6_11ef_bdbb_96000040dfb6row8_col23\" class=\"data row8 col23\" ></td>\n",
       "                        <td id=\"T_26d3531c_54a6_11ef_bdbb_96000040dfb6row8_col24\" class=\"data row8 col24\" ></td>\n",
       "                        <td id=\"T_26d3531c_54a6_11ef_bdbb_96000040dfb6row8_col25\" class=\"data row8 col25\" ></td>\n",
       "                        <td id=\"T_26d3531c_54a6_11ef_bdbb_96000040dfb6row8_col26\" class=\"data row8 col26\" ></td>\n",
       "                        <td id=\"T_26d3531c_54a6_11ef_bdbb_96000040dfb6row8_col27\" class=\"data row8 col27\" ></td>\n",
       "                        <td id=\"T_26d3531c_54a6_11ef_bdbb_96000040dfb6row8_col28\" class=\"data row8 col28\" ></td>\n",
       "                        <td id=\"T_26d3531c_54a6_11ef_bdbb_96000040dfb6row8_col29\" class=\"data row8 col29\" ></td>\n",
       "                        <td id=\"T_26d3531c_54a6_11ef_bdbb_96000040dfb6row8_col30\" class=\"data row8 col30\" ></td>\n",
       "            </tr>\n",
       "            <tr>\n",
       "                        <th id=\"T_26d3531c_54a6_11ef_bdbb_96000040dfb6level0_row9\" class=\"row_heading level0 row9\" >2020-08-10</th>\n",
       "                        <td id=\"T_26d3531c_54a6_11ef_bdbb_96000040dfb6row9_col0\" class=\"data row9 col0\" >100.00%</td>\n",
       "                        <td id=\"T_26d3531c_54a6_11ef_bdbb_96000040dfb6row9_col1\" class=\"data row9 col1\" >2.16%</td>\n",
       "                        <td id=\"T_26d3531c_54a6_11ef_bdbb_96000040dfb6row9_col2\" class=\"data row9 col2\" >3.14%</td>\n",
       "                        <td id=\"T_26d3531c_54a6_11ef_bdbb_96000040dfb6row9_col3\" class=\"data row9 col3\" >5.49%</td>\n",
       "                        <td id=\"T_26d3531c_54a6_11ef_bdbb_96000040dfb6row9_col4\" class=\"data row9 col4\" >5.89%</td>\n",
       "                        <td id=\"T_26d3531c_54a6_11ef_bdbb_96000040dfb6row9_col5\" class=\"data row9 col5\" >6.28%</td>\n",
       "                        <td id=\"T_26d3531c_54a6_11ef_bdbb_96000040dfb6row9_col6\" class=\"data row9 col6\" >6.47%</td>\n",
       "                        <td id=\"T_26d3531c_54a6_11ef_bdbb_96000040dfb6row9_col7\" class=\"data row9 col7\" >6.08%</td>\n",
       "                        <td id=\"T_26d3531c_54a6_11ef_bdbb_96000040dfb6row9_col8\" class=\"data row9 col8\" >5.04%</td>\n",
       "                        <td id=\"T_26d3531c_54a6_11ef_bdbb_96000040dfb6row9_col9\" class=\"data row9 col9\" >4.91%</td>\n",
       "                        <td id=\"T_26d3531c_54a6_11ef_bdbb_96000040dfb6row9_col10\" class=\"data row9 col10\" >5.76%</td>\n",
       "                        <td id=\"T_26d3531c_54a6_11ef_bdbb_96000040dfb6row9_col11\" class=\"data row9 col11\" >5.56%</td>\n",
       "                        <td id=\"T_26d3531c_54a6_11ef_bdbb_96000040dfb6row9_col12\" class=\"data row9 col12\" >5.76%</td>\n",
       "                        <td id=\"T_26d3531c_54a6_11ef_bdbb_96000040dfb6row9_col13\" class=\"data row9 col13\" >4.84%</td>\n",
       "                        <td id=\"T_26d3531c_54a6_11ef_bdbb_96000040dfb6row9_col14\" class=\"data row9 col14\" >4.64%</td>\n",
       "                        <td id=\"T_26d3531c_54a6_11ef_bdbb_96000040dfb6row9_col15\" class=\"data row9 col15\" >4.12%</td>\n",
       "                        <td id=\"T_26d3531c_54a6_11ef_bdbb_96000040dfb6row9_col16\" class=\"data row9 col16\" >4.97%</td>\n",
       "                        <td id=\"T_26d3531c_54a6_11ef_bdbb_96000040dfb6row9_col17\" class=\"data row9 col17\" >5.04%</td>\n",
       "                        <td id=\"T_26d3531c_54a6_11ef_bdbb_96000040dfb6row9_col18\" class=\"data row9 col18\" >5.04%</td>\n",
       "                        <td id=\"T_26d3531c_54a6_11ef_bdbb_96000040dfb6row9_col19\" class=\"data row9 col19\" >4.19%</td>\n",
       "                        <td id=\"T_26d3531c_54a6_11ef_bdbb_96000040dfb6row9_col20\" class=\"data row9 col20\" >3.73%</td>\n",
       "                        <td id=\"T_26d3531c_54a6_11ef_bdbb_96000040dfb6row9_col21\" class=\"data row9 col21\" >3.40%</td>\n",
       "                        <td id=\"T_26d3531c_54a6_11ef_bdbb_96000040dfb6row9_col22\" class=\"data row9 col22\" ></td>\n",
       "                        <td id=\"T_26d3531c_54a6_11ef_bdbb_96000040dfb6row9_col23\" class=\"data row9 col23\" ></td>\n",
       "                        <td id=\"T_26d3531c_54a6_11ef_bdbb_96000040dfb6row9_col24\" class=\"data row9 col24\" ></td>\n",
       "                        <td id=\"T_26d3531c_54a6_11ef_bdbb_96000040dfb6row9_col25\" class=\"data row9 col25\" ></td>\n",
       "                        <td id=\"T_26d3531c_54a6_11ef_bdbb_96000040dfb6row9_col26\" class=\"data row9 col26\" ></td>\n",
       "                        <td id=\"T_26d3531c_54a6_11ef_bdbb_96000040dfb6row9_col27\" class=\"data row9 col27\" ></td>\n",
       "                        <td id=\"T_26d3531c_54a6_11ef_bdbb_96000040dfb6row9_col28\" class=\"data row9 col28\" ></td>\n",
       "                        <td id=\"T_26d3531c_54a6_11ef_bdbb_96000040dfb6row9_col29\" class=\"data row9 col29\" ></td>\n",
       "                        <td id=\"T_26d3531c_54a6_11ef_bdbb_96000040dfb6row9_col30\" class=\"data row9 col30\" ></td>\n",
       "            </tr>\n",
       "            <tr>\n",
       "                        <th id=\"T_26d3531c_54a6_11ef_bdbb_96000040dfb6level0_row10\" class=\"row_heading level0 row10\" >2020-08-11</th>\n",
       "                        <td id=\"T_26d3531c_54a6_11ef_bdbb_96000040dfb6row10_col0\" class=\"data row10 col0\" >100.00%</td>\n",
       "                        <td id=\"T_26d3531c_54a6_11ef_bdbb_96000040dfb6row10_col1\" class=\"data row10 col1\" >1.89%</td>\n",
       "                        <td id=\"T_26d3531c_54a6_11ef_bdbb_96000040dfb6row10_col2\" class=\"data row10 col2\" >4.31%</td>\n",
       "                        <td id=\"T_26d3531c_54a6_11ef_bdbb_96000040dfb6row10_col3\" class=\"data row10 col3\" >4.57%</td>\n",
       "                        <td id=\"T_26d3531c_54a6_11ef_bdbb_96000040dfb6row10_col4\" class=\"data row10 col4\" >5.94%</td>\n",
       "                        <td id=\"T_26d3531c_54a6_11ef_bdbb_96000040dfb6row10_col5\" class=\"data row10 col5\" >6.33%</td>\n",
       "                        <td id=\"T_26d3531c_54a6_11ef_bdbb_96000040dfb6row10_col6\" class=\"data row10 col6\" >8.55%</td>\n",
       "                        <td id=\"T_26d3531c_54a6_11ef_bdbb_96000040dfb6row10_col7\" class=\"data row10 col7\" >6.33%</td>\n",
       "                        <td id=\"T_26d3531c_54a6_11ef_bdbb_96000040dfb6row10_col8\" class=\"data row10 col8\" >5.29%</td>\n",
       "                        <td id=\"T_26d3531c_54a6_11ef_bdbb_96000040dfb6row10_col9\" class=\"data row10 col9\" >6.40%</td>\n",
       "                        <td id=\"T_26d3531c_54a6_11ef_bdbb_96000040dfb6row10_col10\" class=\"data row10 col10\" >5.87%</td>\n",
       "                        <td id=\"T_26d3531c_54a6_11ef_bdbb_96000040dfb6row10_col11\" class=\"data row10 col11\" >5.87%</td>\n",
       "                        <td id=\"T_26d3531c_54a6_11ef_bdbb_96000040dfb6row10_col12\" class=\"data row10 col12\" >5.48%</td>\n",
       "                        <td id=\"T_26d3531c_54a6_11ef_bdbb_96000040dfb6row10_col13\" class=\"data row10 col13\" >4.90%</td>\n",
       "                        <td id=\"T_26d3531c_54a6_11ef_bdbb_96000040dfb6row10_col14\" class=\"data row10 col14\" >5.48%</td>\n",
       "                        <td id=\"T_26d3531c_54a6_11ef_bdbb_96000040dfb6row10_col15\" class=\"data row10 col15\" >4.63%</td>\n",
       "                        <td id=\"T_26d3531c_54a6_11ef_bdbb_96000040dfb6row10_col16\" class=\"data row10 col16\" >5.22%</td>\n",
       "                        <td id=\"T_26d3531c_54a6_11ef_bdbb_96000040dfb6row10_col17\" class=\"data row10 col17\" >4.83%</td>\n",
       "                        <td id=\"T_26d3531c_54a6_11ef_bdbb_96000040dfb6row10_col18\" class=\"data row10 col18\" >5.29%</td>\n",
       "                        <td id=\"T_26d3531c_54a6_11ef_bdbb_96000040dfb6row10_col19\" class=\"data row10 col19\" >4.18%</td>\n",
       "                        <td id=\"T_26d3531c_54a6_11ef_bdbb_96000040dfb6row10_col20\" class=\"data row10 col20\" >3.59%</td>\n",
       "                        <td id=\"T_26d3531c_54a6_11ef_bdbb_96000040dfb6row10_col21\" class=\"data row10 col21\" ></td>\n",
       "                        <td id=\"T_26d3531c_54a6_11ef_bdbb_96000040dfb6row10_col22\" class=\"data row10 col22\" ></td>\n",
       "                        <td id=\"T_26d3531c_54a6_11ef_bdbb_96000040dfb6row10_col23\" class=\"data row10 col23\" ></td>\n",
       "                        <td id=\"T_26d3531c_54a6_11ef_bdbb_96000040dfb6row10_col24\" class=\"data row10 col24\" ></td>\n",
       "                        <td id=\"T_26d3531c_54a6_11ef_bdbb_96000040dfb6row10_col25\" class=\"data row10 col25\" ></td>\n",
       "                        <td id=\"T_26d3531c_54a6_11ef_bdbb_96000040dfb6row10_col26\" class=\"data row10 col26\" ></td>\n",
       "                        <td id=\"T_26d3531c_54a6_11ef_bdbb_96000040dfb6row10_col27\" class=\"data row10 col27\" ></td>\n",
       "                        <td id=\"T_26d3531c_54a6_11ef_bdbb_96000040dfb6row10_col28\" class=\"data row10 col28\" ></td>\n",
       "                        <td id=\"T_26d3531c_54a6_11ef_bdbb_96000040dfb6row10_col29\" class=\"data row10 col29\" ></td>\n",
       "                        <td id=\"T_26d3531c_54a6_11ef_bdbb_96000040dfb6row10_col30\" class=\"data row10 col30\" ></td>\n",
       "            </tr>\n",
       "            <tr>\n",
       "                        <th id=\"T_26d3531c_54a6_11ef_bdbb_96000040dfb6level0_row11\" class=\"row_heading level0 row11\" >2020-08-12</th>\n",
       "                        <td id=\"T_26d3531c_54a6_11ef_bdbb_96000040dfb6row11_col0\" class=\"data row11 col0\" >100.00%</td>\n",
       "                        <td id=\"T_26d3531c_54a6_11ef_bdbb_96000040dfb6row11_col1\" class=\"data row11 col1\" >2.22%</td>\n",
       "                        <td id=\"T_26d3531c_54a6_11ef_bdbb_96000040dfb6row11_col2\" class=\"data row11 col2\" >3.65%</td>\n",
       "                        <td id=\"T_26d3531c_54a6_11ef_bdbb_96000040dfb6row11_col3\" class=\"data row11 col3\" >3.39%</td>\n",
       "                        <td id=\"T_26d3531c_54a6_11ef_bdbb_96000040dfb6row11_col4\" class=\"data row11 col4\" >3.98%</td>\n",
       "                        <td id=\"T_26d3531c_54a6_11ef_bdbb_96000040dfb6row11_col5\" class=\"data row11 col5\" >5.02%</td>\n",
       "                        <td id=\"T_26d3531c_54a6_11ef_bdbb_96000040dfb6row11_col6\" class=\"data row11 col6\" >5.67%</td>\n",
       "                        <td id=\"T_26d3531c_54a6_11ef_bdbb_96000040dfb6row11_col7\" class=\"data row11 col7\" >5.08%</td>\n",
       "                        <td id=\"T_26d3531c_54a6_11ef_bdbb_96000040dfb6row11_col8\" class=\"data row11 col8\" >3.78%</td>\n",
       "                        <td id=\"T_26d3531c_54a6_11ef_bdbb_96000040dfb6row11_col9\" class=\"data row11 col9\" >3.85%</td>\n",
       "                        <td id=\"T_26d3531c_54a6_11ef_bdbb_96000040dfb6row11_col10\" class=\"data row11 col10\" >5.02%</td>\n",
       "                        <td id=\"T_26d3531c_54a6_11ef_bdbb_96000040dfb6row11_col11\" class=\"data row11 col11\" >3.59%</td>\n",
       "                        <td id=\"T_26d3531c_54a6_11ef_bdbb_96000040dfb6row11_col12\" class=\"data row11 col12\" >4.50%</td>\n",
       "                        <td id=\"T_26d3531c_54a6_11ef_bdbb_96000040dfb6row11_col13\" class=\"data row11 col13\" >3.59%</td>\n",
       "                        <td id=\"T_26d3531c_54a6_11ef_bdbb_96000040dfb6row11_col14\" class=\"data row11 col14\" >4.56%</td>\n",
       "                        <td id=\"T_26d3531c_54a6_11ef_bdbb_96000040dfb6row11_col15\" class=\"data row11 col15\" >4.11%</td>\n",
       "                        <td id=\"T_26d3531c_54a6_11ef_bdbb_96000040dfb6row11_col16\" class=\"data row11 col16\" >3.85%</td>\n",
       "                        <td id=\"T_26d3531c_54a6_11ef_bdbb_96000040dfb6row11_col17\" class=\"data row11 col17\" >3.91%</td>\n",
       "                        <td id=\"T_26d3531c_54a6_11ef_bdbb_96000040dfb6row11_col18\" class=\"data row11 col18\" >3.00%</td>\n",
       "                        <td id=\"T_26d3531c_54a6_11ef_bdbb_96000040dfb6row11_col19\" class=\"data row11 col19\" >3.52%</td>\n",
       "                        <td id=\"T_26d3531c_54a6_11ef_bdbb_96000040dfb6row11_col20\" class=\"data row11 col20\" ></td>\n",
       "                        <td id=\"T_26d3531c_54a6_11ef_bdbb_96000040dfb6row11_col21\" class=\"data row11 col21\" ></td>\n",
       "                        <td id=\"T_26d3531c_54a6_11ef_bdbb_96000040dfb6row11_col22\" class=\"data row11 col22\" ></td>\n",
       "                        <td id=\"T_26d3531c_54a6_11ef_bdbb_96000040dfb6row11_col23\" class=\"data row11 col23\" ></td>\n",
       "                        <td id=\"T_26d3531c_54a6_11ef_bdbb_96000040dfb6row11_col24\" class=\"data row11 col24\" ></td>\n",
       "                        <td id=\"T_26d3531c_54a6_11ef_bdbb_96000040dfb6row11_col25\" class=\"data row11 col25\" ></td>\n",
       "                        <td id=\"T_26d3531c_54a6_11ef_bdbb_96000040dfb6row11_col26\" class=\"data row11 col26\" ></td>\n",
       "                        <td id=\"T_26d3531c_54a6_11ef_bdbb_96000040dfb6row11_col27\" class=\"data row11 col27\" ></td>\n",
       "                        <td id=\"T_26d3531c_54a6_11ef_bdbb_96000040dfb6row11_col28\" class=\"data row11 col28\" ></td>\n",
       "                        <td id=\"T_26d3531c_54a6_11ef_bdbb_96000040dfb6row11_col29\" class=\"data row11 col29\" ></td>\n",
       "                        <td id=\"T_26d3531c_54a6_11ef_bdbb_96000040dfb6row11_col30\" class=\"data row11 col30\" ></td>\n",
       "            </tr>\n",
       "            <tr>\n",
       "                        <th id=\"T_26d3531c_54a6_11ef_bdbb_96000040dfb6level0_row12\" class=\"row_heading level0 row12\" >2020-08-13</th>\n",
       "                        <td id=\"T_26d3531c_54a6_11ef_bdbb_96000040dfb6row12_col0\" class=\"data row12 col0\" >100.00%</td>\n",
       "                        <td id=\"T_26d3531c_54a6_11ef_bdbb_96000040dfb6row12_col1\" class=\"data row12 col1\" >1.69%</td>\n",
       "                        <td id=\"T_26d3531c_54a6_11ef_bdbb_96000040dfb6row12_col2\" class=\"data row12 col2\" >3.71%</td>\n",
       "                        <td id=\"T_26d3531c_54a6_11ef_bdbb_96000040dfb6row12_col3\" class=\"data row12 col3\" >5.14%</td>\n",
       "                        <td id=\"T_26d3531c_54a6_11ef_bdbb_96000040dfb6row12_col4\" class=\"data row12 col4\" >5.34%</td>\n",
       "                        <td id=\"T_26d3531c_54a6_11ef_bdbb_96000040dfb6row12_col5\" class=\"data row12 col5\" >6.38%</td>\n",
       "                        <td id=\"T_26d3531c_54a6_11ef_bdbb_96000040dfb6row12_col6\" class=\"data row12 col6\" >5.73%</td>\n",
       "                        <td id=\"T_26d3531c_54a6_11ef_bdbb_96000040dfb6row12_col7\" class=\"data row12 col7\" >5.66%</td>\n",
       "                        <td id=\"T_26d3531c_54a6_11ef_bdbb_96000040dfb6row12_col8\" class=\"data row12 col8\" >5.92%</td>\n",
       "                        <td id=\"T_26d3531c_54a6_11ef_bdbb_96000040dfb6row12_col9\" class=\"data row12 col9\" >4.68%</td>\n",
       "                        <td id=\"T_26d3531c_54a6_11ef_bdbb_96000040dfb6row12_col10\" class=\"data row12 col10\" >5.47%</td>\n",
       "                        <td id=\"T_26d3531c_54a6_11ef_bdbb_96000040dfb6row12_col11\" class=\"data row12 col11\" >5.20%</td>\n",
       "                        <td id=\"T_26d3531c_54a6_11ef_bdbb_96000040dfb6row12_col12\" class=\"data row12 col12\" >4.94%</td>\n",
       "                        <td id=\"T_26d3531c_54a6_11ef_bdbb_96000040dfb6row12_col13\" class=\"data row12 col13\" >4.88%</td>\n",
       "                        <td id=\"T_26d3531c_54a6_11ef_bdbb_96000040dfb6row12_col14\" class=\"data row12 col14\" >5.01%</td>\n",
       "                        <td id=\"T_26d3531c_54a6_11ef_bdbb_96000040dfb6row12_col15\" class=\"data row12 col15\" >4.36%</td>\n",
       "                        <td id=\"T_26d3531c_54a6_11ef_bdbb_96000040dfb6row12_col16\" class=\"data row12 col16\" >5.14%</td>\n",
       "                        <td id=\"T_26d3531c_54a6_11ef_bdbb_96000040dfb6row12_col17\" class=\"data row12 col17\" >4.29%</td>\n",
       "                        <td id=\"T_26d3531c_54a6_11ef_bdbb_96000040dfb6row12_col18\" class=\"data row12 col18\" >4.10%</td>\n",
       "                        <td id=\"T_26d3531c_54a6_11ef_bdbb_96000040dfb6row12_col19\" class=\"data row12 col19\" ></td>\n",
       "                        <td id=\"T_26d3531c_54a6_11ef_bdbb_96000040dfb6row12_col20\" class=\"data row12 col20\" ></td>\n",
       "                        <td id=\"T_26d3531c_54a6_11ef_bdbb_96000040dfb6row12_col21\" class=\"data row12 col21\" ></td>\n",
       "                        <td id=\"T_26d3531c_54a6_11ef_bdbb_96000040dfb6row12_col22\" class=\"data row12 col22\" ></td>\n",
       "                        <td id=\"T_26d3531c_54a6_11ef_bdbb_96000040dfb6row12_col23\" class=\"data row12 col23\" ></td>\n",
       "                        <td id=\"T_26d3531c_54a6_11ef_bdbb_96000040dfb6row12_col24\" class=\"data row12 col24\" ></td>\n",
       "                        <td id=\"T_26d3531c_54a6_11ef_bdbb_96000040dfb6row12_col25\" class=\"data row12 col25\" ></td>\n",
       "                        <td id=\"T_26d3531c_54a6_11ef_bdbb_96000040dfb6row12_col26\" class=\"data row12 col26\" ></td>\n",
       "                        <td id=\"T_26d3531c_54a6_11ef_bdbb_96000040dfb6row12_col27\" class=\"data row12 col27\" ></td>\n",
       "                        <td id=\"T_26d3531c_54a6_11ef_bdbb_96000040dfb6row12_col28\" class=\"data row12 col28\" ></td>\n",
       "                        <td id=\"T_26d3531c_54a6_11ef_bdbb_96000040dfb6row12_col29\" class=\"data row12 col29\" ></td>\n",
       "                        <td id=\"T_26d3531c_54a6_11ef_bdbb_96000040dfb6row12_col30\" class=\"data row12 col30\" ></td>\n",
       "            </tr>\n",
       "            <tr>\n",
       "                        <th id=\"T_26d3531c_54a6_11ef_bdbb_96000040dfb6level0_row13\" class=\"row_heading level0 row13\" >2020-08-14</th>\n",
       "                        <td id=\"T_26d3531c_54a6_11ef_bdbb_96000040dfb6row13_col0\" class=\"data row13 col0\" >100.00%</td>\n",
       "                        <td id=\"T_26d3531c_54a6_11ef_bdbb_96000040dfb6row13_col1\" class=\"data row13 col1\" >1.30%</td>\n",
       "                        <td id=\"T_26d3531c_54a6_11ef_bdbb_96000040dfb6row13_col2\" class=\"data row13 col2\" >4.22%</td>\n",
       "                        <td id=\"T_26d3531c_54a6_11ef_bdbb_96000040dfb6row13_col3\" class=\"data row13 col3\" >4.09%</td>\n",
       "                        <td id=\"T_26d3531c_54a6_11ef_bdbb_96000040dfb6row13_col4\" class=\"data row13 col4\" >6.24%</td>\n",
       "                        <td id=\"T_26d3531c_54a6_11ef_bdbb_96000040dfb6row13_col5\" class=\"data row13 col5\" >6.56%</td>\n",
       "                        <td id=\"T_26d3531c_54a6_11ef_bdbb_96000040dfb6row13_col6\" class=\"data row13 col6\" >5.91%</td>\n",
       "                        <td id=\"T_26d3531c_54a6_11ef_bdbb_96000040dfb6row13_col7\" class=\"data row13 col7\" >5.85%</td>\n",
       "                        <td id=\"T_26d3531c_54a6_11ef_bdbb_96000040dfb6row13_col8\" class=\"data row13 col8\" >4.94%</td>\n",
       "                        <td id=\"T_26d3531c_54a6_11ef_bdbb_96000040dfb6row13_col9\" class=\"data row13 col9\" >4.94%</td>\n",
       "                        <td id=\"T_26d3531c_54a6_11ef_bdbb_96000040dfb6row13_col10\" class=\"data row13 col10\" >4.22%</td>\n",
       "                        <td id=\"T_26d3531c_54a6_11ef_bdbb_96000040dfb6row13_col11\" class=\"data row13 col11\" >5.98%</td>\n",
       "                        <td id=\"T_26d3531c_54a6_11ef_bdbb_96000040dfb6row13_col12\" class=\"data row13 col12\" >5.13%</td>\n",
       "                        <td id=\"T_26d3531c_54a6_11ef_bdbb_96000040dfb6row13_col13\" class=\"data row13 col13\" >4.42%</td>\n",
       "                        <td id=\"T_26d3531c_54a6_11ef_bdbb_96000040dfb6row13_col14\" class=\"data row13 col14\" >5.39%</td>\n",
       "                        <td id=\"T_26d3531c_54a6_11ef_bdbb_96000040dfb6row13_col15\" class=\"data row13 col15\" >4.22%</td>\n",
       "                        <td id=\"T_26d3531c_54a6_11ef_bdbb_96000040dfb6row13_col16\" class=\"data row13 col16\" >4.16%</td>\n",
       "                        <td id=\"T_26d3531c_54a6_11ef_bdbb_96000040dfb6row13_col17\" class=\"data row13 col17\" >4.48%</td>\n",
       "                        <td id=\"T_26d3531c_54a6_11ef_bdbb_96000040dfb6row13_col18\" class=\"data row13 col18\" ></td>\n",
       "                        <td id=\"T_26d3531c_54a6_11ef_bdbb_96000040dfb6row13_col19\" class=\"data row13 col19\" ></td>\n",
       "                        <td id=\"T_26d3531c_54a6_11ef_bdbb_96000040dfb6row13_col20\" class=\"data row13 col20\" ></td>\n",
       "                        <td id=\"T_26d3531c_54a6_11ef_bdbb_96000040dfb6row13_col21\" class=\"data row13 col21\" ></td>\n",
       "                        <td id=\"T_26d3531c_54a6_11ef_bdbb_96000040dfb6row13_col22\" class=\"data row13 col22\" ></td>\n",
       "                        <td id=\"T_26d3531c_54a6_11ef_bdbb_96000040dfb6row13_col23\" class=\"data row13 col23\" ></td>\n",
       "                        <td id=\"T_26d3531c_54a6_11ef_bdbb_96000040dfb6row13_col24\" class=\"data row13 col24\" ></td>\n",
       "                        <td id=\"T_26d3531c_54a6_11ef_bdbb_96000040dfb6row13_col25\" class=\"data row13 col25\" ></td>\n",
       "                        <td id=\"T_26d3531c_54a6_11ef_bdbb_96000040dfb6row13_col26\" class=\"data row13 col26\" ></td>\n",
       "                        <td id=\"T_26d3531c_54a6_11ef_bdbb_96000040dfb6row13_col27\" class=\"data row13 col27\" ></td>\n",
       "                        <td id=\"T_26d3531c_54a6_11ef_bdbb_96000040dfb6row13_col28\" class=\"data row13 col28\" ></td>\n",
       "                        <td id=\"T_26d3531c_54a6_11ef_bdbb_96000040dfb6row13_col29\" class=\"data row13 col29\" ></td>\n",
       "                        <td id=\"T_26d3531c_54a6_11ef_bdbb_96000040dfb6row13_col30\" class=\"data row13 col30\" ></td>\n",
       "            </tr>\n",
       "            <tr>\n",
       "                        <th id=\"T_26d3531c_54a6_11ef_bdbb_96000040dfb6level0_row14\" class=\"row_heading level0 row14\" >2020-08-15</th>\n",
       "                        <td id=\"T_26d3531c_54a6_11ef_bdbb_96000040dfb6row14_col0\" class=\"data row14 col0\" >100.00%</td>\n",
       "                        <td id=\"T_26d3531c_54a6_11ef_bdbb_96000040dfb6row14_col1\" class=\"data row14 col1\" >1.88%</td>\n",
       "                        <td id=\"T_26d3531c_54a6_11ef_bdbb_96000040dfb6row14_col2\" class=\"data row14 col2\" >4.22%</td>\n",
       "                        <td id=\"T_26d3531c_54a6_11ef_bdbb_96000040dfb6row14_col3\" class=\"data row14 col3\" >4.60%</td>\n",
       "                        <td id=\"T_26d3531c_54a6_11ef_bdbb_96000040dfb6row14_col4\" class=\"data row14 col4\" >5.64%</td>\n",
       "                        <td id=\"T_26d3531c_54a6_11ef_bdbb_96000040dfb6row14_col5\" class=\"data row14 col5\" >5.90%</td>\n",
       "                        <td id=\"T_26d3531c_54a6_11ef_bdbb_96000040dfb6row14_col6\" class=\"data row14 col6\" >7.65%</td>\n",
       "                        <td id=\"T_26d3531c_54a6_11ef_bdbb_96000040dfb6row14_col7\" class=\"data row14 col7\" >5.84%</td>\n",
       "                        <td id=\"T_26d3531c_54a6_11ef_bdbb_96000040dfb6row14_col8\" class=\"data row14 col8\" >5.32%</td>\n",
       "                        <td id=\"T_26d3531c_54a6_11ef_bdbb_96000040dfb6row14_col9\" class=\"data row14 col9\" >4.35%</td>\n",
       "                        <td id=\"T_26d3531c_54a6_11ef_bdbb_96000040dfb6row14_col10\" class=\"data row14 col10\" >5.58%</td>\n",
       "                        <td id=\"T_26d3531c_54a6_11ef_bdbb_96000040dfb6row14_col11\" class=\"data row14 col11\" >4.67%</td>\n",
       "                        <td id=\"T_26d3531c_54a6_11ef_bdbb_96000040dfb6row14_col12\" class=\"data row14 col12\" >5.25%</td>\n",
       "                        <td id=\"T_26d3531c_54a6_11ef_bdbb_96000040dfb6row14_col13\" class=\"data row14 col13\" >4.93%</td>\n",
       "                        <td id=\"T_26d3531c_54a6_11ef_bdbb_96000040dfb6row14_col14\" class=\"data row14 col14\" >4.73%</td>\n",
       "                        <td id=\"T_26d3531c_54a6_11ef_bdbb_96000040dfb6row14_col15\" class=\"data row14 col15\" >4.35%</td>\n",
       "                        <td id=\"T_26d3531c_54a6_11ef_bdbb_96000040dfb6row14_col16\" class=\"data row14 col16\" >4.47%</td>\n",
       "                        <td id=\"T_26d3531c_54a6_11ef_bdbb_96000040dfb6row14_col17\" class=\"data row14 col17\" ></td>\n",
       "                        <td id=\"T_26d3531c_54a6_11ef_bdbb_96000040dfb6row14_col18\" class=\"data row14 col18\" ></td>\n",
       "                        <td id=\"T_26d3531c_54a6_11ef_bdbb_96000040dfb6row14_col19\" class=\"data row14 col19\" ></td>\n",
       "                        <td id=\"T_26d3531c_54a6_11ef_bdbb_96000040dfb6row14_col20\" class=\"data row14 col20\" ></td>\n",
       "                        <td id=\"T_26d3531c_54a6_11ef_bdbb_96000040dfb6row14_col21\" class=\"data row14 col21\" ></td>\n",
       "                        <td id=\"T_26d3531c_54a6_11ef_bdbb_96000040dfb6row14_col22\" class=\"data row14 col22\" ></td>\n",
       "                        <td id=\"T_26d3531c_54a6_11ef_bdbb_96000040dfb6row14_col23\" class=\"data row14 col23\" ></td>\n",
       "                        <td id=\"T_26d3531c_54a6_11ef_bdbb_96000040dfb6row14_col24\" class=\"data row14 col24\" ></td>\n",
       "                        <td id=\"T_26d3531c_54a6_11ef_bdbb_96000040dfb6row14_col25\" class=\"data row14 col25\" ></td>\n",
       "                        <td id=\"T_26d3531c_54a6_11ef_bdbb_96000040dfb6row14_col26\" class=\"data row14 col26\" ></td>\n",
       "                        <td id=\"T_26d3531c_54a6_11ef_bdbb_96000040dfb6row14_col27\" class=\"data row14 col27\" ></td>\n",
       "                        <td id=\"T_26d3531c_54a6_11ef_bdbb_96000040dfb6row14_col28\" class=\"data row14 col28\" ></td>\n",
       "                        <td id=\"T_26d3531c_54a6_11ef_bdbb_96000040dfb6row14_col29\" class=\"data row14 col29\" ></td>\n",
       "                        <td id=\"T_26d3531c_54a6_11ef_bdbb_96000040dfb6row14_col30\" class=\"data row14 col30\" ></td>\n",
       "            </tr>\n",
       "            <tr>\n",
       "                        <th id=\"T_26d3531c_54a6_11ef_bdbb_96000040dfb6level0_row15\" class=\"row_heading level0 row15\" >2020-08-16</th>\n",
       "                        <td id=\"T_26d3531c_54a6_11ef_bdbb_96000040dfb6row15_col0\" class=\"data row15 col0\" >100.00%</td>\n",
       "                        <td id=\"T_26d3531c_54a6_11ef_bdbb_96000040dfb6row15_col1\" class=\"data row15 col1\" >1.88%</td>\n",
       "                        <td id=\"T_26d3531c_54a6_11ef_bdbb_96000040dfb6row15_col2\" class=\"data row15 col2\" >3.11%</td>\n",
       "                        <td id=\"T_26d3531c_54a6_11ef_bdbb_96000040dfb6row15_col3\" class=\"data row15 col3\" >4.08%</td>\n",
       "                        <td id=\"T_26d3531c_54a6_11ef_bdbb_96000040dfb6row15_col4\" class=\"data row15 col4\" >5.57%</td>\n",
       "                        <td id=\"T_26d3531c_54a6_11ef_bdbb_96000040dfb6row15_col5\" class=\"data row15 col5\" >5.44%</td>\n",
       "                        <td id=\"T_26d3531c_54a6_11ef_bdbb_96000040dfb6row15_col6\" class=\"data row15 col6\" >6.73%</td>\n",
       "                        <td id=\"T_26d3531c_54a6_11ef_bdbb_96000040dfb6row15_col7\" class=\"data row15 col7\" >5.05%</td>\n",
       "                        <td id=\"T_26d3531c_54a6_11ef_bdbb_96000040dfb6row15_col8\" class=\"data row15 col8\" >3.75%</td>\n",
       "                        <td id=\"T_26d3531c_54a6_11ef_bdbb_96000040dfb6row15_col9\" class=\"data row15 col9\" >5.76%</td>\n",
       "                        <td id=\"T_26d3531c_54a6_11ef_bdbb_96000040dfb6row15_col10\" class=\"data row15 col10\" >4.85%</td>\n",
       "                        <td id=\"T_26d3531c_54a6_11ef_bdbb_96000040dfb6row15_col11\" class=\"data row15 col11\" >4.72%</td>\n",
       "                        <td id=\"T_26d3531c_54a6_11ef_bdbb_96000040dfb6row15_col12\" class=\"data row15 col12\" >4.85%</td>\n",
       "                        <td id=\"T_26d3531c_54a6_11ef_bdbb_96000040dfb6row15_col13\" class=\"data row15 col13\" >4.66%</td>\n",
       "                        <td id=\"T_26d3531c_54a6_11ef_bdbb_96000040dfb6row15_col14\" class=\"data row15 col14\" >4.47%</td>\n",
       "                        <td id=\"T_26d3531c_54a6_11ef_bdbb_96000040dfb6row15_col15\" class=\"data row15 col15\" >4.14%</td>\n",
       "                        <td id=\"T_26d3531c_54a6_11ef_bdbb_96000040dfb6row15_col16\" class=\"data row15 col16\" ></td>\n",
       "                        <td id=\"T_26d3531c_54a6_11ef_bdbb_96000040dfb6row15_col17\" class=\"data row15 col17\" ></td>\n",
       "                        <td id=\"T_26d3531c_54a6_11ef_bdbb_96000040dfb6row15_col18\" class=\"data row15 col18\" ></td>\n",
       "                        <td id=\"T_26d3531c_54a6_11ef_bdbb_96000040dfb6row15_col19\" class=\"data row15 col19\" ></td>\n",
       "                        <td id=\"T_26d3531c_54a6_11ef_bdbb_96000040dfb6row15_col20\" class=\"data row15 col20\" ></td>\n",
       "                        <td id=\"T_26d3531c_54a6_11ef_bdbb_96000040dfb6row15_col21\" class=\"data row15 col21\" ></td>\n",
       "                        <td id=\"T_26d3531c_54a6_11ef_bdbb_96000040dfb6row15_col22\" class=\"data row15 col22\" ></td>\n",
       "                        <td id=\"T_26d3531c_54a6_11ef_bdbb_96000040dfb6row15_col23\" class=\"data row15 col23\" ></td>\n",
       "                        <td id=\"T_26d3531c_54a6_11ef_bdbb_96000040dfb6row15_col24\" class=\"data row15 col24\" ></td>\n",
       "                        <td id=\"T_26d3531c_54a6_11ef_bdbb_96000040dfb6row15_col25\" class=\"data row15 col25\" ></td>\n",
       "                        <td id=\"T_26d3531c_54a6_11ef_bdbb_96000040dfb6row15_col26\" class=\"data row15 col26\" ></td>\n",
       "                        <td id=\"T_26d3531c_54a6_11ef_bdbb_96000040dfb6row15_col27\" class=\"data row15 col27\" ></td>\n",
       "                        <td id=\"T_26d3531c_54a6_11ef_bdbb_96000040dfb6row15_col28\" class=\"data row15 col28\" ></td>\n",
       "                        <td id=\"T_26d3531c_54a6_11ef_bdbb_96000040dfb6row15_col29\" class=\"data row15 col29\" ></td>\n",
       "                        <td id=\"T_26d3531c_54a6_11ef_bdbb_96000040dfb6row15_col30\" class=\"data row15 col30\" ></td>\n",
       "            </tr>\n",
       "            <tr>\n",
       "                        <th id=\"T_26d3531c_54a6_11ef_bdbb_96000040dfb6level0_row16\" class=\"row_heading level0 row16\" >2020-08-17</th>\n",
       "                        <td id=\"T_26d3531c_54a6_11ef_bdbb_96000040dfb6row16_col0\" class=\"data row16 col0\" >100.00%</td>\n",
       "                        <td id=\"T_26d3531c_54a6_11ef_bdbb_96000040dfb6row16_col1\" class=\"data row16 col1\" >2.33%</td>\n",
       "                        <td id=\"T_26d3531c_54a6_11ef_bdbb_96000040dfb6row16_col2\" class=\"data row16 col2\" >4.07%</td>\n",
       "                        <td id=\"T_26d3531c_54a6_11ef_bdbb_96000040dfb6row16_col3\" class=\"data row16 col3\" >4.14%</td>\n",
       "                        <td id=\"T_26d3531c_54a6_11ef_bdbb_96000040dfb6row16_col4\" class=\"data row16 col4\" >4.98%</td>\n",
       "                        <td id=\"T_26d3531c_54a6_11ef_bdbb_96000040dfb6row16_col5\" class=\"data row16 col5\" >5.69%</td>\n",
       "                        <td id=\"T_26d3531c_54a6_11ef_bdbb_96000040dfb6row16_col6\" class=\"data row16 col6\" >6.46%</td>\n",
       "                        <td id=\"T_26d3531c_54a6_11ef_bdbb_96000040dfb6row16_col7\" class=\"data row16 col7\" >5.56%</td>\n",
       "                        <td id=\"T_26d3531c_54a6_11ef_bdbb_96000040dfb6row16_col8\" class=\"data row16 col8\" >4.27%</td>\n",
       "                        <td id=\"T_26d3531c_54a6_11ef_bdbb_96000040dfb6row16_col9\" class=\"data row16 col9\" >4.59%</td>\n",
       "                        <td id=\"T_26d3531c_54a6_11ef_bdbb_96000040dfb6row16_col10\" class=\"data row16 col10\" >5.30%</td>\n",
       "                        <td id=\"T_26d3531c_54a6_11ef_bdbb_96000040dfb6row16_col11\" class=\"data row16 col11\" >5.82%</td>\n",
       "                        <td id=\"T_26d3531c_54a6_11ef_bdbb_96000040dfb6row16_col12\" class=\"data row16 col12\" >5.82%</td>\n",
       "                        <td id=\"T_26d3531c_54a6_11ef_bdbb_96000040dfb6row16_col13\" class=\"data row16 col13\" >4.14%</td>\n",
       "                        <td id=\"T_26d3531c_54a6_11ef_bdbb_96000040dfb6row16_col14\" class=\"data row16 col14\" >4.20%</td>\n",
       "                        <td id=\"T_26d3531c_54a6_11ef_bdbb_96000040dfb6row16_col15\" class=\"data row16 col15\" ></td>\n",
       "                        <td id=\"T_26d3531c_54a6_11ef_bdbb_96000040dfb6row16_col16\" class=\"data row16 col16\" ></td>\n",
       "                        <td id=\"T_26d3531c_54a6_11ef_bdbb_96000040dfb6row16_col17\" class=\"data row16 col17\" ></td>\n",
       "                        <td id=\"T_26d3531c_54a6_11ef_bdbb_96000040dfb6row16_col18\" class=\"data row16 col18\" ></td>\n",
       "                        <td id=\"T_26d3531c_54a6_11ef_bdbb_96000040dfb6row16_col19\" class=\"data row16 col19\" ></td>\n",
       "                        <td id=\"T_26d3531c_54a6_11ef_bdbb_96000040dfb6row16_col20\" class=\"data row16 col20\" ></td>\n",
       "                        <td id=\"T_26d3531c_54a6_11ef_bdbb_96000040dfb6row16_col21\" class=\"data row16 col21\" ></td>\n",
       "                        <td id=\"T_26d3531c_54a6_11ef_bdbb_96000040dfb6row16_col22\" class=\"data row16 col22\" ></td>\n",
       "                        <td id=\"T_26d3531c_54a6_11ef_bdbb_96000040dfb6row16_col23\" class=\"data row16 col23\" ></td>\n",
       "                        <td id=\"T_26d3531c_54a6_11ef_bdbb_96000040dfb6row16_col24\" class=\"data row16 col24\" ></td>\n",
       "                        <td id=\"T_26d3531c_54a6_11ef_bdbb_96000040dfb6row16_col25\" class=\"data row16 col25\" ></td>\n",
       "                        <td id=\"T_26d3531c_54a6_11ef_bdbb_96000040dfb6row16_col26\" class=\"data row16 col26\" ></td>\n",
       "                        <td id=\"T_26d3531c_54a6_11ef_bdbb_96000040dfb6row16_col27\" class=\"data row16 col27\" ></td>\n",
       "                        <td id=\"T_26d3531c_54a6_11ef_bdbb_96000040dfb6row16_col28\" class=\"data row16 col28\" ></td>\n",
       "                        <td id=\"T_26d3531c_54a6_11ef_bdbb_96000040dfb6row16_col29\" class=\"data row16 col29\" ></td>\n",
       "                        <td id=\"T_26d3531c_54a6_11ef_bdbb_96000040dfb6row16_col30\" class=\"data row16 col30\" ></td>\n",
       "            </tr>\n",
       "            <tr>\n",
       "                        <th id=\"T_26d3531c_54a6_11ef_bdbb_96000040dfb6level0_row17\" class=\"row_heading level0 row17\" >2020-08-18</th>\n",
       "                        <td id=\"T_26d3531c_54a6_11ef_bdbb_96000040dfb6row17_col0\" class=\"data row17 col0\" >100.00%</td>\n",
       "                        <td id=\"T_26d3531c_54a6_11ef_bdbb_96000040dfb6row17_col1\" class=\"data row17 col1\" >1.94%</td>\n",
       "                        <td id=\"T_26d3531c_54a6_11ef_bdbb_96000040dfb6row17_col2\" class=\"data row17 col2\" >4.45%</td>\n",
       "                        <td id=\"T_26d3531c_54a6_11ef_bdbb_96000040dfb6row17_col3\" class=\"data row17 col3\" >4.26%</td>\n",
       "                        <td id=\"T_26d3531c_54a6_11ef_bdbb_96000040dfb6row17_col4\" class=\"data row17 col4\" >5.10%</td>\n",
       "                        <td id=\"T_26d3531c_54a6_11ef_bdbb_96000040dfb6row17_col5\" class=\"data row17 col5\" >6.26%</td>\n",
       "                        <td id=\"T_26d3531c_54a6_11ef_bdbb_96000040dfb6row17_col6\" class=\"data row17 col6\" >6.20%</td>\n",
       "                        <td id=\"T_26d3531c_54a6_11ef_bdbb_96000040dfb6row17_col7\" class=\"data row17 col7\" >6.07%</td>\n",
       "                        <td id=\"T_26d3531c_54a6_11ef_bdbb_96000040dfb6row17_col8\" class=\"data row17 col8\" >4.97%</td>\n",
       "                        <td id=\"T_26d3531c_54a6_11ef_bdbb_96000040dfb6row17_col9\" class=\"data row17 col9\" >5.75%</td>\n",
       "                        <td id=\"T_26d3531c_54a6_11ef_bdbb_96000040dfb6row17_col10\" class=\"data row17 col10\" >4.65%</td>\n",
       "                        <td id=\"T_26d3531c_54a6_11ef_bdbb_96000040dfb6row17_col11\" class=\"data row17 col11\" >6.00%</td>\n",
       "                        <td id=\"T_26d3531c_54a6_11ef_bdbb_96000040dfb6row17_col12\" class=\"data row17 col12\" >4.78%</td>\n",
       "                        <td id=\"T_26d3531c_54a6_11ef_bdbb_96000040dfb6row17_col13\" class=\"data row17 col13\" >4.84%</td>\n",
       "                        <td id=\"T_26d3531c_54a6_11ef_bdbb_96000040dfb6row17_col14\" class=\"data row17 col14\" ></td>\n",
       "                        <td id=\"T_26d3531c_54a6_11ef_bdbb_96000040dfb6row17_col15\" class=\"data row17 col15\" ></td>\n",
       "                        <td id=\"T_26d3531c_54a6_11ef_bdbb_96000040dfb6row17_col16\" class=\"data row17 col16\" ></td>\n",
       "                        <td id=\"T_26d3531c_54a6_11ef_bdbb_96000040dfb6row17_col17\" class=\"data row17 col17\" ></td>\n",
       "                        <td id=\"T_26d3531c_54a6_11ef_bdbb_96000040dfb6row17_col18\" class=\"data row17 col18\" ></td>\n",
       "                        <td id=\"T_26d3531c_54a6_11ef_bdbb_96000040dfb6row17_col19\" class=\"data row17 col19\" ></td>\n",
       "                        <td id=\"T_26d3531c_54a6_11ef_bdbb_96000040dfb6row17_col20\" class=\"data row17 col20\" ></td>\n",
       "                        <td id=\"T_26d3531c_54a6_11ef_bdbb_96000040dfb6row17_col21\" class=\"data row17 col21\" ></td>\n",
       "                        <td id=\"T_26d3531c_54a6_11ef_bdbb_96000040dfb6row17_col22\" class=\"data row17 col22\" ></td>\n",
       "                        <td id=\"T_26d3531c_54a6_11ef_bdbb_96000040dfb6row17_col23\" class=\"data row17 col23\" ></td>\n",
       "                        <td id=\"T_26d3531c_54a6_11ef_bdbb_96000040dfb6row17_col24\" class=\"data row17 col24\" ></td>\n",
       "                        <td id=\"T_26d3531c_54a6_11ef_bdbb_96000040dfb6row17_col25\" class=\"data row17 col25\" ></td>\n",
       "                        <td id=\"T_26d3531c_54a6_11ef_bdbb_96000040dfb6row17_col26\" class=\"data row17 col26\" ></td>\n",
       "                        <td id=\"T_26d3531c_54a6_11ef_bdbb_96000040dfb6row17_col27\" class=\"data row17 col27\" ></td>\n",
       "                        <td id=\"T_26d3531c_54a6_11ef_bdbb_96000040dfb6row17_col28\" class=\"data row17 col28\" ></td>\n",
       "                        <td id=\"T_26d3531c_54a6_11ef_bdbb_96000040dfb6row17_col29\" class=\"data row17 col29\" ></td>\n",
       "                        <td id=\"T_26d3531c_54a6_11ef_bdbb_96000040dfb6row17_col30\" class=\"data row17 col30\" ></td>\n",
       "            </tr>\n",
       "            <tr>\n",
       "                        <th id=\"T_26d3531c_54a6_11ef_bdbb_96000040dfb6level0_row18\" class=\"row_heading level0 row18\" >2020-08-19</th>\n",
       "                        <td id=\"T_26d3531c_54a6_11ef_bdbb_96000040dfb6row18_col0\" class=\"data row18 col0\" >100.00%</td>\n",
       "                        <td id=\"T_26d3531c_54a6_11ef_bdbb_96000040dfb6row18_col1\" class=\"data row18 col1\" >2.38%</td>\n",
       "                        <td id=\"T_26d3531c_54a6_11ef_bdbb_96000040dfb6row18_col2\" class=\"data row18 col2\" >4.45%</td>\n",
       "                        <td id=\"T_26d3531c_54a6_11ef_bdbb_96000040dfb6row18_col3\" class=\"data row18 col3\" >5.35%</td>\n",
       "                        <td id=\"T_26d3531c_54a6_11ef_bdbb_96000040dfb6row18_col4\" class=\"data row18 col4\" >5.73%</td>\n",
       "                        <td id=\"T_26d3531c_54a6_11ef_bdbb_96000040dfb6row18_col5\" class=\"data row18 col5\" >6.25%</td>\n",
       "                        <td id=\"T_26d3531c_54a6_11ef_bdbb_96000040dfb6row18_col6\" class=\"data row18 col6\" >7.73%</td>\n",
       "                        <td id=\"T_26d3531c_54a6_11ef_bdbb_96000040dfb6row18_col7\" class=\"data row18 col7\" >6.89%</td>\n",
       "                        <td id=\"T_26d3531c_54a6_11ef_bdbb_96000040dfb6row18_col8\" class=\"data row18 col8\" >5.48%</td>\n",
       "                        <td id=\"T_26d3531c_54a6_11ef_bdbb_96000040dfb6row18_col9\" class=\"data row18 col9\" >5.54%</td>\n",
       "                        <td id=\"T_26d3531c_54a6_11ef_bdbb_96000040dfb6row18_col10\" class=\"data row18 col10\" >5.41%</td>\n",
       "                        <td id=\"T_26d3531c_54a6_11ef_bdbb_96000040dfb6row18_col11\" class=\"data row18 col11\" >6.31%</td>\n",
       "                        <td id=\"T_26d3531c_54a6_11ef_bdbb_96000040dfb6row18_col12\" class=\"data row18 col12\" >5.35%</td>\n",
       "                        <td id=\"T_26d3531c_54a6_11ef_bdbb_96000040dfb6row18_col13\" class=\"data row18 col13\" ></td>\n",
       "                        <td id=\"T_26d3531c_54a6_11ef_bdbb_96000040dfb6row18_col14\" class=\"data row18 col14\" ></td>\n",
       "                        <td id=\"T_26d3531c_54a6_11ef_bdbb_96000040dfb6row18_col15\" class=\"data row18 col15\" ></td>\n",
       "                        <td id=\"T_26d3531c_54a6_11ef_bdbb_96000040dfb6row18_col16\" class=\"data row18 col16\" ></td>\n",
       "                        <td id=\"T_26d3531c_54a6_11ef_bdbb_96000040dfb6row18_col17\" class=\"data row18 col17\" ></td>\n",
       "                        <td id=\"T_26d3531c_54a6_11ef_bdbb_96000040dfb6row18_col18\" class=\"data row18 col18\" ></td>\n",
       "                        <td id=\"T_26d3531c_54a6_11ef_bdbb_96000040dfb6row18_col19\" class=\"data row18 col19\" ></td>\n",
       "                        <td id=\"T_26d3531c_54a6_11ef_bdbb_96000040dfb6row18_col20\" class=\"data row18 col20\" ></td>\n",
       "                        <td id=\"T_26d3531c_54a6_11ef_bdbb_96000040dfb6row18_col21\" class=\"data row18 col21\" ></td>\n",
       "                        <td id=\"T_26d3531c_54a6_11ef_bdbb_96000040dfb6row18_col22\" class=\"data row18 col22\" ></td>\n",
       "                        <td id=\"T_26d3531c_54a6_11ef_bdbb_96000040dfb6row18_col23\" class=\"data row18 col23\" ></td>\n",
       "                        <td id=\"T_26d3531c_54a6_11ef_bdbb_96000040dfb6row18_col24\" class=\"data row18 col24\" ></td>\n",
       "                        <td id=\"T_26d3531c_54a6_11ef_bdbb_96000040dfb6row18_col25\" class=\"data row18 col25\" ></td>\n",
       "                        <td id=\"T_26d3531c_54a6_11ef_bdbb_96000040dfb6row18_col26\" class=\"data row18 col26\" ></td>\n",
       "                        <td id=\"T_26d3531c_54a6_11ef_bdbb_96000040dfb6row18_col27\" class=\"data row18 col27\" ></td>\n",
       "                        <td id=\"T_26d3531c_54a6_11ef_bdbb_96000040dfb6row18_col28\" class=\"data row18 col28\" ></td>\n",
       "                        <td id=\"T_26d3531c_54a6_11ef_bdbb_96000040dfb6row18_col29\" class=\"data row18 col29\" ></td>\n",
       "                        <td id=\"T_26d3531c_54a6_11ef_bdbb_96000040dfb6row18_col30\" class=\"data row18 col30\" ></td>\n",
       "            </tr>\n",
       "            <tr>\n",
       "                        <th id=\"T_26d3531c_54a6_11ef_bdbb_96000040dfb6level0_row19\" class=\"row_heading level0 row19\" >2020-08-20</th>\n",
       "                        <td id=\"T_26d3531c_54a6_11ef_bdbb_96000040dfb6row19_col0\" class=\"data row19 col0\" >100.00%</td>\n",
       "                        <td id=\"T_26d3531c_54a6_11ef_bdbb_96000040dfb6row19_col1\" class=\"data row19 col1\" >2.06%</td>\n",
       "                        <td id=\"T_26d3531c_54a6_11ef_bdbb_96000040dfb6row19_col2\" class=\"data row19 col2\" >4.57%</td>\n",
       "                        <td id=\"T_26d3531c_54a6_11ef_bdbb_96000040dfb6row19_col3\" class=\"data row19 col3\" >5.59%</td>\n",
       "                        <td id=\"T_26d3531c_54a6_11ef_bdbb_96000040dfb6row19_col4\" class=\"data row19 col4\" >5.40%</td>\n",
       "                        <td id=\"T_26d3531c_54a6_11ef_bdbb_96000040dfb6row19_col5\" class=\"data row19 col5\" >6.30%</td>\n",
       "                        <td id=\"T_26d3531c_54a6_11ef_bdbb_96000040dfb6row19_col6\" class=\"data row19 col6\" >7.78%</td>\n",
       "                        <td id=\"T_26d3531c_54a6_11ef_bdbb_96000040dfb6row19_col7\" class=\"data row19 col7\" >7.01%</td>\n",
       "                        <td id=\"T_26d3531c_54a6_11ef_bdbb_96000040dfb6row19_col8\" class=\"data row19 col8\" >5.59%</td>\n",
       "                        <td id=\"T_26d3531c_54a6_11ef_bdbb_96000040dfb6row19_col9\" class=\"data row19 col9\" >5.34%</td>\n",
       "                        <td id=\"T_26d3531c_54a6_11ef_bdbb_96000040dfb6row19_col10\" class=\"data row19 col10\" >5.08%</td>\n",
       "                        <td id=\"T_26d3531c_54a6_11ef_bdbb_96000040dfb6row19_col11\" class=\"data row19 col11\" >5.08%</td>\n",
       "                        <td id=\"T_26d3531c_54a6_11ef_bdbb_96000040dfb6row19_col12\" class=\"data row19 col12\" ></td>\n",
       "                        <td id=\"T_26d3531c_54a6_11ef_bdbb_96000040dfb6row19_col13\" class=\"data row19 col13\" ></td>\n",
       "                        <td id=\"T_26d3531c_54a6_11ef_bdbb_96000040dfb6row19_col14\" class=\"data row19 col14\" ></td>\n",
       "                        <td id=\"T_26d3531c_54a6_11ef_bdbb_96000040dfb6row19_col15\" class=\"data row19 col15\" ></td>\n",
       "                        <td id=\"T_26d3531c_54a6_11ef_bdbb_96000040dfb6row19_col16\" class=\"data row19 col16\" ></td>\n",
       "                        <td id=\"T_26d3531c_54a6_11ef_bdbb_96000040dfb6row19_col17\" class=\"data row19 col17\" ></td>\n",
       "                        <td id=\"T_26d3531c_54a6_11ef_bdbb_96000040dfb6row19_col18\" class=\"data row19 col18\" ></td>\n",
       "                        <td id=\"T_26d3531c_54a6_11ef_bdbb_96000040dfb6row19_col19\" class=\"data row19 col19\" ></td>\n",
       "                        <td id=\"T_26d3531c_54a6_11ef_bdbb_96000040dfb6row19_col20\" class=\"data row19 col20\" ></td>\n",
       "                        <td id=\"T_26d3531c_54a6_11ef_bdbb_96000040dfb6row19_col21\" class=\"data row19 col21\" ></td>\n",
       "                        <td id=\"T_26d3531c_54a6_11ef_bdbb_96000040dfb6row19_col22\" class=\"data row19 col22\" ></td>\n",
       "                        <td id=\"T_26d3531c_54a6_11ef_bdbb_96000040dfb6row19_col23\" class=\"data row19 col23\" ></td>\n",
       "                        <td id=\"T_26d3531c_54a6_11ef_bdbb_96000040dfb6row19_col24\" class=\"data row19 col24\" ></td>\n",
       "                        <td id=\"T_26d3531c_54a6_11ef_bdbb_96000040dfb6row19_col25\" class=\"data row19 col25\" ></td>\n",
       "                        <td id=\"T_26d3531c_54a6_11ef_bdbb_96000040dfb6row19_col26\" class=\"data row19 col26\" ></td>\n",
       "                        <td id=\"T_26d3531c_54a6_11ef_bdbb_96000040dfb6row19_col27\" class=\"data row19 col27\" ></td>\n",
       "                        <td id=\"T_26d3531c_54a6_11ef_bdbb_96000040dfb6row19_col28\" class=\"data row19 col28\" ></td>\n",
       "                        <td id=\"T_26d3531c_54a6_11ef_bdbb_96000040dfb6row19_col29\" class=\"data row19 col29\" ></td>\n",
       "                        <td id=\"T_26d3531c_54a6_11ef_bdbb_96000040dfb6row19_col30\" class=\"data row19 col30\" ></td>\n",
       "            </tr>\n",
       "            <tr>\n",
       "                        <th id=\"T_26d3531c_54a6_11ef_bdbb_96000040dfb6level0_row20\" class=\"row_heading level0 row20\" >2020-08-21</th>\n",
       "                        <td id=\"T_26d3531c_54a6_11ef_bdbb_96000040dfb6row20_col0\" class=\"data row20 col0\" >100.00%</td>\n",
       "                        <td id=\"T_26d3531c_54a6_11ef_bdbb_96000040dfb6row20_col1\" class=\"data row20 col1\" >1.80%</td>\n",
       "                        <td id=\"T_26d3531c_54a6_11ef_bdbb_96000040dfb6row20_col2\" class=\"data row20 col2\" >4.37%</td>\n",
       "                        <td id=\"T_26d3531c_54a6_11ef_bdbb_96000040dfb6row20_col3\" class=\"data row20 col3\" >4.88%</td>\n",
       "                        <td id=\"T_26d3531c_54a6_11ef_bdbb_96000040dfb6row20_col4\" class=\"data row20 col4\" >4.56%</td>\n",
       "                        <td id=\"T_26d3531c_54a6_11ef_bdbb_96000040dfb6row20_col5\" class=\"data row20 col5\" >6.17%</td>\n",
       "                        <td id=\"T_26d3531c_54a6_11ef_bdbb_96000040dfb6row20_col6\" class=\"data row20 col6\" >7.13%</td>\n",
       "                        <td id=\"T_26d3531c_54a6_11ef_bdbb_96000040dfb6row20_col7\" class=\"data row20 col7\" >6.55%</td>\n",
       "                        <td id=\"T_26d3531c_54a6_11ef_bdbb_96000040dfb6row20_col8\" class=\"data row20 col8\" >4.50%</td>\n",
       "                        <td id=\"T_26d3531c_54a6_11ef_bdbb_96000040dfb6row20_col9\" class=\"data row20 col9\" >5.27%</td>\n",
       "                        <td id=\"T_26d3531c_54a6_11ef_bdbb_96000040dfb6row20_col10\" class=\"data row20 col10\" >5.20%</td>\n",
       "                        <td id=\"T_26d3531c_54a6_11ef_bdbb_96000040dfb6row20_col11\" class=\"data row20 col11\" ></td>\n",
       "                        <td id=\"T_26d3531c_54a6_11ef_bdbb_96000040dfb6row20_col12\" class=\"data row20 col12\" ></td>\n",
       "                        <td id=\"T_26d3531c_54a6_11ef_bdbb_96000040dfb6row20_col13\" class=\"data row20 col13\" ></td>\n",
       "                        <td id=\"T_26d3531c_54a6_11ef_bdbb_96000040dfb6row20_col14\" class=\"data row20 col14\" ></td>\n",
       "                        <td id=\"T_26d3531c_54a6_11ef_bdbb_96000040dfb6row20_col15\" class=\"data row20 col15\" ></td>\n",
       "                        <td id=\"T_26d3531c_54a6_11ef_bdbb_96000040dfb6row20_col16\" class=\"data row20 col16\" ></td>\n",
       "                        <td id=\"T_26d3531c_54a6_11ef_bdbb_96000040dfb6row20_col17\" class=\"data row20 col17\" ></td>\n",
       "                        <td id=\"T_26d3531c_54a6_11ef_bdbb_96000040dfb6row20_col18\" class=\"data row20 col18\" ></td>\n",
       "                        <td id=\"T_26d3531c_54a6_11ef_bdbb_96000040dfb6row20_col19\" class=\"data row20 col19\" ></td>\n",
       "                        <td id=\"T_26d3531c_54a6_11ef_bdbb_96000040dfb6row20_col20\" class=\"data row20 col20\" ></td>\n",
       "                        <td id=\"T_26d3531c_54a6_11ef_bdbb_96000040dfb6row20_col21\" class=\"data row20 col21\" ></td>\n",
       "                        <td id=\"T_26d3531c_54a6_11ef_bdbb_96000040dfb6row20_col22\" class=\"data row20 col22\" ></td>\n",
       "                        <td id=\"T_26d3531c_54a6_11ef_bdbb_96000040dfb6row20_col23\" class=\"data row20 col23\" ></td>\n",
       "                        <td id=\"T_26d3531c_54a6_11ef_bdbb_96000040dfb6row20_col24\" class=\"data row20 col24\" ></td>\n",
       "                        <td id=\"T_26d3531c_54a6_11ef_bdbb_96000040dfb6row20_col25\" class=\"data row20 col25\" ></td>\n",
       "                        <td id=\"T_26d3531c_54a6_11ef_bdbb_96000040dfb6row20_col26\" class=\"data row20 col26\" ></td>\n",
       "                        <td id=\"T_26d3531c_54a6_11ef_bdbb_96000040dfb6row20_col27\" class=\"data row20 col27\" ></td>\n",
       "                        <td id=\"T_26d3531c_54a6_11ef_bdbb_96000040dfb6row20_col28\" class=\"data row20 col28\" ></td>\n",
       "                        <td id=\"T_26d3531c_54a6_11ef_bdbb_96000040dfb6row20_col29\" class=\"data row20 col29\" ></td>\n",
       "                        <td id=\"T_26d3531c_54a6_11ef_bdbb_96000040dfb6row20_col30\" class=\"data row20 col30\" ></td>\n",
       "            </tr>\n",
       "            <tr>\n",
       "                        <th id=\"T_26d3531c_54a6_11ef_bdbb_96000040dfb6level0_row21\" class=\"row_heading level0 row21\" >2020-08-22</th>\n",
       "                        <td id=\"T_26d3531c_54a6_11ef_bdbb_96000040dfb6row21_col0\" class=\"data row21 col0\" >100.00%</td>\n",
       "                        <td id=\"T_26d3531c_54a6_11ef_bdbb_96000040dfb6row21_col1\" class=\"data row21 col1\" >2.37%</td>\n",
       "                        <td id=\"T_26d3531c_54a6_11ef_bdbb_96000040dfb6row21_col2\" class=\"data row21 col2\" >4.49%</td>\n",
       "                        <td id=\"T_26d3531c_54a6_11ef_bdbb_96000040dfb6row21_col3\" class=\"data row21 col3\" >4.68%</td>\n",
       "                        <td id=\"T_26d3531c_54a6_11ef_bdbb_96000040dfb6row21_col4\" class=\"data row21 col4\" >5.45%</td>\n",
       "                        <td id=\"T_26d3531c_54a6_11ef_bdbb_96000040dfb6row21_col5\" class=\"data row21 col5\" >6.03%</td>\n",
       "                        <td id=\"T_26d3531c_54a6_11ef_bdbb_96000040dfb6row21_col6\" class=\"data row21 col6\" >7.18%</td>\n",
       "                        <td id=\"T_26d3531c_54a6_11ef_bdbb_96000040dfb6row21_col7\" class=\"data row21 col7\" >6.35%</td>\n",
       "                        <td id=\"T_26d3531c_54a6_11ef_bdbb_96000040dfb6row21_col8\" class=\"data row21 col8\" >5.06%</td>\n",
       "                        <td id=\"T_26d3531c_54a6_11ef_bdbb_96000040dfb6row21_col9\" class=\"data row21 col9\" >4.68%</td>\n",
       "                        <td id=\"T_26d3531c_54a6_11ef_bdbb_96000040dfb6row21_col10\" class=\"data row21 col10\" ></td>\n",
       "                        <td id=\"T_26d3531c_54a6_11ef_bdbb_96000040dfb6row21_col11\" class=\"data row21 col11\" ></td>\n",
       "                        <td id=\"T_26d3531c_54a6_11ef_bdbb_96000040dfb6row21_col12\" class=\"data row21 col12\" ></td>\n",
       "                        <td id=\"T_26d3531c_54a6_11ef_bdbb_96000040dfb6row21_col13\" class=\"data row21 col13\" ></td>\n",
       "                        <td id=\"T_26d3531c_54a6_11ef_bdbb_96000040dfb6row21_col14\" class=\"data row21 col14\" ></td>\n",
       "                        <td id=\"T_26d3531c_54a6_11ef_bdbb_96000040dfb6row21_col15\" class=\"data row21 col15\" ></td>\n",
       "                        <td id=\"T_26d3531c_54a6_11ef_bdbb_96000040dfb6row21_col16\" class=\"data row21 col16\" ></td>\n",
       "                        <td id=\"T_26d3531c_54a6_11ef_bdbb_96000040dfb6row21_col17\" class=\"data row21 col17\" ></td>\n",
       "                        <td id=\"T_26d3531c_54a6_11ef_bdbb_96000040dfb6row21_col18\" class=\"data row21 col18\" ></td>\n",
       "                        <td id=\"T_26d3531c_54a6_11ef_bdbb_96000040dfb6row21_col19\" class=\"data row21 col19\" ></td>\n",
       "                        <td id=\"T_26d3531c_54a6_11ef_bdbb_96000040dfb6row21_col20\" class=\"data row21 col20\" ></td>\n",
       "                        <td id=\"T_26d3531c_54a6_11ef_bdbb_96000040dfb6row21_col21\" class=\"data row21 col21\" ></td>\n",
       "                        <td id=\"T_26d3531c_54a6_11ef_bdbb_96000040dfb6row21_col22\" class=\"data row21 col22\" ></td>\n",
       "                        <td id=\"T_26d3531c_54a6_11ef_bdbb_96000040dfb6row21_col23\" class=\"data row21 col23\" ></td>\n",
       "                        <td id=\"T_26d3531c_54a6_11ef_bdbb_96000040dfb6row21_col24\" class=\"data row21 col24\" ></td>\n",
       "                        <td id=\"T_26d3531c_54a6_11ef_bdbb_96000040dfb6row21_col25\" class=\"data row21 col25\" ></td>\n",
       "                        <td id=\"T_26d3531c_54a6_11ef_bdbb_96000040dfb6row21_col26\" class=\"data row21 col26\" ></td>\n",
       "                        <td id=\"T_26d3531c_54a6_11ef_bdbb_96000040dfb6row21_col27\" class=\"data row21 col27\" ></td>\n",
       "                        <td id=\"T_26d3531c_54a6_11ef_bdbb_96000040dfb6row21_col28\" class=\"data row21 col28\" ></td>\n",
       "                        <td id=\"T_26d3531c_54a6_11ef_bdbb_96000040dfb6row21_col29\" class=\"data row21 col29\" ></td>\n",
       "                        <td id=\"T_26d3531c_54a6_11ef_bdbb_96000040dfb6row21_col30\" class=\"data row21 col30\" ></td>\n",
       "            </tr>\n",
       "            <tr>\n",
       "                        <th id=\"T_26d3531c_54a6_11ef_bdbb_96000040dfb6level0_row22\" class=\"row_heading level0 row22\" >2020-08-23</th>\n",
       "                        <td id=\"T_26d3531c_54a6_11ef_bdbb_96000040dfb6row22_col0\" class=\"data row22 col0\" >100.00%</td>\n",
       "                        <td id=\"T_26d3531c_54a6_11ef_bdbb_96000040dfb6row22_col1\" class=\"data row22 col1\" >2.50%</td>\n",
       "                        <td id=\"T_26d3531c_54a6_11ef_bdbb_96000040dfb6row22_col2\" class=\"data row22 col2\" >3.84%</td>\n",
       "                        <td id=\"T_26d3531c_54a6_11ef_bdbb_96000040dfb6row22_col3\" class=\"data row22 col3\" >4.87%</td>\n",
       "                        <td id=\"T_26d3531c_54a6_11ef_bdbb_96000040dfb6row22_col4\" class=\"data row22 col4\" >4.93%</td>\n",
       "                        <td id=\"T_26d3531c_54a6_11ef_bdbb_96000040dfb6row22_col5\" class=\"data row22 col5\" >6.98%</td>\n",
       "                        <td id=\"T_26d3531c_54a6_11ef_bdbb_96000040dfb6row22_col6\" class=\"data row22 col6\" >8.19%</td>\n",
       "                        <td id=\"T_26d3531c_54a6_11ef_bdbb_96000040dfb6row22_col7\" class=\"data row22 col7\" >5.70%</td>\n",
       "                        <td id=\"T_26d3531c_54a6_11ef_bdbb_96000040dfb6row22_col8\" class=\"data row22 col8\" >5.12%</td>\n",
       "                        <td id=\"T_26d3531c_54a6_11ef_bdbb_96000040dfb6row22_col9\" class=\"data row22 col9\" ></td>\n",
       "                        <td id=\"T_26d3531c_54a6_11ef_bdbb_96000040dfb6row22_col10\" class=\"data row22 col10\" ></td>\n",
       "                        <td id=\"T_26d3531c_54a6_11ef_bdbb_96000040dfb6row22_col11\" class=\"data row22 col11\" ></td>\n",
       "                        <td id=\"T_26d3531c_54a6_11ef_bdbb_96000040dfb6row22_col12\" class=\"data row22 col12\" ></td>\n",
       "                        <td id=\"T_26d3531c_54a6_11ef_bdbb_96000040dfb6row22_col13\" class=\"data row22 col13\" ></td>\n",
       "                        <td id=\"T_26d3531c_54a6_11ef_bdbb_96000040dfb6row22_col14\" class=\"data row22 col14\" ></td>\n",
       "                        <td id=\"T_26d3531c_54a6_11ef_bdbb_96000040dfb6row22_col15\" class=\"data row22 col15\" ></td>\n",
       "                        <td id=\"T_26d3531c_54a6_11ef_bdbb_96000040dfb6row22_col16\" class=\"data row22 col16\" ></td>\n",
       "                        <td id=\"T_26d3531c_54a6_11ef_bdbb_96000040dfb6row22_col17\" class=\"data row22 col17\" ></td>\n",
       "                        <td id=\"T_26d3531c_54a6_11ef_bdbb_96000040dfb6row22_col18\" class=\"data row22 col18\" ></td>\n",
       "                        <td id=\"T_26d3531c_54a6_11ef_bdbb_96000040dfb6row22_col19\" class=\"data row22 col19\" ></td>\n",
       "                        <td id=\"T_26d3531c_54a6_11ef_bdbb_96000040dfb6row22_col20\" class=\"data row22 col20\" ></td>\n",
       "                        <td id=\"T_26d3531c_54a6_11ef_bdbb_96000040dfb6row22_col21\" class=\"data row22 col21\" ></td>\n",
       "                        <td id=\"T_26d3531c_54a6_11ef_bdbb_96000040dfb6row22_col22\" class=\"data row22 col22\" ></td>\n",
       "                        <td id=\"T_26d3531c_54a6_11ef_bdbb_96000040dfb6row22_col23\" class=\"data row22 col23\" ></td>\n",
       "                        <td id=\"T_26d3531c_54a6_11ef_bdbb_96000040dfb6row22_col24\" class=\"data row22 col24\" ></td>\n",
       "                        <td id=\"T_26d3531c_54a6_11ef_bdbb_96000040dfb6row22_col25\" class=\"data row22 col25\" ></td>\n",
       "                        <td id=\"T_26d3531c_54a6_11ef_bdbb_96000040dfb6row22_col26\" class=\"data row22 col26\" ></td>\n",
       "                        <td id=\"T_26d3531c_54a6_11ef_bdbb_96000040dfb6row22_col27\" class=\"data row22 col27\" ></td>\n",
       "                        <td id=\"T_26d3531c_54a6_11ef_bdbb_96000040dfb6row22_col28\" class=\"data row22 col28\" ></td>\n",
       "                        <td id=\"T_26d3531c_54a6_11ef_bdbb_96000040dfb6row22_col29\" class=\"data row22 col29\" ></td>\n",
       "                        <td id=\"T_26d3531c_54a6_11ef_bdbb_96000040dfb6row22_col30\" class=\"data row22 col30\" ></td>\n",
       "            </tr>\n",
       "            <tr>\n",
       "                        <th id=\"T_26d3531c_54a6_11ef_bdbb_96000040dfb6level0_row23\" class=\"row_heading level0 row23\" >2020-08-24</th>\n",
       "                        <td id=\"T_26d3531c_54a6_11ef_bdbb_96000040dfb6row23_col0\" class=\"data row23 col0\" >100.00%</td>\n",
       "                        <td id=\"T_26d3531c_54a6_11ef_bdbb_96000040dfb6row23_col1\" class=\"data row23 col1\" >1.79%</td>\n",
       "                        <td id=\"T_26d3531c_54a6_11ef_bdbb_96000040dfb6row23_col2\" class=\"data row23 col2\" >4.15%</td>\n",
       "                        <td id=\"T_26d3531c_54a6_11ef_bdbb_96000040dfb6row23_col3\" class=\"data row23 col3\" >4.28%</td>\n",
       "                        <td id=\"T_26d3531c_54a6_11ef_bdbb_96000040dfb6row23_col4\" class=\"data row23 col4\" >5.11%</td>\n",
       "                        <td id=\"T_26d3531c_54a6_11ef_bdbb_96000040dfb6row23_col5\" class=\"data row23 col5\" >5.75%</td>\n",
       "                        <td id=\"T_26d3531c_54a6_11ef_bdbb_96000040dfb6row23_col6\" class=\"data row23 col6\" >7.60%</td>\n",
       "                        <td id=\"T_26d3531c_54a6_11ef_bdbb_96000040dfb6row23_col7\" class=\"data row23 col7\" >6.01%</td>\n",
       "                        <td id=\"T_26d3531c_54a6_11ef_bdbb_96000040dfb6row23_col8\" class=\"data row23 col8\" ></td>\n",
       "                        <td id=\"T_26d3531c_54a6_11ef_bdbb_96000040dfb6row23_col9\" class=\"data row23 col9\" ></td>\n",
       "                        <td id=\"T_26d3531c_54a6_11ef_bdbb_96000040dfb6row23_col10\" class=\"data row23 col10\" ></td>\n",
       "                        <td id=\"T_26d3531c_54a6_11ef_bdbb_96000040dfb6row23_col11\" class=\"data row23 col11\" ></td>\n",
       "                        <td id=\"T_26d3531c_54a6_11ef_bdbb_96000040dfb6row23_col12\" class=\"data row23 col12\" ></td>\n",
       "                        <td id=\"T_26d3531c_54a6_11ef_bdbb_96000040dfb6row23_col13\" class=\"data row23 col13\" ></td>\n",
       "                        <td id=\"T_26d3531c_54a6_11ef_bdbb_96000040dfb6row23_col14\" class=\"data row23 col14\" ></td>\n",
       "                        <td id=\"T_26d3531c_54a6_11ef_bdbb_96000040dfb6row23_col15\" class=\"data row23 col15\" ></td>\n",
       "                        <td id=\"T_26d3531c_54a6_11ef_bdbb_96000040dfb6row23_col16\" class=\"data row23 col16\" ></td>\n",
       "                        <td id=\"T_26d3531c_54a6_11ef_bdbb_96000040dfb6row23_col17\" class=\"data row23 col17\" ></td>\n",
       "                        <td id=\"T_26d3531c_54a6_11ef_bdbb_96000040dfb6row23_col18\" class=\"data row23 col18\" ></td>\n",
       "                        <td id=\"T_26d3531c_54a6_11ef_bdbb_96000040dfb6row23_col19\" class=\"data row23 col19\" ></td>\n",
       "                        <td id=\"T_26d3531c_54a6_11ef_bdbb_96000040dfb6row23_col20\" class=\"data row23 col20\" ></td>\n",
       "                        <td id=\"T_26d3531c_54a6_11ef_bdbb_96000040dfb6row23_col21\" class=\"data row23 col21\" ></td>\n",
       "                        <td id=\"T_26d3531c_54a6_11ef_bdbb_96000040dfb6row23_col22\" class=\"data row23 col22\" ></td>\n",
       "                        <td id=\"T_26d3531c_54a6_11ef_bdbb_96000040dfb6row23_col23\" class=\"data row23 col23\" ></td>\n",
       "                        <td id=\"T_26d3531c_54a6_11ef_bdbb_96000040dfb6row23_col24\" class=\"data row23 col24\" ></td>\n",
       "                        <td id=\"T_26d3531c_54a6_11ef_bdbb_96000040dfb6row23_col25\" class=\"data row23 col25\" ></td>\n",
       "                        <td id=\"T_26d3531c_54a6_11ef_bdbb_96000040dfb6row23_col26\" class=\"data row23 col26\" ></td>\n",
       "                        <td id=\"T_26d3531c_54a6_11ef_bdbb_96000040dfb6row23_col27\" class=\"data row23 col27\" ></td>\n",
       "                        <td id=\"T_26d3531c_54a6_11ef_bdbb_96000040dfb6row23_col28\" class=\"data row23 col28\" ></td>\n",
       "                        <td id=\"T_26d3531c_54a6_11ef_bdbb_96000040dfb6row23_col29\" class=\"data row23 col29\" ></td>\n",
       "                        <td id=\"T_26d3531c_54a6_11ef_bdbb_96000040dfb6row23_col30\" class=\"data row23 col30\" ></td>\n",
       "            </tr>\n",
       "            <tr>\n",
       "                        <th id=\"T_26d3531c_54a6_11ef_bdbb_96000040dfb6level0_row24\" class=\"row_heading level0 row24\" >2020-08-25</th>\n",
       "                        <td id=\"T_26d3531c_54a6_11ef_bdbb_96000040dfb6row24_col0\" class=\"data row24 col0\" >100.00%</td>\n",
       "                        <td id=\"T_26d3531c_54a6_11ef_bdbb_96000040dfb6row24_col1\" class=\"data row24 col1\" >1.98%</td>\n",
       "                        <td id=\"T_26d3531c_54a6_11ef_bdbb_96000040dfb6row24_col2\" class=\"data row24 col2\" >4.40%</td>\n",
       "                        <td id=\"T_26d3531c_54a6_11ef_bdbb_96000040dfb6row24_col3\" class=\"data row24 col3\" >4.79%</td>\n",
       "                        <td id=\"T_26d3531c_54a6_11ef_bdbb_96000040dfb6row24_col4\" class=\"data row24 col4\" >5.68%</td>\n",
       "                        <td id=\"T_26d3531c_54a6_11ef_bdbb_96000040dfb6row24_col5\" class=\"data row24 col5\" >5.30%</td>\n",
       "                        <td id=\"T_26d3531c_54a6_11ef_bdbb_96000040dfb6row24_col6\" class=\"data row24 col6\" >5.30%</td>\n",
       "                        <td id=\"T_26d3531c_54a6_11ef_bdbb_96000040dfb6row24_col7\" class=\"data row24 col7\" ></td>\n",
       "                        <td id=\"T_26d3531c_54a6_11ef_bdbb_96000040dfb6row24_col8\" class=\"data row24 col8\" ></td>\n",
       "                        <td id=\"T_26d3531c_54a6_11ef_bdbb_96000040dfb6row24_col9\" class=\"data row24 col9\" ></td>\n",
       "                        <td id=\"T_26d3531c_54a6_11ef_bdbb_96000040dfb6row24_col10\" class=\"data row24 col10\" ></td>\n",
       "                        <td id=\"T_26d3531c_54a6_11ef_bdbb_96000040dfb6row24_col11\" class=\"data row24 col11\" ></td>\n",
       "                        <td id=\"T_26d3531c_54a6_11ef_bdbb_96000040dfb6row24_col12\" class=\"data row24 col12\" ></td>\n",
       "                        <td id=\"T_26d3531c_54a6_11ef_bdbb_96000040dfb6row24_col13\" class=\"data row24 col13\" ></td>\n",
       "                        <td id=\"T_26d3531c_54a6_11ef_bdbb_96000040dfb6row24_col14\" class=\"data row24 col14\" ></td>\n",
       "                        <td id=\"T_26d3531c_54a6_11ef_bdbb_96000040dfb6row24_col15\" class=\"data row24 col15\" ></td>\n",
       "                        <td id=\"T_26d3531c_54a6_11ef_bdbb_96000040dfb6row24_col16\" class=\"data row24 col16\" ></td>\n",
       "                        <td id=\"T_26d3531c_54a6_11ef_bdbb_96000040dfb6row24_col17\" class=\"data row24 col17\" ></td>\n",
       "                        <td id=\"T_26d3531c_54a6_11ef_bdbb_96000040dfb6row24_col18\" class=\"data row24 col18\" ></td>\n",
       "                        <td id=\"T_26d3531c_54a6_11ef_bdbb_96000040dfb6row24_col19\" class=\"data row24 col19\" ></td>\n",
       "                        <td id=\"T_26d3531c_54a6_11ef_bdbb_96000040dfb6row24_col20\" class=\"data row24 col20\" ></td>\n",
       "                        <td id=\"T_26d3531c_54a6_11ef_bdbb_96000040dfb6row24_col21\" class=\"data row24 col21\" ></td>\n",
       "                        <td id=\"T_26d3531c_54a6_11ef_bdbb_96000040dfb6row24_col22\" class=\"data row24 col22\" ></td>\n",
       "                        <td id=\"T_26d3531c_54a6_11ef_bdbb_96000040dfb6row24_col23\" class=\"data row24 col23\" ></td>\n",
       "                        <td id=\"T_26d3531c_54a6_11ef_bdbb_96000040dfb6row24_col24\" class=\"data row24 col24\" ></td>\n",
       "                        <td id=\"T_26d3531c_54a6_11ef_bdbb_96000040dfb6row24_col25\" class=\"data row24 col25\" ></td>\n",
       "                        <td id=\"T_26d3531c_54a6_11ef_bdbb_96000040dfb6row24_col26\" class=\"data row24 col26\" ></td>\n",
       "                        <td id=\"T_26d3531c_54a6_11ef_bdbb_96000040dfb6row24_col27\" class=\"data row24 col27\" ></td>\n",
       "                        <td id=\"T_26d3531c_54a6_11ef_bdbb_96000040dfb6row24_col28\" class=\"data row24 col28\" ></td>\n",
       "                        <td id=\"T_26d3531c_54a6_11ef_bdbb_96000040dfb6row24_col29\" class=\"data row24 col29\" ></td>\n",
       "                        <td id=\"T_26d3531c_54a6_11ef_bdbb_96000040dfb6row24_col30\" class=\"data row24 col30\" ></td>\n",
       "            </tr>\n",
       "            <tr>\n",
       "                        <th id=\"T_26d3531c_54a6_11ef_bdbb_96000040dfb6level0_row25\" class=\"row_heading level0 row25\" >2020-08-26</th>\n",
       "                        <td id=\"T_26d3531c_54a6_11ef_bdbb_96000040dfb6row25_col0\" class=\"data row25 col0\" >100.00%</td>\n",
       "                        <td id=\"T_26d3531c_54a6_11ef_bdbb_96000040dfb6row25_col1\" class=\"data row25 col1\" >1.46%</td>\n",
       "                        <td id=\"T_26d3531c_54a6_11ef_bdbb_96000040dfb6row25_col2\" class=\"data row25 col2\" >3.44%</td>\n",
       "                        <td id=\"T_26d3531c_54a6_11ef_bdbb_96000040dfb6row25_col3\" class=\"data row25 col3\" >4.20%</td>\n",
       "                        <td id=\"T_26d3531c_54a6_11ef_bdbb_96000040dfb6row25_col4\" class=\"data row25 col4\" >4.52%</td>\n",
       "                        <td id=\"T_26d3531c_54a6_11ef_bdbb_96000040dfb6row25_col5\" class=\"data row25 col5\" >6.43%</td>\n",
       "                        <td id=\"T_26d3531c_54a6_11ef_bdbb_96000040dfb6row25_col6\" class=\"data row25 col6\" ></td>\n",
       "                        <td id=\"T_26d3531c_54a6_11ef_bdbb_96000040dfb6row25_col7\" class=\"data row25 col7\" ></td>\n",
       "                        <td id=\"T_26d3531c_54a6_11ef_bdbb_96000040dfb6row25_col8\" class=\"data row25 col8\" ></td>\n",
       "                        <td id=\"T_26d3531c_54a6_11ef_bdbb_96000040dfb6row25_col9\" class=\"data row25 col9\" ></td>\n",
       "                        <td id=\"T_26d3531c_54a6_11ef_bdbb_96000040dfb6row25_col10\" class=\"data row25 col10\" ></td>\n",
       "                        <td id=\"T_26d3531c_54a6_11ef_bdbb_96000040dfb6row25_col11\" class=\"data row25 col11\" ></td>\n",
       "                        <td id=\"T_26d3531c_54a6_11ef_bdbb_96000040dfb6row25_col12\" class=\"data row25 col12\" ></td>\n",
       "                        <td id=\"T_26d3531c_54a6_11ef_bdbb_96000040dfb6row25_col13\" class=\"data row25 col13\" ></td>\n",
       "                        <td id=\"T_26d3531c_54a6_11ef_bdbb_96000040dfb6row25_col14\" class=\"data row25 col14\" ></td>\n",
       "                        <td id=\"T_26d3531c_54a6_11ef_bdbb_96000040dfb6row25_col15\" class=\"data row25 col15\" ></td>\n",
       "                        <td id=\"T_26d3531c_54a6_11ef_bdbb_96000040dfb6row25_col16\" class=\"data row25 col16\" ></td>\n",
       "                        <td id=\"T_26d3531c_54a6_11ef_bdbb_96000040dfb6row25_col17\" class=\"data row25 col17\" ></td>\n",
       "                        <td id=\"T_26d3531c_54a6_11ef_bdbb_96000040dfb6row25_col18\" class=\"data row25 col18\" ></td>\n",
       "                        <td id=\"T_26d3531c_54a6_11ef_bdbb_96000040dfb6row25_col19\" class=\"data row25 col19\" ></td>\n",
       "                        <td id=\"T_26d3531c_54a6_11ef_bdbb_96000040dfb6row25_col20\" class=\"data row25 col20\" ></td>\n",
       "                        <td id=\"T_26d3531c_54a6_11ef_bdbb_96000040dfb6row25_col21\" class=\"data row25 col21\" ></td>\n",
       "                        <td id=\"T_26d3531c_54a6_11ef_bdbb_96000040dfb6row25_col22\" class=\"data row25 col22\" ></td>\n",
       "                        <td id=\"T_26d3531c_54a6_11ef_bdbb_96000040dfb6row25_col23\" class=\"data row25 col23\" ></td>\n",
       "                        <td id=\"T_26d3531c_54a6_11ef_bdbb_96000040dfb6row25_col24\" class=\"data row25 col24\" ></td>\n",
       "                        <td id=\"T_26d3531c_54a6_11ef_bdbb_96000040dfb6row25_col25\" class=\"data row25 col25\" ></td>\n",
       "                        <td id=\"T_26d3531c_54a6_11ef_bdbb_96000040dfb6row25_col26\" class=\"data row25 col26\" ></td>\n",
       "                        <td id=\"T_26d3531c_54a6_11ef_bdbb_96000040dfb6row25_col27\" class=\"data row25 col27\" ></td>\n",
       "                        <td id=\"T_26d3531c_54a6_11ef_bdbb_96000040dfb6row25_col28\" class=\"data row25 col28\" ></td>\n",
       "                        <td id=\"T_26d3531c_54a6_11ef_bdbb_96000040dfb6row25_col29\" class=\"data row25 col29\" ></td>\n",
       "                        <td id=\"T_26d3531c_54a6_11ef_bdbb_96000040dfb6row25_col30\" class=\"data row25 col30\" ></td>\n",
       "            </tr>\n",
       "            <tr>\n",
       "                        <th id=\"T_26d3531c_54a6_11ef_bdbb_96000040dfb6level0_row26\" class=\"row_heading level0 row26\" >2020-08-27</th>\n",
       "                        <td id=\"T_26d3531c_54a6_11ef_bdbb_96000040dfb6row26_col0\" class=\"data row26 col0\" >100.00%</td>\n",
       "                        <td id=\"T_26d3531c_54a6_11ef_bdbb_96000040dfb6row26_col1\" class=\"data row26 col1\" >1.65%</td>\n",
       "                        <td id=\"T_26d3531c_54a6_11ef_bdbb_96000040dfb6row26_col2\" class=\"data row26 col2\" >3.37%</td>\n",
       "                        <td id=\"T_26d3531c_54a6_11ef_bdbb_96000040dfb6row26_col3\" class=\"data row26 col3\" >4.77%</td>\n",
       "                        <td id=\"T_26d3531c_54a6_11ef_bdbb_96000040dfb6row26_col4\" class=\"data row26 col4\" >5.21%</td>\n",
       "                        <td id=\"T_26d3531c_54a6_11ef_bdbb_96000040dfb6row26_col5\" class=\"data row26 col5\" ></td>\n",
       "                        <td id=\"T_26d3531c_54a6_11ef_bdbb_96000040dfb6row26_col6\" class=\"data row26 col6\" ></td>\n",
       "                        <td id=\"T_26d3531c_54a6_11ef_bdbb_96000040dfb6row26_col7\" class=\"data row26 col7\" ></td>\n",
       "                        <td id=\"T_26d3531c_54a6_11ef_bdbb_96000040dfb6row26_col8\" class=\"data row26 col8\" ></td>\n",
       "                        <td id=\"T_26d3531c_54a6_11ef_bdbb_96000040dfb6row26_col9\" class=\"data row26 col9\" ></td>\n",
       "                        <td id=\"T_26d3531c_54a6_11ef_bdbb_96000040dfb6row26_col10\" class=\"data row26 col10\" ></td>\n",
       "                        <td id=\"T_26d3531c_54a6_11ef_bdbb_96000040dfb6row26_col11\" class=\"data row26 col11\" ></td>\n",
       "                        <td id=\"T_26d3531c_54a6_11ef_bdbb_96000040dfb6row26_col12\" class=\"data row26 col12\" ></td>\n",
       "                        <td id=\"T_26d3531c_54a6_11ef_bdbb_96000040dfb6row26_col13\" class=\"data row26 col13\" ></td>\n",
       "                        <td id=\"T_26d3531c_54a6_11ef_bdbb_96000040dfb6row26_col14\" class=\"data row26 col14\" ></td>\n",
       "                        <td id=\"T_26d3531c_54a6_11ef_bdbb_96000040dfb6row26_col15\" class=\"data row26 col15\" ></td>\n",
       "                        <td id=\"T_26d3531c_54a6_11ef_bdbb_96000040dfb6row26_col16\" class=\"data row26 col16\" ></td>\n",
       "                        <td id=\"T_26d3531c_54a6_11ef_bdbb_96000040dfb6row26_col17\" class=\"data row26 col17\" ></td>\n",
       "                        <td id=\"T_26d3531c_54a6_11ef_bdbb_96000040dfb6row26_col18\" class=\"data row26 col18\" ></td>\n",
       "                        <td id=\"T_26d3531c_54a6_11ef_bdbb_96000040dfb6row26_col19\" class=\"data row26 col19\" ></td>\n",
       "                        <td id=\"T_26d3531c_54a6_11ef_bdbb_96000040dfb6row26_col20\" class=\"data row26 col20\" ></td>\n",
       "                        <td id=\"T_26d3531c_54a6_11ef_bdbb_96000040dfb6row26_col21\" class=\"data row26 col21\" ></td>\n",
       "                        <td id=\"T_26d3531c_54a6_11ef_bdbb_96000040dfb6row26_col22\" class=\"data row26 col22\" ></td>\n",
       "                        <td id=\"T_26d3531c_54a6_11ef_bdbb_96000040dfb6row26_col23\" class=\"data row26 col23\" ></td>\n",
       "                        <td id=\"T_26d3531c_54a6_11ef_bdbb_96000040dfb6row26_col24\" class=\"data row26 col24\" ></td>\n",
       "                        <td id=\"T_26d3531c_54a6_11ef_bdbb_96000040dfb6row26_col25\" class=\"data row26 col25\" ></td>\n",
       "                        <td id=\"T_26d3531c_54a6_11ef_bdbb_96000040dfb6row26_col26\" class=\"data row26 col26\" ></td>\n",
       "                        <td id=\"T_26d3531c_54a6_11ef_bdbb_96000040dfb6row26_col27\" class=\"data row26 col27\" ></td>\n",
       "                        <td id=\"T_26d3531c_54a6_11ef_bdbb_96000040dfb6row26_col28\" class=\"data row26 col28\" ></td>\n",
       "                        <td id=\"T_26d3531c_54a6_11ef_bdbb_96000040dfb6row26_col29\" class=\"data row26 col29\" ></td>\n",
       "                        <td id=\"T_26d3531c_54a6_11ef_bdbb_96000040dfb6row26_col30\" class=\"data row26 col30\" ></td>\n",
       "            </tr>\n",
       "            <tr>\n",
       "                        <th id=\"T_26d3531c_54a6_11ef_bdbb_96000040dfb6level0_row27\" class=\"row_heading level0 row27\" >2020-08-28</th>\n",
       "                        <td id=\"T_26d3531c_54a6_11ef_bdbb_96000040dfb6row27_col0\" class=\"data row27 col0\" >100.00%</td>\n",
       "                        <td id=\"T_26d3531c_54a6_11ef_bdbb_96000040dfb6row27_col1\" class=\"data row27 col1\" >2.03%</td>\n",
       "                        <td id=\"T_26d3531c_54a6_11ef_bdbb_96000040dfb6row27_col2\" class=\"data row27 col2\" >4.57%</td>\n",
       "                        <td id=\"T_26d3531c_54a6_11ef_bdbb_96000040dfb6row27_col3\" class=\"data row27 col3\" >5.27%</td>\n",
       "                        <td id=\"T_26d3531c_54a6_11ef_bdbb_96000040dfb6row27_col4\" class=\"data row27 col4\" ></td>\n",
       "                        <td id=\"T_26d3531c_54a6_11ef_bdbb_96000040dfb6row27_col5\" class=\"data row27 col5\" ></td>\n",
       "                        <td id=\"T_26d3531c_54a6_11ef_bdbb_96000040dfb6row27_col6\" class=\"data row27 col6\" ></td>\n",
       "                        <td id=\"T_26d3531c_54a6_11ef_bdbb_96000040dfb6row27_col7\" class=\"data row27 col7\" ></td>\n",
       "                        <td id=\"T_26d3531c_54a6_11ef_bdbb_96000040dfb6row27_col8\" class=\"data row27 col8\" ></td>\n",
       "                        <td id=\"T_26d3531c_54a6_11ef_bdbb_96000040dfb6row27_col9\" class=\"data row27 col9\" ></td>\n",
       "                        <td id=\"T_26d3531c_54a6_11ef_bdbb_96000040dfb6row27_col10\" class=\"data row27 col10\" ></td>\n",
       "                        <td id=\"T_26d3531c_54a6_11ef_bdbb_96000040dfb6row27_col11\" class=\"data row27 col11\" ></td>\n",
       "                        <td id=\"T_26d3531c_54a6_11ef_bdbb_96000040dfb6row27_col12\" class=\"data row27 col12\" ></td>\n",
       "                        <td id=\"T_26d3531c_54a6_11ef_bdbb_96000040dfb6row27_col13\" class=\"data row27 col13\" ></td>\n",
       "                        <td id=\"T_26d3531c_54a6_11ef_bdbb_96000040dfb6row27_col14\" class=\"data row27 col14\" ></td>\n",
       "                        <td id=\"T_26d3531c_54a6_11ef_bdbb_96000040dfb6row27_col15\" class=\"data row27 col15\" ></td>\n",
       "                        <td id=\"T_26d3531c_54a6_11ef_bdbb_96000040dfb6row27_col16\" class=\"data row27 col16\" ></td>\n",
       "                        <td id=\"T_26d3531c_54a6_11ef_bdbb_96000040dfb6row27_col17\" class=\"data row27 col17\" ></td>\n",
       "                        <td id=\"T_26d3531c_54a6_11ef_bdbb_96000040dfb6row27_col18\" class=\"data row27 col18\" ></td>\n",
       "                        <td id=\"T_26d3531c_54a6_11ef_bdbb_96000040dfb6row27_col19\" class=\"data row27 col19\" ></td>\n",
       "                        <td id=\"T_26d3531c_54a6_11ef_bdbb_96000040dfb6row27_col20\" class=\"data row27 col20\" ></td>\n",
       "                        <td id=\"T_26d3531c_54a6_11ef_bdbb_96000040dfb6row27_col21\" class=\"data row27 col21\" ></td>\n",
       "                        <td id=\"T_26d3531c_54a6_11ef_bdbb_96000040dfb6row27_col22\" class=\"data row27 col22\" ></td>\n",
       "                        <td id=\"T_26d3531c_54a6_11ef_bdbb_96000040dfb6row27_col23\" class=\"data row27 col23\" ></td>\n",
       "                        <td id=\"T_26d3531c_54a6_11ef_bdbb_96000040dfb6row27_col24\" class=\"data row27 col24\" ></td>\n",
       "                        <td id=\"T_26d3531c_54a6_11ef_bdbb_96000040dfb6row27_col25\" class=\"data row27 col25\" ></td>\n",
       "                        <td id=\"T_26d3531c_54a6_11ef_bdbb_96000040dfb6row27_col26\" class=\"data row27 col26\" ></td>\n",
       "                        <td id=\"T_26d3531c_54a6_11ef_bdbb_96000040dfb6row27_col27\" class=\"data row27 col27\" ></td>\n",
       "                        <td id=\"T_26d3531c_54a6_11ef_bdbb_96000040dfb6row27_col28\" class=\"data row27 col28\" ></td>\n",
       "                        <td id=\"T_26d3531c_54a6_11ef_bdbb_96000040dfb6row27_col29\" class=\"data row27 col29\" ></td>\n",
       "                        <td id=\"T_26d3531c_54a6_11ef_bdbb_96000040dfb6row27_col30\" class=\"data row27 col30\" ></td>\n",
       "            </tr>\n",
       "            <tr>\n",
       "                        <th id=\"T_26d3531c_54a6_11ef_bdbb_96000040dfb6level0_row28\" class=\"row_heading level0 row28\" >2020-08-29</th>\n",
       "                        <td id=\"T_26d3531c_54a6_11ef_bdbb_96000040dfb6row28_col0\" class=\"data row28 col0\" >100.00%</td>\n",
       "                        <td id=\"T_26d3531c_54a6_11ef_bdbb_96000040dfb6row28_col1\" class=\"data row28 col1\" >2.53%</td>\n",
       "                        <td id=\"T_26d3531c_54a6_11ef_bdbb_96000040dfb6row28_col2\" class=\"data row28 col2\" >3.74%</td>\n",
       "                        <td id=\"T_26d3531c_54a6_11ef_bdbb_96000040dfb6row28_col3\" class=\"data row28 col3\" ></td>\n",
       "                        <td id=\"T_26d3531c_54a6_11ef_bdbb_96000040dfb6row28_col4\" class=\"data row28 col4\" ></td>\n",
       "                        <td id=\"T_26d3531c_54a6_11ef_bdbb_96000040dfb6row28_col5\" class=\"data row28 col5\" ></td>\n",
       "                        <td id=\"T_26d3531c_54a6_11ef_bdbb_96000040dfb6row28_col6\" class=\"data row28 col6\" ></td>\n",
       "                        <td id=\"T_26d3531c_54a6_11ef_bdbb_96000040dfb6row28_col7\" class=\"data row28 col7\" ></td>\n",
       "                        <td id=\"T_26d3531c_54a6_11ef_bdbb_96000040dfb6row28_col8\" class=\"data row28 col8\" ></td>\n",
       "                        <td id=\"T_26d3531c_54a6_11ef_bdbb_96000040dfb6row28_col9\" class=\"data row28 col9\" ></td>\n",
       "                        <td id=\"T_26d3531c_54a6_11ef_bdbb_96000040dfb6row28_col10\" class=\"data row28 col10\" ></td>\n",
       "                        <td id=\"T_26d3531c_54a6_11ef_bdbb_96000040dfb6row28_col11\" class=\"data row28 col11\" ></td>\n",
       "                        <td id=\"T_26d3531c_54a6_11ef_bdbb_96000040dfb6row28_col12\" class=\"data row28 col12\" ></td>\n",
       "                        <td id=\"T_26d3531c_54a6_11ef_bdbb_96000040dfb6row28_col13\" class=\"data row28 col13\" ></td>\n",
       "                        <td id=\"T_26d3531c_54a6_11ef_bdbb_96000040dfb6row28_col14\" class=\"data row28 col14\" ></td>\n",
       "                        <td id=\"T_26d3531c_54a6_11ef_bdbb_96000040dfb6row28_col15\" class=\"data row28 col15\" ></td>\n",
       "                        <td id=\"T_26d3531c_54a6_11ef_bdbb_96000040dfb6row28_col16\" class=\"data row28 col16\" ></td>\n",
       "                        <td id=\"T_26d3531c_54a6_11ef_bdbb_96000040dfb6row28_col17\" class=\"data row28 col17\" ></td>\n",
       "                        <td id=\"T_26d3531c_54a6_11ef_bdbb_96000040dfb6row28_col18\" class=\"data row28 col18\" ></td>\n",
       "                        <td id=\"T_26d3531c_54a6_11ef_bdbb_96000040dfb6row28_col19\" class=\"data row28 col19\" ></td>\n",
       "                        <td id=\"T_26d3531c_54a6_11ef_bdbb_96000040dfb6row28_col20\" class=\"data row28 col20\" ></td>\n",
       "                        <td id=\"T_26d3531c_54a6_11ef_bdbb_96000040dfb6row28_col21\" class=\"data row28 col21\" ></td>\n",
       "                        <td id=\"T_26d3531c_54a6_11ef_bdbb_96000040dfb6row28_col22\" class=\"data row28 col22\" ></td>\n",
       "                        <td id=\"T_26d3531c_54a6_11ef_bdbb_96000040dfb6row28_col23\" class=\"data row28 col23\" ></td>\n",
       "                        <td id=\"T_26d3531c_54a6_11ef_bdbb_96000040dfb6row28_col24\" class=\"data row28 col24\" ></td>\n",
       "                        <td id=\"T_26d3531c_54a6_11ef_bdbb_96000040dfb6row28_col25\" class=\"data row28 col25\" ></td>\n",
       "                        <td id=\"T_26d3531c_54a6_11ef_bdbb_96000040dfb6row28_col26\" class=\"data row28 col26\" ></td>\n",
       "                        <td id=\"T_26d3531c_54a6_11ef_bdbb_96000040dfb6row28_col27\" class=\"data row28 col27\" ></td>\n",
       "                        <td id=\"T_26d3531c_54a6_11ef_bdbb_96000040dfb6row28_col28\" class=\"data row28 col28\" ></td>\n",
       "                        <td id=\"T_26d3531c_54a6_11ef_bdbb_96000040dfb6row28_col29\" class=\"data row28 col29\" ></td>\n",
       "                        <td id=\"T_26d3531c_54a6_11ef_bdbb_96000040dfb6row28_col30\" class=\"data row28 col30\" ></td>\n",
       "            </tr>\n",
       "            <tr>\n",
       "                        <th id=\"T_26d3531c_54a6_11ef_bdbb_96000040dfb6level0_row29\" class=\"row_heading level0 row29\" >2020-08-30</th>\n",
       "                        <td id=\"T_26d3531c_54a6_11ef_bdbb_96000040dfb6row29_col0\" class=\"data row29 col0\" >100.00%</td>\n",
       "                        <td id=\"T_26d3531c_54a6_11ef_bdbb_96000040dfb6row29_col1\" class=\"data row29 col1\" >1.84%</td>\n",
       "                        <td id=\"T_26d3531c_54a6_11ef_bdbb_96000040dfb6row29_col2\" class=\"data row29 col2\" ></td>\n",
       "                        <td id=\"T_26d3531c_54a6_11ef_bdbb_96000040dfb6row29_col3\" class=\"data row29 col3\" ></td>\n",
       "                        <td id=\"T_26d3531c_54a6_11ef_bdbb_96000040dfb6row29_col4\" class=\"data row29 col4\" ></td>\n",
       "                        <td id=\"T_26d3531c_54a6_11ef_bdbb_96000040dfb6row29_col5\" class=\"data row29 col5\" ></td>\n",
       "                        <td id=\"T_26d3531c_54a6_11ef_bdbb_96000040dfb6row29_col6\" class=\"data row29 col6\" ></td>\n",
       "                        <td id=\"T_26d3531c_54a6_11ef_bdbb_96000040dfb6row29_col7\" class=\"data row29 col7\" ></td>\n",
       "                        <td id=\"T_26d3531c_54a6_11ef_bdbb_96000040dfb6row29_col8\" class=\"data row29 col8\" ></td>\n",
       "                        <td id=\"T_26d3531c_54a6_11ef_bdbb_96000040dfb6row29_col9\" class=\"data row29 col9\" ></td>\n",
       "                        <td id=\"T_26d3531c_54a6_11ef_bdbb_96000040dfb6row29_col10\" class=\"data row29 col10\" ></td>\n",
       "                        <td id=\"T_26d3531c_54a6_11ef_bdbb_96000040dfb6row29_col11\" class=\"data row29 col11\" ></td>\n",
       "                        <td id=\"T_26d3531c_54a6_11ef_bdbb_96000040dfb6row29_col12\" class=\"data row29 col12\" ></td>\n",
       "                        <td id=\"T_26d3531c_54a6_11ef_bdbb_96000040dfb6row29_col13\" class=\"data row29 col13\" ></td>\n",
       "                        <td id=\"T_26d3531c_54a6_11ef_bdbb_96000040dfb6row29_col14\" class=\"data row29 col14\" ></td>\n",
       "                        <td id=\"T_26d3531c_54a6_11ef_bdbb_96000040dfb6row29_col15\" class=\"data row29 col15\" ></td>\n",
       "                        <td id=\"T_26d3531c_54a6_11ef_bdbb_96000040dfb6row29_col16\" class=\"data row29 col16\" ></td>\n",
       "                        <td id=\"T_26d3531c_54a6_11ef_bdbb_96000040dfb6row29_col17\" class=\"data row29 col17\" ></td>\n",
       "                        <td id=\"T_26d3531c_54a6_11ef_bdbb_96000040dfb6row29_col18\" class=\"data row29 col18\" ></td>\n",
       "                        <td id=\"T_26d3531c_54a6_11ef_bdbb_96000040dfb6row29_col19\" class=\"data row29 col19\" ></td>\n",
       "                        <td id=\"T_26d3531c_54a6_11ef_bdbb_96000040dfb6row29_col20\" class=\"data row29 col20\" ></td>\n",
       "                        <td id=\"T_26d3531c_54a6_11ef_bdbb_96000040dfb6row29_col21\" class=\"data row29 col21\" ></td>\n",
       "                        <td id=\"T_26d3531c_54a6_11ef_bdbb_96000040dfb6row29_col22\" class=\"data row29 col22\" ></td>\n",
       "                        <td id=\"T_26d3531c_54a6_11ef_bdbb_96000040dfb6row29_col23\" class=\"data row29 col23\" ></td>\n",
       "                        <td id=\"T_26d3531c_54a6_11ef_bdbb_96000040dfb6row29_col24\" class=\"data row29 col24\" ></td>\n",
       "                        <td id=\"T_26d3531c_54a6_11ef_bdbb_96000040dfb6row29_col25\" class=\"data row29 col25\" ></td>\n",
       "                        <td id=\"T_26d3531c_54a6_11ef_bdbb_96000040dfb6row29_col26\" class=\"data row29 col26\" ></td>\n",
       "                        <td id=\"T_26d3531c_54a6_11ef_bdbb_96000040dfb6row29_col27\" class=\"data row29 col27\" ></td>\n",
       "                        <td id=\"T_26d3531c_54a6_11ef_bdbb_96000040dfb6row29_col28\" class=\"data row29 col28\" ></td>\n",
       "                        <td id=\"T_26d3531c_54a6_11ef_bdbb_96000040dfb6row29_col29\" class=\"data row29 col29\" ></td>\n",
       "                        <td id=\"T_26d3531c_54a6_11ef_bdbb_96000040dfb6row29_col30\" class=\"data row29 col30\" ></td>\n",
       "            </tr>\n",
       "            <tr>\n",
       "                        <th id=\"T_26d3531c_54a6_11ef_bdbb_96000040dfb6level0_row30\" class=\"row_heading level0 row30\" >2020-08-31</th>\n",
       "                        <td id=\"T_26d3531c_54a6_11ef_bdbb_96000040dfb6row30_col0\" class=\"data row30 col0\" >100.00%</td>\n",
       "                        <td id=\"T_26d3531c_54a6_11ef_bdbb_96000040dfb6row30_col1\" class=\"data row30 col1\" ></td>\n",
       "                        <td id=\"T_26d3531c_54a6_11ef_bdbb_96000040dfb6row30_col2\" class=\"data row30 col2\" ></td>\n",
       "                        <td id=\"T_26d3531c_54a6_11ef_bdbb_96000040dfb6row30_col3\" class=\"data row30 col3\" ></td>\n",
       "                        <td id=\"T_26d3531c_54a6_11ef_bdbb_96000040dfb6row30_col4\" class=\"data row30 col4\" ></td>\n",
       "                        <td id=\"T_26d3531c_54a6_11ef_bdbb_96000040dfb6row30_col5\" class=\"data row30 col5\" ></td>\n",
       "                        <td id=\"T_26d3531c_54a6_11ef_bdbb_96000040dfb6row30_col6\" class=\"data row30 col6\" ></td>\n",
       "                        <td id=\"T_26d3531c_54a6_11ef_bdbb_96000040dfb6row30_col7\" class=\"data row30 col7\" ></td>\n",
       "                        <td id=\"T_26d3531c_54a6_11ef_bdbb_96000040dfb6row30_col8\" class=\"data row30 col8\" ></td>\n",
       "                        <td id=\"T_26d3531c_54a6_11ef_bdbb_96000040dfb6row30_col9\" class=\"data row30 col9\" ></td>\n",
       "                        <td id=\"T_26d3531c_54a6_11ef_bdbb_96000040dfb6row30_col10\" class=\"data row30 col10\" ></td>\n",
       "                        <td id=\"T_26d3531c_54a6_11ef_bdbb_96000040dfb6row30_col11\" class=\"data row30 col11\" ></td>\n",
       "                        <td id=\"T_26d3531c_54a6_11ef_bdbb_96000040dfb6row30_col12\" class=\"data row30 col12\" ></td>\n",
       "                        <td id=\"T_26d3531c_54a6_11ef_bdbb_96000040dfb6row30_col13\" class=\"data row30 col13\" ></td>\n",
       "                        <td id=\"T_26d3531c_54a6_11ef_bdbb_96000040dfb6row30_col14\" class=\"data row30 col14\" ></td>\n",
       "                        <td id=\"T_26d3531c_54a6_11ef_bdbb_96000040dfb6row30_col15\" class=\"data row30 col15\" ></td>\n",
       "                        <td id=\"T_26d3531c_54a6_11ef_bdbb_96000040dfb6row30_col16\" class=\"data row30 col16\" ></td>\n",
       "                        <td id=\"T_26d3531c_54a6_11ef_bdbb_96000040dfb6row30_col17\" class=\"data row30 col17\" ></td>\n",
       "                        <td id=\"T_26d3531c_54a6_11ef_bdbb_96000040dfb6row30_col18\" class=\"data row30 col18\" ></td>\n",
       "                        <td id=\"T_26d3531c_54a6_11ef_bdbb_96000040dfb6row30_col19\" class=\"data row30 col19\" ></td>\n",
       "                        <td id=\"T_26d3531c_54a6_11ef_bdbb_96000040dfb6row30_col20\" class=\"data row30 col20\" ></td>\n",
       "                        <td id=\"T_26d3531c_54a6_11ef_bdbb_96000040dfb6row30_col21\" class=\"data row30 col21\" ></td>\n",
       "                        <td id=\"T_26d3531c_54a6_11ef_bdbb_96000040dfb6row30_col22\" class=\"data row30 col22\" ></td>\n",
       "                        <td id=\"T_26d3531c_54a6_11ef_bdbb_96000040dfb6row30_col23\" class=\"data row30 col23\" ></td>\n",
       "                        <td id=\"T_26d3531c_54a6_11ef_bdbb_96000040dfb6row30_col24\" class=\"data row30 col24\" ></td>\n",
       "                        <td id=\"T_26d3531c_54a6_11ef_bdbb_96000040dfb6row30_col25\" class=\"data row30 col25\" ></td>\n",
       "                        <td id=\"T_26d3531c_54a6_11ef_bdbb_96000040dfb6row30_col26\" class=\"data row30 col26\" ></td>\n",
       "                        <td id=\"T_26d3531c_54a6_11ef_bdbb_96000040dfb6row30_col27\" class=\"data row30 col27\" ></td>\n",
       "                        <td id=\"T_26d3531c_54a6_11ef_bdbb_96000040dfb6row30_col28\" class=\"data row30 col28\" ></td>\n",
       "                        <td id=\"T_26d3531c_54a6_11ef_bdbb_96000040dfb6row30_col29\" class=\"data row30 col29\" ></td>\n",
       "                        <td id=\"T_26d3531c_54a6_11ef_bdbb_96000040dfb6row30_col30\" class=\"data row30 col30\" ></td>\n",
       "            </tr>\n",
       "    </tbody></table>"
      ],
      "text/plain": [
       "<pandas.io.formats.style.Styler at 0x7f495596c908>"
      ]
     },
     "execution_count": 79,
     "metadata": {},
     "output_type": "execute_result"
    }
   ],
   "source": [
    "retention(reg_data, auth_data, start_date = '2020-08-01', end_date = '2020-08-31')"
   ]
  },
  {
   "cell_type": "markdown",
   "metadata": {},
   "source": [
    "### Задание 2\n",
    "Имеются результаты A/B теста, в котором двум группам пользователей предлагались различные наборы акционных предложений. Известно, что ARPU в тестовой группе выше на 5%, чем в контрольной. При этом в контрольной группе 1928 игроков из 202103 оказались платящими, а в тестовой – 1805 из 202667.\n",
    "\n",
    "Какой набор предложений можно считать лучшим? Какие метрики стоит проанализировать для принятия правильного решения и как?"
   ]
  },
  {
   "cell_type": "code",
   "execution_count": 20,
   "metadata": {},
   "outputs": [],
   "source": [
    "# Считываем данные, используя API\n",
    "base_url = 'https://cloud-api.yandex.net/v1/disk/public/resources/download?'\n",
    "public_key = 'https://disk.yandex.ru/d/SOkIsD5A8xlI7Q'  \n",
    "\n",
    "# Получаем загрузочную ссылку\n",
    "final_url = base_url + urlencode(dict(public_key=public_key))\n",
    "response = requests.get(final_url)\n",
    "download_url = response.json()['href']\n",
    "\n",
    "df = pd.read_csv(download_url, sep=';')"
   ]
  },
  {
   "cell_type": "code",
   "execution_count": 21,
   "metadata": {},
   "outputs": [
    {
     "data": {
      "text/html": [
       "<div>\n",
       "<style scoped>\n",
       "    .dataframe tbody tr th:only-of-type {\n",
       "        vertical-align: middle;\n",
       "    }\n",
       "\n",
       "    .dataframe tbody tr th {\n",
       "        vertical-align: top;\n",
       "    }\n",
       "\n",
       "    .dataframe thead th {\n",
       "        text-align: right;\n",
       "    }\n",
       "</style>\n",
       "<table border=\"1\" class=\"dataframe\">\n",
       "  <thead>\n",
       "    <tr style=\"text-align: right;\">\n",
       "      <th></th>\n",
       "      <th>user_id</th>\n",
       "      <th>revenue</th>\n",
       "      <th>testgroup</th>\n",
       "    </tr>\n",
       "  </thead>\n",
       "  <tbody>\n",
       "    <tr>\n",
       "      <th>0</th>\n",
       "      <td>1</td>\n",
       "      <td>0</td>\n",
       "      <td>b</td>\n",
       "    </tr>\n",
       "    <tr>\n",
       "      <th>1</th>\n",
       "      <td>2</td>\n",
       "      <td>0</td>\n",
       "      <td>a</td>\n",
       "    </tr>\n",
       "    <tr>\n",
       "      <th>2</th>\n",
       "      <td>3</td>\n",
       "      <td>0</td>\n",
       "      <td>a</td>\n",
       "    </tr>\n",
       "    <tr>\n",
       "      <th>3</th>\n",
       "      <td>4</td>\n",
       "      <td>0</td>\n",
       "      <td>b</td>\n",
       "    </tr>\n",
       "    <tr>\n",
       "      <th>4</th>\n",
       "      <td>5</td>\n",
       "      <td>0</td>\n",
       "      <td>b</td>\n",
       "    </tr>\n",
       "  </tbody>\n",
       "</table>\n",
       "</div>"
      ],
      "text/plain": [
       "   user_id  revenue testgroup\n",
       "0        1        0         b\n",
       "1        2        0         a\n",
       "2        3        0         a\n",
       "3        4        0         b\n",
       "4        5        0         b"
      ]
     },
     "execution_count": 21,
     "metadata": {},
     "output_type": "execute_result"
    }
   ],
   "source": [
    "df.head()"
   ]
  },
  {
   "cell_type": "code",
   "execution_count": 22,
   "metadata": {},
   "outputs": [
    {
     "name": "stdout",
     "output_type": "stream",
     "text": [
      "<class 'pandas.core.frame.DataFrame'>\n",
      "RangeIndex: 404770 entries, 0 to 404769\n",
      "Data columns (total 3 columns):\n",
      " #   Column     Non-Null Count   Dtype \n",
      "---  ------     --------------   ----- \n",
      " 0   user_id    404770 non-null  int64 \n",
      " 1   revenue    404770 non-null  int64 \n",
      " 2   testgroup  404770 non-null  object\n",
      "dtypes: int64(2), object(1)\n",
      "memory usage: 9.3+ MB\n"
     ]
    }
   ],
   "source": [
    "df.info()"
   ]
  },
  {
   "cell_type": "code",
   "execution_count": 23,
   "metadata": {},
   "outputs": [
    {
     "data": {
      "text/plain": [
       "user_id      0\n",
       "revenue      0\n",
       "testgroup    0\n",
       "dtype: int64"
      ]
     },
     "execution_count": 23,
     "metadata": {},
     "output_type": "execute_result"
    }
   ],
   "source": [
    "df.isna().sum() # пропусков нет"
   ]
  },
  {
   "cell_type": "code",
   "execution_count": 24,
   "metadata": {},
   "outputs": [
    {
     "data": {
      "text/plain": [
       "0"
      ]
     },
     "execution_count": 24,
     "metadata": {},
     "output_type": "execute_result"
    }
   ],
   "source": [
    "df.duplicated().sum() # дубликатов нет"
   ]
  },
  {
   "cell_type": "code",
   "execution_count": 25,
   "metadata": {},
   "outputs": [
    {
     "data": {
      "text/plain": [
       "404770"
      ]
     },
     "execution_count": 25,
     "metadata": {},
     "output_type": "execute_result"
    }
   ],
   "source": [
    "# Количество уникальных пользователей\n",
    "df.user_id.nunique()"
   ]
  },
  {
   "cell_type": "code",
   "execution_count": 26,
   "metadata": {},
   "outputs": [
    {
     "data": {
      "text/plain": [
       "testgroup\n",
       "a    202103\n",
       "b    202667\n",
       "Name: user_id, dtype: int64"
      ]
     },
     "execution_count": 26,
     "metadata": {},
     "output_type": "execute_result"
    }
   ],
   "source": [
    "df.groupby('testgroup').user_id.nunique()"
   ]
  },
  {
   "cell_type": "code",
   "execution_count": 27,
   "metadata": {},
   "outputs": [
    {
     "name": "stdout",
     "output_type": "stream",
     "text": [
      "Платящих пользователей в контрольной группе 1928\n",
      "Платящих пользователей в тестовой группе 1805\n"
     ]
    }
   ],
   "source": [
    "paying_uers_control = df.query(\"revenue>0 and testgroup =='a'\").revenue.count()\n",
    "print('Платящих пользователей в контрольной группе', paying_uers_control)\n",
    "paying_uers_test = df.query(\"revenue>0 and testgroup =='b'\").revenue.count()\n",
    "print('Платящих пользователей в тестовой группе', paying_uers_test)"
   ]
  },
  {
   "cell_type": "markdown",
   "metadata": {},
   "source": [
    "Исходя из условий задания определем группу $a$ как контрольную (всего 202103 юзеров, 1928 платящих), группу $b$ как тестовую (всего 202667 юзеров, 1805 платящих)"
   ]
  },
  {
   "cell_type": "code",
   "execution_count": 28,
   "metadata": {},
   "outputs": [],
   "source": [
    "df_control = df.query(\"testgroup=='a'\")\n",
    "df_test = df.query(\"testgroup=='b'\")"
   ]
  },
  {
   "cell_type": "markdown",
   "metadata": {},
   "source": [
    "Посмотрим на метрики в группах"
   ]
  },
  {
   "cell_type": "code",
   "execution_count": 29,
   "metadata": {},
   "outputs": [
    {
     "data": {
      "text/plain": [
       "25.41"
      ]
     },
     "execution_count": 29,
     "metadata": {},
     "output_type": "execute_result"
    }
   ],
   "source": [
    "# ARPU в контрольной группе\n",
    "arpu_control = round(df_control.revenue.sum()/df_control.user_id.count(), 2)\n",
    "arpu_control"
   ]
  },
  {
   "cell_type": "code",
   "execution_count": 30,
   "metadata": {},
   "outputs": [
    {
     "data": {
      "text/plain": [
       "26.75"
      ]
     },
     "execution_count": 30,
     "metadata": {},
     "output_type": "execute_result"
    }
   ],
   "source": [
    "# ARPU в тестовой группе\n",
    "arpu_test = round(df_test.revenue.sum()/df_test.user_id.count(), 2)\n",
    "arpu_test"
   ]
  },
  {
   "cell_type": "code",
   "execution_count": 31,
   "metadata": {},
   "outputs": [
    {
     "data": {
      "text/plain": [
       "0.009539690157988749"
      ]
     },
     "execution_count": 31,
     "metadata": {},
     "output_type": "execute_result"
    }
   ],
   "source": [
    "# Конверсия в покупку в контрольной группе\n",
    "cr_control = df_control.query(\"revenue>0\").user_id.count()/df_control.user_id.count()\n",
    "cr_control"
   ]
  },
  {
   "cell_type": "code",
   "execution_count": 32,
   "metadata": {},
   "outputs": [
    {
     "data": {
      "text/plain": [
       "0.008906235351586593"
      ]
     },
     "execution_count": 32,
     "metadata": {},
     "output_type": "execute_result"
    }
   ],
   "source": [
    "# Конверсия в покупку в тестовой группе\n",
    "cr_test = df_test.query(\"revenue>0\").user_id.count()/df_test.user_id.count()\n",
    "cr_test"
   ]
  },
  {
   "cell_type": "code",
   "execution_count": 33,
   "metadata": {},
   "outputs": [
    {
     "data": {
      "text/plain": [
       "2663.61"
      ]
     },
     "execution_count": 33,
     "metadata": {},
     "output_type": "execute_result"
    }
   ],
   "source": [
    "# ARPPU в контрольной группе\n",
    "arppu_control = round(arpu_control/cr_control, 2)\n",
    "arppu_control"
   ]
  },
  {
   "cell_type": "code",
   "execution_count": 34,
   "metadata": {},
   "outputs": [
    {
     "data": {
      "text/plain": [
       "3003.51"
      ]
     },
     "execution_count": 34,
     "metadata": {},
     "output_type": "execute_result"
    }
   ],
   "source": [
    "# ARPPU в тестовой группе\n",
    "arppu_test = round(arpu_test/cr_test, 2)\n",
    "arppu_test"
   ]
  },
  {
   "cell_type": "code",
   "execution_count": 35,
   "metadata": {},
   "outputs": [
    {
     "data": {
      "text/plain": [
       "5136189"
      ]
     },
     "execution_count": 35,
     "metadata": {},
     "output_type": "execute_result"
    }
   ],
   "source": [
    "# Доход в контрольной группе\n",
    "revenue_control = df_control.revenue.sum()\n",
    "revenue_control"
   ]
  },
  {
   "cell_type": "code",
   "execution_count": 36,
   "metadata": {},
   "outputs": [
    {
     "data": {
      "text/plain": [
       "5421603"
      ]
     },
     "execution_count": 36,
     "metadata": {},
     "output_type": "execute_result"
    }
   ],
   "source": [
    "# Доход в тестовой группе\n",
    "revenue_test = df_test.revenue.sum()\n",
    "revenue_test"
   ]
  },
  {
   "cell_type": "markdown",
   "metadata": {},
   "source": [
    "Соберем все полученные значения в одну таблицу"
   ]
  },
  {
   "cell_type": "code",
   "execution_count": 37,
   "metadata": {},
   "outputs": [
    {
     "data": {
      "text/html": [
       "<div>\n",
       "<style scoped>\n",
       "    .dataframe tbody tr th:only-of-type {\n",
       "        vertical-align: middle;\n",
       "    }\n",
       "\n",
       "    .dataframe tbody tr th {\n",
       "        vertical-align: top;\n",
       "    }\n",
       "\n",
       "    .dataframe thead th {\n",
       "        text-align: right;\n",
       "    }\n",
       "</style>\n",
       "<table border=\"1\" class=\"dataframe\">\n",
       "  <thead>\n",
       "    <tr style=\"text-align: right;\">\n",
       "      <th></th>\n",
       "      <th>users</th>\n",
       "    </tr>\n",
       "    <tr>\n",
       "      <th>testgroup</th>\n",
       "      <th></th>\n",
       "    </tr>\n",
       "  </thead>\n",
       "  <tbody>\n",
       "    <tr>\n",
       "      <th>a</th>\n",
       "      <td>202103</td>\n",
       "    </tr>\n",
       "    <tr>\n",
       "      <th>b</th>\n",
       "      <td>202667</td>\n",
       "    </tr>\n",
       "  </tbody>\n",
       "</table>\n",
       "</div>"
      ],
      "text/plain": [
       "            users\n",
       "testgroup        \n",
       "a          202103\n",
       "b          202667"
      ]
     },
     "execution_count": 37,
     "metadata": {},
     "output_type": "execute_result"
    }
   ],
   "source": [
    "metrics = df.groupby('testgroup').agg({'user_id': 'count'}).rename(columns={'user_id': 'users'})\n",
    "metrics"
   ]
  },
  {
   "cell_type": "code",
   "execution_count": 38,
   "metadata": {},
   "outputs": [],
   "source": [
    "data_groups = pd.DataFrame({'testgroup': ['a', 'b'], 'paying_users': [paying_uers_control, paying_uers_test],\n",
    "            'cr':[round(cr_control*100, 2), round(cr_test*100, 2)], 'ARPU':[arpu_control, arpu_test], \n",
    "            'ARPPU':[arppu_control, arppu_test], \n",
    "            'revenue_sum':[revenue_control, revenue_test]}).set_index('testgroup')\n"
   ]
  },
  {
   "cell_type": "code",
   "execution_count": 39,
   "metadata": {},
   "outputs": [],
   "source": [
    "metrics=metrics.join(data_groups)"
   ]
  },
  {
   "cell_type": "code",
   "execution_count": 40,
   "metadata": {},
   "outputs": [
    {
     "data": {
      "text/html": [
       "<div>\n",
       "<style scoped>\n",
       "    .dataframe tbody tr th:only-of-type {\n",
       "        vertical-align: middle;\n",
       "    }\n",
       "\n",
       "    .dataframe tbody tr th {\n",
       "        vertical-align: top;\n",
       "    }\n",
       "\n",
       "    .dataframe thead th {\n",
       "        text-align: right;\n",
       "    }\n",
       "</style>\n",
       "<table border=\"1\" class=\"dataframe\">\n",
       "  <thead>\n",
       "    <tr style=\"text-align: right;\">\n",
       "      <th></th>\n",
       "      <th>users</th>\n",
       "      <th>paying_users</th>\n",
       "      <th>cr</th>\n",
       "      <th>ARPU</th>\n",
       "      <th>ARPPU</th>\n",
       "      <th>revenue_sum</th>\n",
       "    </tr>\n",
       "    <tr>\n",
       "      <th>testgroup</th>\n",
       "      <th></th>\n",
       "      <th></th>\n",
       "      <th></th>\n",
       "      <th></th>\n",
       "      <th></th>\n",
       "      <th></th>\n",
       "    </tr>\n",
       "  </thead>\n",
       "  <tbody>\n",
       "    <tr>\n",
       "      <th>a</th>\n",
       "      <td>202103</td>\n",
       "      <td>1928</td>\n",
       "      <td>0.95</td>\n",
       "      <td>25.41</td>\n",
       "      <td>2663.61</td>\n",
       "      <td>5136189</td>\n",
       "    </tr>\n",
       "    <tr>\n",
       "      <th>b</th>\n",
       "      <td>202667</td>\n",
       "      <td>1805</td>\n",
       "      <td>0.89</td>\n",
       "      <td>26.75</td>\n",
       "      <td>3003.51</td>\n",
       "      <td>5421603</td>\n",
       "    </tr>\n",
       "  </tbody>\n",
       "</table>\n",
       "</div>"
      ],
      "text/plain": [
       "            users  paying_users    cr   ARPU    ARPPU  revenue_sum\n",
       "testgroup                                                         \n",
       "a          202103          1928  0.95  25.41  2663.61      5136189\n",
       "b          202667          1805  0.89  26.75  3003.51      5421603"
      ]
     },
     "execution_count": 40,
     "metadata": {},
     "output_type": "execute_result"
    }
   ],
   "source": [
    "metrics"
   ]
  },
  {
   "cell_type": "code",
   "execution_count": 41,
   "metadata": {},
   "outputs": [
    {
     "data": {
      "text/plain": [
       "5.273514364423455"
      ]
     },
     "execution_count": 41,
     "metadata": {},
     "output_type": "execute_result"
    }
   ],
   "source": [
    "# ARPU в тестовой группе больше на 5.27 %, чем в контрольной\n",
    "(metrics.loc['b'].ARPU-metrics.loc['a'].ARPU)/metrics.loc['a'].ARPU*100"
   ]
  },
  {
   "cell_type": "code",
   "execution_count": 42,
   "metadata": {},
   "outputs": [
    {
     "data": {
      "text/plain": [
       "12.760877155439426"
      ]
     },
     "execution_count": 42,
     "metadata": {},
     "output_type": "execute_result"
    }
   ],
   "source": [
    "# ARPPU в тестовой группе больше на 12.76 %, чем в контрольной\n",
    "(metrics.loc['b'].ARPPU-metrics.loc['a'].ARPPU)/metrics.loc['a'].ARPPU*100"
   ]
  },
  {
   "cell_type": "code",
   "execution_count": 43,
   "metadata": {},
   "outputs": [
    {
     "data": {
      "text/plain": [
       "6.741573033707858"
      ]
     },
     "execution_count": 43,
     "metadata": {},
     "output_type": "execute_result"
    }
   ],
   "source": [
    "# Конверсия в покупку в контрольной группе больше на 6.7%, чем в тестовой\n",
    "(metrics.loc['a'].cr-metrics.loc['b'].cr)/metrics.loc['b'].cr*100"
   ]
  },
  {
   "cell_type": "markdown",
   "metadata": {},
   "source": [
    "Необходимо статистически сравнить различия по трем метрикам: ARPU, ARPPU, CR в двух группах."
   ]
  },
  {
   "cell_type": "code",
   "execution_count": 44,
   "metadata": {},
   "outputs": [
    {
     "data": {
      "text/plain": [
       "<seaborn.axisgrid.FacetGrid at 0x7f495be31a90>"
      ]
     },
     "execution_count": 44,
     "metadata": {},
     "output_type": "execute_result"
    },
    {
     "data": {
      "image/png": "[encoded data removed]",
      "text/plain": [
       "<Figure size 426.925x360 with 1 Axes>"
      ]
     },
     "metadata": {},
     "output_type": "display_data"
    }
   ],
   "source": [
    "# Посмотрим на распределение revenue для разных групп\n",
    "sns.displot(data=df.query(\"revenue > 0\"), x='revenue', hue='testgroup', kde=False)"
   ]
  },
  {
   "cell_type": "code",
   "execution_count": 45,
   "metadata": {},
   "outputs": [
    {
     "data": {
      "text/plain": [
       "<seaborn.axisgrid.FacetGrid at 0x7f495668ed30>"
      ]
     },
     "execution_count": 45,
     "metadata": {},
     "output_type": "execute_result"
    },
    {
     "data": {
      "image/png": "[encoded data removed]",
      "text/plain": [
       "<Figure size 360x360 with 1 Axes>"
      ]
     },
     "metadata": {},
     "output_type": "display_data"
    }
   ],
   "source": [
    "# Распределение revenue в тестовой группе\n",
    "sns.displot(data=df.query(\"testgroup == 'b' and revenue > 0\"), x='revenue', kde=False, color='r')"
   ]
  },
  {
   "cell_type": "code",
   "execution_count": 46,
   "metadata": {},
   "outputs": [
    {
     "data": {
      "text/plain": [
       "<seaborn.axisgrid.FacetGrid at 0x7f49566780f0>"
      ]
     },
     "execution_count": 46,
     "metadata": {},
     "output_type": "execute_result"
    },
    {
     "data": {
      "image/png": "[encoded data removed]",
      "text/plain": [
       "<Figure size 360x360 with 1 Axes>"
      ]
     },
     "metadata": {},
     "output_type": "display_data"
    }
   ],
   "source": [
    "# Распределение revenue в контрольной группе без экстремально высоких чеков\n",
    "sns.displot(data=df.query(\"testgroup == 'a' and revenue > 0 and revenue<10000\"), x='revenue', kde=False, color='b')"
   ]
  },
  {
   "cell_type": "code",
   "execution_count": 47,
   "metadata": {},
   "outputs": [
    {
     "data": {
      "text/plain": [
       "<seaborn.axisgrid.FacetGrid at 0x7f495bfd2198>"
      ]
     },
     "execution_count": 47,
     "metadata": {},
     "output_type": "execute_result"
    },
    {
     "data": {
      "image/png": "[encoded data removed]",
      "text/plain": [
       "<Figure size 360x360 with 1 Axes>"
      ]
     },
     "metadata": {},
     "output_type": "display_data"
    }
   ],
   "source": [
    "# Распределение revenue экстремально высоких чеков в контрольной группе \n",
    "sns.displot(data=df.query(\"testgroup == 'a' and revenue > 30000\"), x='revenue', kde=False, color='b')"
   ]
  },
  {
   "cell_type": "code",
   "execution_count": 48,
   "metadata": {
    "scrolled": false
   },
   "outputs": [
    {
     "data": {
      "text/plain": [
       "<matplotlib.axes._subplots.AxesSubplot at 0x7f49560717f0>"
      ]
     },
     "execution_count": 48,
     "metadata": {},
     "output_type": "execute_result"
    },
    {
     "data": {
      "image/png": "[encoded data removed]",
      "text/plain": [
       "<Figure size 864x432 with 1 Axes>"
      ]
     },
     "metadata": {},
     "output_type": "display_data"
    }
   ],
   "source": [
    "# Боксплот\n",
    "sns.boxplot(data = df.query(\"revenue > 0\"), x='revenue', y='testgroup')"
   ]
  },
  {
   "cell_type": "markdown",
   "metadata": {},
   "source": [
    "Визуально распределения не выглядят нормальными. Также есть выброс в контрольной группе."
   ]
  },
  {
   "cell_type": "code",
   "execution_count": 49,
   "metadata": {},
   "outputs": [
    {
     "data": {
      "text/html": [
       "<div>\n",
       "<style scoped>\n",
       "    .dataframe tbody tr th:only-of-type {\n",
       "        vertical-align: middle;\n",
       "    }\n",
       "\n",
       "    .dataframe tbody tr th {\n",
       "        vertical-align: top;\n",
       "    }\n",
       "\n",
       "    .dataframe thead th {\n",
       "        text-align: right;\n",
       "    }\n",
       "</style>\n",
       "<table border=\"1\" class=\"dataframe\">\n",
       "  <thead>\n",
       "    <tr style=\"text-align: right;\">\n",
       "      <th></th>\n",
       "      <th>W</th>\n",
       "      <th>pval</th>\n",
       "      <th>normal</th>\n",
       "    </tr>\n",
       "  </thead>\n",
       "  <tbody>\n",
       "    <tr>\n",
       "      <th>a</th>\n",
       "      <td>1394.945784</td>\n",
       "      <td>1.234161e-303</td>\n",
       "      <td>False</td>\n",
       "    </tr>\n",
       "    <tr>\n",
       "      <th>b</th>\n",
       "      <td>1068.860008</td>\n",
       "      <td>7.943249e-233</td>\n",
       "      <td>False</td>\n",
       "    </tr>\n",
       "  </tbody>\n",
       "</table>\n",
       "</div>"
      ],
      "text/plain": [
       "             W           pval  normal\n",
       "a  1394.945784  1.234161e-303   False\n",
       "b  1068.860008  7.943249e-233   False"
      ]
     },
     "execution_count": 49,
     "metadata": {},
     "output_type": "execute_result"
    }
   ],
   "source": [
    "# Проверим нормальность распределения revenue платящих пользователей в группах\n",
    "pg.normality(df.query(\"revenue > 0\"), \"revenue\", \"testgroup\", \"normaltest\")"
   ]
  },
  {
   "cell_type": "code",
   "execution_count": 50,
   "metadata": {},
   "outputs": [
    {
     "data": {
      "text/html": [
       "<div>\n",
       "<style scoped>\n",
       "    .dataframe tbody tr th:only-of-type {\n",
       "        vertical-align: middle;\n",
       "    }\n",
       "\n",
       "    .dataframe tbody tr th {\n",
       "        vertical-align: top;\n",
       "    }\n",
       "\n",
       "    .dataframe thead th {\n",
       "        text-align: right;\n",
       "    }\n",
       "</style>\n",
       "<table border=\"1\" class=\"dataframe\">\n",
       "  <thead>\n",
       "    <tr style=\"text-align: right;\">\n",
       "      <th></th>\n",
       "      <th>user_id</th>\n",
       "      <th>revenue</th>\n",
       "    </tr>\n",
       "  </thead>\n",
       "  <tbody>\n",
       "    <tr>\n",
       "      <th>count</th>\n",
       "      <td>1928.000000</td>\n",
       "      <td>1928.000000</td>\n",
       "    </tr>\n",
       "    <tr>\n",
       "      <th>mean</th>\n",
       "      <td>200152.677905</td>\n",
       "      <td>2663.998444</td>\n",
       "    </tr>\n",
       "    <tr>\n",
       "      <th>std</th>\n",
       "      <td>116596.504905</td>\n",
       "      <td>9049.039763</td>\n",
       "    </tr>\n",
       "    <tr>\n",
       "      <th>min</th>\n",
       "      <td>73.000000</td>\n",
       "      <td>200.000000</td>\n",
       "    </tr>\n",
       "    <tr>\n",
       "      <th>25%</th>\n",
       "      <td>99323.000000</td>\n",
       "      <td>257.000000</td>\n",
       "    </tr>\n",
       "    <tr>\n",
       "      <th>50%</th>\n",
       "      <td>199854.500000</td>\n",
       "      <td>311.000000</td>\n",
       "    </tr>\n",
       "    <tr>\n",
       "      <th>75%</th>\n",
       "      <td>299664.250000</td>\n",
       "      <td>361.000000</td>\n",
       "    </tr>\n",
       "    <tr>\n",
       "      <th>max</th>\n",
       "      <td>404768.000000</td>\n",
       "      <td>37433.000000</td>\n",
       "    </tr>\n",
       "  </tbody>\n",
       "</table>\n",
       "</div>"
      ],
      "text/plain": [
       "             user_id       revenue\n",
       "count    1928.000000   1928.000000\n",
       "mean   200152.677905   2663.998444\n",
       "std    116596.504905   9049.039763\n",
       "min        73.000000    200.000000\n",
       "25%     99323.000000    257.000000\n",
       "50%    199854.500000    311.000000\n",
       "75%    299664.250000    361.000000\n",
       "max    404768.000000  37433.000000"
      ]
     },
     "execution_count": 50,
     "metadata": {},
     "output_type": "execute_result"
    }
   ],
   "source": [
    "df_control.query(\"revenue>0\").describe()"
   ]
  },
  {
   "cell_type": "code",
   "execution_count": 51,
   "metadata": {},
   "outputs": [
    {
     "data": {
      "text/html": [
       "<div>\n",
       "<style scoped>\n",
       "    .dataframe tbody tr th:only-of-type {\n",
       "        vertical-align: middle;\n",
       "    }\n",
       "\n",
       "    .dataframe tbody tr th {\n",
       "        vertical-align: top;\n",
       "    }\n",
       "\n",
       "    .dataframe thead th {\n",
       "        text-align: right;\n",
       "    }\n",
       "</style>\n",
       "<table border=\"1\" class=\"dataframe\">\n",
       "  <thead>\n",
       "    <tr style=\"text-align: right;\">\n",
       "      <th></th>\n",
       "      <th>user_id</th>\n",
       "      <th>revenue</th>\n",
       "    </tr>\n",
       "  </thead>\n",
       "  <tbody>\n",
       "    <tr>\n",
       "      <th>count</th>\n",
       "      <td>1805.000000</td>\n",
       "      <td>1805.000000</td>\n",
       "    </tr>\n",
       "    <tr>\n",
       "      <th>mean</th>\n",
       "      <td>205834.548476</td>\n",
       "      <td>3003.658172</td>\n",
       "    </tr>\n",
       "    <tr>\n",
       "      <th>std</th>\n",
       "      <td>116400.045485</td>\n",
       "      <td>572.619709</td>\n",
       "    </tr>\n",
       "    <tr>\n",
       "      <th>min</th>\n",
       "      <td>161.000000</td>\n",
       "      <td>2000.000000</td>\n",
       "    </tr>\n",
       "    <tr>\n",
       "      <th>25%</th>\n",
       "      <td>106815.000000</td>\n",
       "      <td>2513.000000</td>\n",
       "    </tr>\n",
       "    <tr>\n",
       "      <th>50%</th>\n",
       "      <td>206651.000000</td>\n",
       "      <td>3022.000000</td>\n",
       "    </tr>\n",
       "    <tr>\n",
       "      <th>75%</th>\n",
       "      <td>304907.000000</td>\n",
       "      <td>3478.000000</td>\n",
       "    </tr>\n",
       "    <tr>\n",
       "      <th>max</th>\n",
       "      <td>404526.000000</td>\n",
       "      <td>4000.000000</td>\n",
       "    </tr>\n",
       "  </tbody>\n",
       "</table>\n",
       "</div>"
      ],
      "text/plain": [
       "             user_id      revenue\n",
       "count    1805.000000  1805.000000\n",
       "mean   205834.548476  3003.658172\n",
       "std    116400.045485   572.619709\n",
       "min       161.000000  2000.000000\n",
       "25%    106815.000000  2513.000000\n",
       "50%    206651.000000  3022.000000\n",
       "75%    304907.000000  3478.000000\n",
       "max    404526.000000  4000.000000"
      ]
     },
     "execution_count": 51,
     "metadata": {},
     "output_type": "execute_result"
    }
   ],
   "source": [
    "df_test.query(\"revenue>0\").describe()"
   ]
  },
  {
   "cell_type": "markdown",
   "metadata": {},
   "source": [
    "Медианное значение revenue контрольной группы (3022) в 10 раз больше медианы тестовой группы (311)."
   ]
  },
  {
   "cell_type": "markdown",
   "metadata": {},
   "source": [
    "Изучим подробнее выброс в контрольной группе"
   ]
  },
  {
   "cell_type": "code",
   "execution_count": 52,
   "metadata": {},
   "outputs": [
    {
     "data": {
      "text/plain": [
       "123"
      ]
     },
     "execution_count": 52,
     "metadata": {},
     "output_type": "execute_result"
    }
   ],
   "source": [
    "# Количество клиентов с экстремально высоким чеком\n",
    "df_control.query(\"revenue>35000\").user_id.count()"
   ]
  },
  {
   "cell_type": "code",
   "execution_count": 53,
   "metadata": {},
   "outputs": [
    {
     "data": {
      "text/plain": [
       "4590252"
      ]
     },
     "execution_count": 53,
     "metadata": {},
     "output_type": "execute_result"
    }
   ],
   "source": [
    "# Сумма покупок клиентов с экстремально высоким чеком\n",
    "df_control.query(\"revenue>35000\").revenue.sum()"
   ]
  },
  {
   "cell_type": "code",
   "execution_count": 54,
   "metadata": {},
   "outputs": [
    {
     "data": {
      "text/plain": [
       "6.379668049792531"
      ]
     },
     "execution_count": 54,
     "metadata": {},
     "output_type": "execute_result"
    }
   ],
   "source": [
    "# Доля клиентов с экстремально высоким чеком от всех платщих пользователей в %\n",
    "df_control.query(\"revenue>35000\").user_id.count()/df_control.query(\"revenue>0\").user_id.count()*100"
   ]
  },
  {
   "cell_type": "code",
   "execution_count": 55,
   "metadata": {},
   "outputs": [
    {
     "data": {
      "text/plain": [
       "89.37077665950378"
      ]
     },
     "execution_count": 55,
     "metadata": {},
     "output_type": "execute_result"
    }
   ],
   "source": [
    "# Доля выручки клиентов с экстремально высоким чеком от общей суммы выручки контрольной группы\n",
    "4590252/df_control.revenue.sum()*100"
   ]
  },
  {
   "cell_type": "markdown",
   "metadata": {},
   "source": [
    "В контрольной группе 89% выручки от всех платящих пользователей делают 123 клиента, т.е. 6.38 %. Предположим, что настолько большие чеки не баг, а действительно крупные покупки по акционным предложениям. Распределение в тестовой группе также не яляется нормальным, хоть и выглядит более равномерным."
   ]
  },
  {
   "cell_type": "markdown",
   "metadata": {},
   "source": [
    "#### Метрика Конверсия (conversion rate, CR) — отношение числа пользователей, которые выполнили какое-либо целевое действие к общему числу пользователей."
   ]
  },
  {
   "cell_type": "markdown",
   "metadata": {},
   "source": [
    "Так как это категориальная метрика (сконвертировался в покупку или нет), будем использовать метод хи-квадрат. "
   ]
  },
  {
   "cell_type": "markdown",
   "metadata": {},
   "source": [
    "- $H_0$: нет взаимосвязи между конверсией в покупку и набором акционных предложений, статистически значимых различий между конверсиями двух групп нет \n",
    "- $H_1$: есть взаимосвязь между конверсией в покупку и набором акционных предложений, статистически значимые различия между конверсиями двух групп есть\n"
   ]
  },
  {
   "cell_type": "code",
   "execution_count": 56,
   "metadata": {
    "scrolled": true
   },
   "outputs": [
    {
     "data": {
      "text/html": [
       "<div>\n",
       "<style scoped>\n",
       "    .dataframe tbody tr th:only-of-type {\n",
       "        vertical-align: middle;\n",
       "    }\n",
       "\n",
       "    .dataframe tbody tr th {\n",
       "        vertical-align: top;\n",
       "    }\n",
       "\n",
       "    .dataframe thead th {\n",
       "        text-align: right;\n",
       "    }\n",
       "</style>\n",
       "<table border=\"1\" class=\"dataframe\">\n",
       "  <thead>\n",
       "    <tr style=\"text-align: right;\">\n",
       "      <th></th>\n",
       "      <th>user_id</th>\n",
       "      <th>revenue</th>\n",
       "      <th>testgroup</th>\n",
       "      <th>conversion</th>\n",
       "    </tr>\n",
       "  </thead>\n",
       "  <tbody>\n",
       "    <tr>\n",
       "      <th>404765</th>\n",
       "      <td>404766</td>\n",
       "      <td>0</td>\n",
       "      <td>a</td>\n",
       "      <td>0</td>\n",
       "    </tr>\n",
       "    <tr>\n",
       "      <th>404766</th>\n",
       "      <td>404767</td>\n",
       "      <td>0</td>\n",
       "      <td>b</td>\n",
       "      <td>0</td>\n",
       "    </tr>\n",
       "    <tr>\n",
       "      <th>404767</th>\n",
       "      <td>404768</td>\n",
       "      <td>231</td>\n",
       "      <td>a</td>\n",
       "      <td>1</td>\n",
       "    </tr>\n",
       "    <tr>\n",
       "      <th>404768</th>\n",
       "      <td>404769</td>\n",
       "      <td>0</td>\n",
       "      <td>a</td>\n",
       "      <td>0</td>\n",
       "    </tr>\n",
       "    <tr>\n",
       "      <th>404769</th>\n",
       "      <td>404770</td>\n",
       "      <td>0</td>\n",
       "      <td>b</td>\n",
       "      <td>0</td>\n",
       "    </tr>\n",
       "  </tbody>\n",
       "</table>\n",
       "</div>"
      ],
      "text/plain": [
       "        user_id  revenue testgroup  conversion\n",
       "404765   404766        0         a           0\n",
       "404766   404767        0         b           0\n",
       "404767   404768      231         a           1\n",
       "404768   404769        0         a           0\n",
       "404769   404770        0         b           0"
      ]
     },
     "execution_count": 56,
     "metadata": {},
     "output_type": "execute_result"
    }
   ],
   "source": [
    "# Создаем новую колонку в df о факте конверсии 0 -нет, 1 -да\n",
    "df['conversion'] = (df['revenue'] != 0).astype(int)\n",
    "df.tail()"
   ]
  },
  {
   "cell_type": "code",
   "execution_count": 57,
   "metadata": {},
   "outputs": [],
   "source": [
    "stat, p, dof, expected = chi2_contingency(pd.crosstab(df.conversion, df.testgroup))"
   ]
  },
  {
   "cell_type": "code",
   "execution_count": 58,
   "metadata": {},
   "outputs": [
    {
     "data": {
      "text/plain": [
       "(4.374729521260405, 0.03647561892312613)"
      ]
     },
     "execution_count": 58,
     "metadata": {},
     "output_type": "execute_result"
    }
   ],
   "source": [
    "stat, p"
   ]
  },
  {
   "cell_type": "code",
   "execution_count": 59,
   "metadata": {},
   "outputs": [
    {
     "name": "stdout",
     "output_type": "stream",
     "text": [
      "Отклоняем H0\n"
     ]
    }
   ],
   "source": [
    "# По значению p-value\n",
    "prob = 0.95\n",
    "alpha = 1.0 - prob\n",
    "if p <= alpha:\n",
    "    print('Отклоняем H0')\n",
    "else:\n",
    "    print('Не отклоняем H0')"
   ]
  },
  {
   "cell_type": "markdown",
   "metadata": {},
   "source": [
    "Отклоняем нулевую гипотезу, так как p-value = 0.036, что меньше 0.05. Статистически значимые различия между конверсиями групп $a$ и $b$ есть, конверсия в контрольной группе выше."
   ]
  },
  {
   "cell_type": "markdown",
   "metadata": {},
   "source": [
    "#### Метрика ARPU  – средний доход с привлеченного пользователя. "
   ]
  },
  {
   "cell_type": "markdown",
   "metadata": {},
   "source": [
    "- $H_0$: - среднее значение выручки пользователя тестовой группы не отличается от среднего значения выручки пользователя контрольной группы\n",
    "\n",
    "- $H_1$: - среднее значение выручки пользователя тестовой группы отличается от среднего значения выручки пользователя контрольной группы"
   ]
  },
  {
   "cell_type": "markdown",
   "metadata": {},
   "source": [
    "Наблюдения в обеих группах распределены не нормально, также имеются большие выбросы, поэтому для проверки стат значимости различий будем использовать метод bootstrap."
   ]
  },
  {
   "cell_type": "code",
   "execution_count": 60,
   "metadata": {},
   "outputs": [],
   "source": [
    "df_a = df.query(\"testgroup=='a'\")\n",
    "df_b = df.query(\"testgroup=='b'\")"
   ]
  },
  {
   "cell_type": "code",
   "execution_count": 61,
   "metadata": {},
   "outputs": [],
   "source": [
    "df_a_1 = df.query(\"testgroup=='a' and revenue>0\")\n",
    "df_b_1 = df.query(\"testgroup=='b' and revenue>0\")"
   ]
  },
  {
   "cell_type": "code",
   "execution_count": 62,
   "metadata": {
    "scrolled": true
   },
   "outputs": [
    {
     "name": "stdout",
     "output_type": "stream",
     "text": [
      "95% Confidence interval for the difference of means: [-5.42584692  2.94016661]\n"
     ]
    }
   ],
   "source": [
    "# Данные для двух выборок\n",
    "data_a = df_a.revenue\n",
    "data_b = df_b.revenue\n",
    "\n",
    "# Количество бутстреп-выборок\n",
    "num_samples = 1000\n",
    "\n",
    "# Массив для хранения разниц средних значений бутстреп-выборок\n",
    "bootstrap_diff_means = np.zeros(num_samples)\n",
    "\n",
    "# Генерация бутстреп-выборок и вычисление разниц средних\n",
    "for i in range(num_samples):\n",
    "    # Генерация бутстреп-выборок с заменой\n",
    "    bootstrap_sample_a = np.random.choice(data_a, size=len(data_a), replace=True)\n",
    "    bootstrap_sample_b = np.random.choice(data_b, size=len(data_b), replace=True)\n",
    "    \n",
    "    # Средние значения для бутстреп-выборок\n",
    "    bootstrap_mean_a = np.mean(bootstrap_sample_a)\n",
    "    bootstrap_mean_b = np.mean(bootstrap_sample_b)\n",
    "    \n",
    "    # Разница средних значений\n",
    "    bootstrap_diff_means[i] = bootstrap_mean_a - bootstrap_mean_b\n",
    "\n",
    "# Вычисление 95%-го доверительного интервала для разницы средних\n",
    "confidence_interval = np.percentile(bootstrap_diff_means, [2.5, 97.5])\n",
    "\n",
    "print(\"95% Confidence interval for the difference of means:\", confidence_interval)\n"
   ]
  },
  {
   "cell_type": "code",
   "execution_count": 63,
   "metadata": {},
   "outputs": [
    {
     "name": "stdout",
     "output_type": "stream",
     "text": [
      "Bootstrap p-value: 0.487\n"
     ]
    }
   ],
   "source": [
    "group_a = df_a.revenue\n",
    "group_b = df_b.revenue\n",
    "\n",
    "num_samples = 1000\n",
    "bootstrap_diffs = np.zeros(num_samples)\n",
    "\n",
    "# Бутстреп-выборки\n",
    "for i in range(num_samples):\n",
    "    bootstrap_group_a = np.random.choice(group_a, size=len(group_a), replace=True)\n",
    "    bootstrap_group_b = np.random.choice(group_b, size=len(group_b), replace=True)\n",
    "     \n",
    "    bootstrap_diff = np.mean(bootstrap_group_a) - np.mean(bootstrap_group_b)\n",
    "    bootstrap_diffs[i] = bootstrap_diff\n",
    "\n",
    "# Вычисляем p-значение\n",
    "observed_diff = np.mean(group_a) - np.mean(group_b)\n",
    "p_value = np.mean(bootstrap_diffs >= observed_diff)\n",
    " \n",
    "print(\"Bootstrap p-value:\", p_value)\n"
   ]
  },
  {
   "cell_type": "markdown",
   "metadata": {},
   "source": [
    "Доверительный интервал проходит через 0, p-value = 0.487, что больше 0.05, нет оснований отклонять нулевую гипотезу для метрики ARPU. Среднее значение выручки пользователя тестовой группы не отличается от среднего значения выручки пользователя контрольной группы."
   ]
  },
  {
   "cell_type": "markdown",
   "metadata": {},
   "source": [
    "#### Метрика ARPPU  – средний доход на платящего пользователя (клиента). "
   ]
  },
  {
   "cell_type": "markdown",
   "metadata": {},
   "source": [
    "- $H_0$: - среднее значение выручки платящего пользователя тестовой группы не отличается от среднего значения выручки платящего пользователя контрольной группы\n",
    "\n",
    "- $H_1$: - среднее значение выручки платящего пользователя тестовой группы отличается от среднего значения выручки платящего пользователя контрольной группы"
   ]
  },
  {
   "cell_type": "code",
   "execution_count": 64,
   "metadata": {},
   "outputs": [
    {
     "name": "stdout",
     "output_type": "stream",
     "text": [
      "95% Confidence interval for the difference of means: [-730.052782     61.69937661]\n"
     ]
    }
   ],
   "source": [
    "# Данные для двух выборок\n",
    "data_a_1 = df_a_1.revenue\n",
    "data_b_1 = df_b_1.revenue\n",
    "\n",
    "# Количество бутстреп-выборок\n",
    "num_samples = 1000\n",
    "\n",
    "# Массив для хранения разниц средних значений бутстреп-выборок\n",
    "bootstrap_diff_means = np.zeros(num_samples)\n",
    "\n",
    "# Генерация бутстреп-выборок и вычисление разниц средних\n",
    "for i in range(num_samples):\n",
    "    # Генерация бутстреп-выборок с заменой\n",
    "    bootstrap_sample_a = np.random.choice(data_a_1, size=len(data_a_1), replace=True)\n",
    "    bootstrap_sample_b = np.random.choice(data_b_1, size=len(data_b_1), replace=True)\n",
    "    \n",
    "    # Средние значения для бутстреп-выборок\n",
    "    bootstrap_mean_a = np.mean(bootstrap_sample_a)\n",
    "    bootstrap_mean_b = np.mean(bootstrap_sample_b)\n",
    "    \n",
    "    # Разница средних значений\n",
    "    bootstrap_diff_means[i] = bootstrap_mean_a - bootstrap_mean_b\n",
    "\n",
    "# Вычисление 95%-го доверительного интервала для разницы средних\n",
    "confidence_interval = np.percentile(bootstrap_diff_means, [2.5, 97.5])\n",
    "\n",
    "print(\"95% Confidence interval for the difference of means:\", confidence_interval)\n"
   ]
  },
  {
   "cell_type": "code",
   "execution_count": 65,
   "metadata": {},
   "outputs": [
    {
     "name": "stdout",
     "output_type": "stream",
     "text": [
      "Bootstrap p-value: 0.488\n"
     ]
    }
   ],
   "source": [
    "group_a_1 = df_a_1.revenue\n",
    "group_b_2 = df_b_1.revenue\n",
    "\n",
    "num_samples = 1000\n",
    "bootstrap_diffs = np.zeros(num_samples)\n",
    "\n",
    "# Бутстреп-выборки\n",
    "for i in range(num_samples):\n",
    "    bootstrap_group1 = np.random.choice(group_a_1, size=len(group_a_1), replace=True)\n",
    "    bootstrap_group2 = np.random.choice(group_b_2, size=len(group_b_2), replace=True)\n",
    "     \n",
    "    bootstrap_diff = np.mean(bootstrap_group1) - np.mean(bootstrap_group2)\n",
    "    bootstrap_diffs[i] = bootstrap_diff\n",
    "\n",
    "# Вычисляем p-значение\n",
    "observed_diff = np.mean(group_a_1) - np.mean(group_b_2)\n",
    "p_value = np.mean(bootstrap_diffs >= observed_diff)\n",
    " \n",
    "print(\"Bootstrap p-value:\", p_value)\n"
   ]
  },
  {
   "cell_type": "markdown",
   "metadata": {},
   "source": [
    "Доверительный интервал проходит через 0, p-value = 0.488, что больше 0.05, нет оснований отклонять нулевую гипотезу для метрики ARPPU. Среднее значение выручки платящего пользователя тестовой группы не отличается от среднего значения выручки платящего пользователя контрольной группы."
   ]
  },
  {
   "cell_type": "markdown",
   "metadata": {},
   "source": [
    "### Выводы\n",
    "Исходя из полученных результатов статистических тестов можно сделать следующие выводы:\n",
    "- набор акционных предложений никак не повлиял на среднюю выручку с пользователя;\n",
    "- конверсия в покупку в контрольной группе выше чем в тестовой, различия статистически значимы\n",
    "\n",
    "В контрольной группе имеются выбросы, которые существенно влияют на оценку среднего значения revenue, поэтому нельзя однозначно утверждать, какой набор акционных предложений лучше. Следует дополнительно проанализировать выбросы, причины их возникновения в контрольной группе и отсутствия в тестовой.\n",
    "\n",
    "На данном этапе не рекоммендуется включать нововведения на всех пользователей."
   ]
  },
  {
   "cell_type": "markdown",
   "metadata": {},
   "source": [
    "## Задание 3\n",
    "В игре Plants & Gardens каждый месяц проводятся тематические события, ограниченные по времени. В них игроки могут получить уникальные предметы для сада и персонажей, дополнительные монеты или бонусы. Для получения награды требуется пройти ряд уровней за определенное время. С помощью каких метрик можно оценить результаты последнего прошедшего события?\n",
    "\n",
    "Предположим, в другом событии мы усложнили механику событий так, что при каждой неудачной попытке выполнения уровня игрок будет откатываться на несколько уровней назад. Изменится ли набор метрик оценки результата? Если да, то как?"
   ]
  },
  {
   "cell_type": "markdown",
   "metadata": {},
   "source": [
    "В первом случае я бы предложила следующие метрики для оценки результатов прошедшего события:\n",
    " - Дневная аудитория (DAU) — количество уникальных пользователей, которые зашли в игру в течение суток.\n",
    " - Месячная аудитория (MAU) — количество уникальных пользователей, которые зашли в игру в течение месяца. По отношению средней дневной аудитории к месячной можно понимать частоту использования игры во время события.\n",
    " - Конверсия в событие (conversion rate, CR) — отношение числа пользователей, которые приняли участие в событии к общему числу пользователей.\n",
    " - Конверсия в завершение события — отношение числа пользователей, которые участвовали в событии до последнего дня к общему числу пользователей, которые приняли участие в событии.\n",
    " - Retention n-го дня — сколько игроков, пришедших в определенный день тематического события вернулось в продукт на n-ый день с момента своего прихода.\n",
    " - Коэффициента оттока (churn rate) — количество игроков, которые ушли из игры после прошедего события.\n",
    " - ARPU  - средний доход с привлечённого пользователя.\n",
    " - ARPPU - средний доход на платящего пользователя.\n",
    " - Доход, полученный с пользователей во время прохождения тематического события.\n",
    " - Средняя продолжительность сессии.\n",
    " - Количество сессий всего.\n",
    " \n",
    "Во втором случае я бы оставила все предыдущие метрики и добавила:\n",
    " - Процент откатившихся игроков от числа всех участников события.\n",
    " - Конверсия возвращение в событие после отката - отношение числа пользователей, продолживших событие после отката к общему числу откатившихся пользователей.\n",
    " - Конверсия в завершение события откатившихся хотя бы раз игроков - отношение числа пользователей, завершивших событие, у которых был откат к общему числу откатившихся пользователей."
   ]
  },
  {
   "cell_type": "code",
   "execution_count": null,
   "metadata": {},
   "outputs": [],
   "source": []
  }
 ],
 "metadata": {
  "kernelspec": {
   "display_name": "Python 3 (ipykernel)",
   "language": "python",
   "name": "python3"
  },
  "language_info": {
   "codemirror_mode": {
    "name": "ipython",
    "version": 3
   },
   "file_extension": ".py",
   "mimetype": "text/x-python",
   "name": "python",
   "nbconvert_exporter": "python",
   "pygments_lexer": "ipython3",
   "version": "3.11.5"
  }
 },
 "nbformat": 4,
 "nbformat_minor": 4
}
